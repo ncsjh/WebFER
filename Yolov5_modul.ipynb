{
 "cells": [
  {
   "cell_type": "code",
   "execution_count": 1,
   "id": "90529e7e",
   "metadata": {},
   "outputs": [
    {
     "name": "stdout",
     "output_type": "stream",
     "text": [
      "C:\\Users\\smhrd\\RuningMachine\\yolov5\n"
     ]
    }
   ],
   "source": [
    "#YOLO 사용하기위한 라이브러리\n",
    "import torch\n",
    "from glob import glob\n",
    "import yaml\n",
    "from IPython.display import Image\n",
    "import os\n",
    "import cv2\n",
    "import tensorflow as tf\n",
    "from tensorflow.keras.models import save_model, Sequential\n",
    "from tensorflow.python.keras.models import load_model\n",
    "import numpy as np\n",
    "%cd yolov5/\n",
    "import detect_simple as ds\n",
    "import gc\n",
    "import torch\n",
    "\n",
    "mt_model = ''"
   ]
  },
  {
   "cell_type": "code",
   "execution_count": null,
   "id": "084a50e1",
   "metadata": {},
   "outputs": [],
   "source": [
    "import matplotlib.pyplot as plt"
   ]
  },
  {
   "cell_type": "code",
   "execution_count": null,
   "id": "171e07a1",
   "metadata": {},
   "outputs": [],
   "source": [
    "#USE_CUDA = torch.cuda.is_available()\n",
    "#print(USE_CUDA)\n",
    "\n",
    "#device = torch.device('cuda:0' if USE_CUDA else 'cpu')\n",
    "device = torch.device('cpu')\n",
    "print(device)\n",
    "#device"
   ]
  },
  {
   "cell_type": "code",
   "execution_count": null,
   "id": "0c1a9a6a",
   "metadata": {},
   "outputs": [],
   "source": [
    "def train_weight():\n",
    "    now_path = %pwd\n",
    "    \n",
    "    if now_path == 'C:\\\\Users\\\\smhrd\\\\RuningMachine\\\\yolov5':\n",
    "        !python train.py --img 240 --epochs 15 --data ./dataset/data.yaml --weights yolov5s.pt\n",
    "    else:\n",
    "        %cd C:\\\\Users\\\\smhrd\\\\RuningMachine\\\\yolov5\n",
    "        %pwd\n",
    "        !python train.py --img 240 --epochs 15 --data ./dataset/data.yaml --weights yolov5s.pt"
   ]
  },
  {
   "cell_type": "code",
   "execution_count": null,
   "id": "89ac79e2",
   "metadata": {
    "scrolled": true
   },
   "outputs": [],
   "source": [
    "%cd yolov5/"
   ]
  },
  {
   "cell_type": "code",
   "execution_count": null,
   "id": "762e5735",
   "metadata": {},
   "outputs": [],
   "source": [
    "!python detect.py --weights ./runs\\train\\300epoch\\weights\\best.pt --img 240 --source ./testv2.mp4"
   ]
  },
  {
   "cell_type": "code",
   "execution_count": null,
   "id": "3b192a20",
   "metadata": {},
   "outputs": [],
   "source": [
    "#만들어진 모델 텐서타입으로.\n",
    "!python export.py --weights '.\\runs\\train\\300epoch\\weights\\best.pt' --include saved_model"
   ]
  },
  {
   "cell_type": "code",
   "execution_count": null,
   "id": "b465506e",
   "metadata": {},
   "outputs": [],
   "source": [
    "path = 'C:/Users/smhrd/RuningMachine/yolov5/best_saved_model/'\n",
    "reconstructed_model=tf.keras.models.load_model(path,compile=False)"
   ]
  },
  {
   "cell_type": "code",
   "execution_count": null,
   "id": "ca555d6c",
   "metadata": {},
   "outputs": [],
   "source": [
    "reconstructed_model.summary()"
   ]
  },
  {
   "cell_type": "markdown",
   "id": "e655636c",
   "metadata": {},
   "source": [
    "# simply detct import 하는 방식 시도"
   ]
  },
  {
   "cell_type": "markdown",
   "id": "d2efe627",
   "metadata": {},
   "source": [
    "# 기존 디텍트 하는 방식에서 변경\n",
    "- !python detect.py --weights yolov5s.pt --img 640 --conf 0.25 --source data/images\n",
    "- #display.Image(filename='runs/detect/exp/zidane.jpg', width=600) ->>> 이부분"
   ]
  },
  {
   "cell_type": "code",
   "execution_count": 24,
   "id": "471a5a5a",
   "metadata": {},
   "outputs": [],
   "source": [
    "# 모션모델 분별함수\n",
    "def motion_model_run(frame):\n",
    "    global mt_model\n",
    "    frame = cv2.resize(frame, (480,240))\n",
    "\n",
    "    images=cv2.resize(frame,(224,224))\n",
    "    images = np.array([images])\n",
    "    pers=int((mt_model.predict(images)[0][1])*100)\n",
    "    \n",
    "    if mt_model.predict_classes(images) == 1 :\n",
    "        a=\"CATCH\"\n",
    "    else :\n",
    "        a=\"\"\n",
    "    \n",
    "    cv2.rectangle(frame,(0,0),(90,20),(255,255,255),-1)\n",
    "    cv2.putText(frame, str(a), (10,15),cv2.FONT_HERSHEY_SIMPLEX,0.4,(0,0,0),1,cv2.LINE_AA)\n",
    "    print(\"정확도:\",str(pers)+\" %\")\n",
    "    cv2.putText(frame, str(pers)+\" %\", (55,15),cv2.FONT_HERSHEY_SIMPLEX,0.4,(0,0,0),1,cv2.LINE_AA)\n",
    "        \n",
    "    return frame , a , pers"
   ]
  },
  {
   "cell_type": "code",
   "execution_count": 25,
   "id": "fb2bf12e",
   "metadata": {},
   "outputs": [
    {
     "name": "stdout",
     "output_type": "stream",
     "text": [
      "[WinError 2] 지정된 파일을 찾을 수 없습니다: 'yolov5/'\n",
      "C:\\Users\\smhrd\\RuningMachine\\yolov5\n",
      " * Serving Flask app '__main__' (lazy loading)\n",
      " * Environment: production\n",
      "\u001b[31m   WARNING: This is a development server. Do not use it in a production deployment.\u001b[0m\n",
      "\u001b[2m   Use a production WSGI server instead.\u001b[0m\n",
      " * Debug mode: off\n"
     ]
    },
    {
     "name": "stderr",
     "output_type": "stream",
     "text": [
      " * Running on http://121.147.0.176:2000/ (Press CTRL+C to quit)\n",
      "121.147.0.176 - - [07/Feb/2022 11:01:44] \"GET / HTTP/1.1\" 200 -\n",
      "YOLOv5  v6.0-193-gdb1f83b torch 1.10.1 CUDA:0 (NVIDIA GeForce RTX 2070, 8192MiB)\n",
      "\n",
      "Fusing layers... \n"
     ]
    },
    {
     "name": "stdout",
     "output_type": "stream",
     "text": [
      "정확도: 0 %\n",
      "사용 모델: runs/train/300epoch/weights/best.pt\n",
      "device: cuda:0\n"
     ]
    },
    {
     "name": "stderr",
     "output_type": "stream",
     "text": [
      "Model Summary: 213 layers, 7371523 parameters, 0 gradients, 17.0 GFLOPs\n",
      "121.147.0.176 - - [07/Feb/2022 11:01:47] \"POST /fileUpload HTTP/1.1\" 200 -\n"
     ]
    },
    {
     "name": "stdout",
     "output_type": "stream",
     "text": [
      "객체명:snack_pepero, 확률:0.42%\n",
      "Inferencing and Processing Done. (0.033s)\n",
      "정확도: 0 %\n",
      "사용 모델: runs/train/300epoch/weights/best.pt\n"
     ]
    },
    {
     "name": "stderr",
     "output_type": "stream",
     "text": [
      "YOLOv5  v6.0-193-gdb1f83b torch 1.10.1 CUDA:0 (NVIDIA GeForce RTX 2070, 8192MiB)\n",
      "\n",
      "Fusing layers... \n"
     ]
    },
    {
     "name": "stdout",
     "output_type": "stream",
     "text": [
      "device: cuda:0\n"
     ]
    },
    {
     "name": "stderr",
     "output_type": "stream",
     "text": [
      "Model Summary: 213 layers, 7371523 parameters, 0 gradients, 17.0 GFLOPs\n",
      "YOLOv5  v6.0-193-gdb1f83b torch 1.10.1 CUDA:0 (NVIDIA GeForce RTX 2070, 8192MiB)\n",
      "\n"
     ]
    },
    {
     "name": "stdout",
     "output_type": "stream",
     "text": [
      "객체명:snack_pepero, 확률:0.42%\n",
      "Inferencing and Processing Done. (0.013s)\n",
      "정확도: 0 %\n",
      "사용 모델: runs/train/300epoch/weights/best.pt\n"
     ]
    },
    {
     "name": "stderr",
     "output_type": "stream",
     "text": [
      "Fusing layers... \n",
      "Model Summary: 213 layers, 7371523 parameters, 0 gradients, 17.0 GFLOPs\n"
     ]
    },
    {
     "name": "stdout",
     "output_type": "stream",
     "text": [
      "device: cuda:0\n"
     ]
    },
    {
     "name": "stderr",
     "output_type": "stream",
     "text": [
      "YOLOv5  v6.0-193-gdb1f83b torch 1.10.1 CUDA:0 (NVIDIA GeForce RTX 2070, 8192MiB)\n",
      "\n"
     ]
    },
    {
     "name": "stdout",
     "output_type": "stream",
     "text": [
      "객체명:snack_pepero, 확률:0.40%\n",
      "Inferencing and Processing Done. (0.015s)\n",
      "정확도: 0 %\n",
      "사용 모델: runs/train/300epoch/weights/best.pt\n"
     ]
    },
    {
     "name": "stderr",
     "output_type": "stream",
     "text": [
      "Fusing layers... \n",
      "Model Summary: 213 layers, 7371523 parameters, 0 gradients, 17.0 GFLOPs\n"
     ]
    },
    {
     "name": "stdout",
     "output_type": "stream",
     "text": [
      "device: cuda:0\n"
     ]
    },
    {
     "name": "stderr",
     "output_type": "stream",
     "text": [
      "YOLOv5  v6.0-193-gdb1f83b torch 1.10.1 CUDA:0 (NVIDIA GeForce RTX 2070, 8192MiB)\n",
      "\n"
     ]
    },
    {
     "name": "stdout",
     "output_type": "stream",
     "text": [
      "객체명:snack_pepero, 확률:0.40%\n",
      "Inferencing and Processing Done. (0.015s)\n",
      "정확도: 0 %\n",
      "사용 모델: runs/train/300epoch/weights/best.pt\n"
     ]
    },
    {
     "name": "stderr",
     "output_type": "stream",
     "text": [
      "Fusing layers... \n",
      "Model Summary: 213 layers, 7371523 parameters, 0 gradients, 17.0 GFLOPs\n"
     ]
    },
    {
     "name": "stdout",
     "output_type": "stream",
     "text": [
      "device: cuda:0\n",
      "객체명:coffee_, 확률:0.26%\n",
      "객체명:snack_pepero, 확률:0.38%\n",
      "Inferencing and Processing Done. (0.014s)\n",
      "정확도: 0 %\n",
      "사용 모델: runs/train/300epoch/weights/best.pt\n"
     ]
    },
    {
     "name": "stderr",
     "output_type": "stream",
     "text": [
      "YOLOv5  v6.0-193-gdb1f83b torch 1.10.1 CUDA:0 (NVIDIA GeForce RTX 2070, 8192MiB)\n",
      "\n",
      "Fusing layers... \n",
      "Model Summary: 213 layers, 7371523 parameters, 0 gradients, 17.0 GFLOPs\n"
     ]
    },
    {
     "name": "stdout",
     "output_type": "stream",
     "text": [
      "device: cuda:0\n",
      "객체명:snack_pepero, 확률:0.40%\n",
      "Inferencing and Processing Done. (0.016s)\n",
      "정확도: 0 %\n"
     ]
    },
    {
     "name": "stderr",
     "output_type": "stream",
     "text": [
      "YOLOv5  v6.0-193-gdb1f83b torch 1.10.1 CUDA:0 (NVIDIA GeForce RTX 2070, 8192MiB)\n",
      "\n",
      "Fusing layers... \n"
     ]
    },
    {
     "name": "stdout",
     "output_type": "stream",
     "text": [
      "사용 모델: runs/train/300epoch/weights/best.pt\n",
      "device: cuda:0\n"
     ]
    },
    {
     "name": "stderr",
     "output_type": "stream",
     "text": [
      "Model Summary: 213 layers, 7371523 parameters, 0 gradients, 17.0 GFLOPs\n"
     ]
    },
    {
     "name": "stdout",
     "output_type": "stream",
     "text": [
      "객체명:snack_pepero, 확률:0.40%\n",
      "Inferencing and Processing Done. (0.015s)\n",
      "정확도: 0 %\n"
     ]
    },
    {
     "name": "stderr",
     "output_type": "stream",
     "text": [
      "YOLOv5  v6.0-193-gdb1f83b torch 1.10.1 CUDA:0 (NVIDIA GeForce RTX 2070, 8192MiB)\n",
      "\n",
      "Fusing layers... \n"
     ]
    },
    {
     "name": "stdout",
     "output_type": "stream",
     "text": [
      "사용 모델: runs/train/300epoch/weights/best.pt\n",
      "device: cuda:0\n"
     ]
    },
    {
     "name": "stderr",
     "output_type": "stream",
     "text": [
      "Model Summary: 213 layers, 7371523 parameters, 0 gradients, 17.0 GFLOPs\n"
     ]
    },
    {
     "name": "stdout",
     "output_type": "stream",
     "text": [
      "객체명:snack_pepero, 확률:0.40%\n",
      "Inferencing and Processing Done. (0.018s)\n",
      "정확도: 0 %\n",
      "사용 모델: runs/train/300epoch/weights/best.pt\n"
     ]
    },
    {
     "name": "stderr",
     "output_type": "stream",
     "text": [
      "YOLOv5  v6.0-193-gdb1f83b torch 1.10.1 CUDA:0 (NVIDIA GeForce RTX 2070, 8192MiB)\n",
      "\n",
      "Fusing layers... \n",
      "Model Summary: 213 layers, 7371523 parameters, 0 gradients, 17.0 GFLOPs\n"
     ]
    },
    {
     "name": "stdout",
     "output_type": "stream",
     "text": [
      "device: cuda:0\n",
      "객체명:snack_pepero, 확률:0.39%\n",
      "Inferencing and Processing Done. (0.015s)\n",
      "정확도: 0 %\n",
      "사용 모델: runs/train/300epoch/weights/best.pt\n"
     ]
    },
    {
     "name": "stderr",
     "output_type": "stream",
     "text": [
      "YOLOv5  v6.0-193-gdb1f83b torch 1.10.1 CUDA:0 (NVIDIA GeForce RTX 2070, 8192MiB)\n",
      "\n",
      "Fusing layers... \n",
      "Model Summary: 213 layers, 7371523 parameters, 0 gradients, 17.0 GFLOPs\n"
     ]
    },
    {
     "name": "stdout",
     "output_type": "stream",
     "text": [
      "device: cuda:0\n"
     ]
    },
    {
     "name": "stderr",
     "output_type": "stream",
     "text": [
      "YOLOv5  v6.0-193-gdb1f83b torch 1.10.1 CUDA:0 (NVIDIA GeForce RTX 2070, 8192MiB)\n",
      "\n"
     ]
    },
    {
     "name": "stdout",
     "output_type": "stream",
     "text": [
      "객체명:coffee_, 확률:0.27%\n",
      "객체명:snack_pepero, 확률:0.35%\n",
      "Inferencing and Processing Done. (0.018s)\n",
      "정확도: 1 %\n",
      "사용 모델: runs/train/300epoch/weights/best.pt\n"
     ]
    },
    {
     "name": "stderr",
     "output_type": "stream",
     "text": [
      "Fusing layers... \n",
      "Model Summary: 213 layers, 7371523 parameters, 0 gradients, 17.0 GFLOPs\n"
     ]
    },
    {
     "name": "stdout",
     "output_type": "stream",
     "text": [
      "device: cuda:0\n",
      "객체명:coffee_, 확률:0.26%\n",
      "객체명:snack_pepero, 확률:0.36%\n",
      "Inferencing and Processing Done. (0.016s)\n",
      "정확도: 1 %\n",
      "사용 모델: runs/train/300epoch/weights/best.pt\n"
     ]
    },
    {
     "name": "stderr",
     "output_type": "stream",
     "text": [
      "YOLOv5  v6.0-193-gdb1f83b torch 1.10.1 CUDA:0 (NVIDIA GeForce RTX 2070, 8192MiB)\n",
      "\n",
      "Fusing layers... \n",
      "Model Summary: 213 layers, 7371523 parameters, 0 gradients, 17.0 GFLOPs\n"
     ]
    },
    {
     "name": "stdout",
     "output_type": "stream",
     "text": [
      "device: cuda:0\n",
      "객체명:coffee_, 확률:0.27%\n",
      "객체명:snack_pepero, 확률:0.36%\n",
      "Inferencing and Processing Done. (0.019s)\n",
      "정확도: 1 %\n"
     ]
    },
    {
     "name": "stderr",
     "output_type": "stream",
     "text": [
      "YOLOv5  v6.0-193-gdb1f83b torch 1.10.1 CUDA:0 (NVIDIA GeForce RTX 2070, 8192MiB)\n",
      "\n",
      "Fusing layers... \n"
     ]
    },
    {
     "name": "stdout",
     "output_type": "stream",
     "text": [
      "사용 모델: runs/train/300epoch/weights/best.pt\n",
      "device: cuda:0\n"
     ]
    },
    {
     "name": "stderr",
     "output_type": "stream",
     "text": [
      "Model Summary: 213 layers, 7371523 parameters, 0 gradients, 17.0 GFLOPs\n"
     ]
    },
    {
     "name": "stdout",
     "output_type": "stream",
     "text": [
      "객체명:coffee_, 확률:0.27%\n",
      "객체명:snack_pepero, 확률:0.32%\n",
      "Inferencing and Processing Done. (0.016s)\n",
      "정확도: 1 %\n",
      "사용 모델: runs/train/300epoch/weights/best.pt\n"
     ]
    },
    {
     "name": "stderr",
     "output_type": "stream",
     "text": [
      "YOLOv5  v6.0-193-gdb1f83b torch 1.10.1 CUDA:0 (NVIDIA GeForce RTX 2070, 8192MiB)\n",
      "\n",
      "Fusing layers... \n",
      "Model Summary: 213 layers, 7371523 parameters, 0 gradients, 17.0 GFLOPs\n"
     ]
    },
    {
     "name": "stdout",
     "output_type": "stream",
     "text": [
      "device: cuda:0\n",
      "객체명:snack_pepero, 확률:0.26%\n",
      "객체명:coffee_, 확률:0.32%\n",
      "Inferencing and Processing Done. (0.017s)\n",
      "정확도: 1 %\n",
      "사용 모델: runs/train/300epoch/weights/best.pt\n"
     ]
    },
    {
     "name": "stderr",
     "output_type": "stream",
     "text": [
      "YOLOv5  v6.0-193-gdb1f83b torch 1.10.1 CUDA:0 (NVIDIA GeForce RTX 2070, 8192MiB)\n",
      "\n",
      "Fusing layers... \n",
      "Model Summary: 213 layers, 7371523 parameters, 0 gradients, 17.0 GFLOPs\n"
     ]
    },
    {
     "name": "stdout",
     "output_type": "stream",
     "text": [
      "device: cuda:0\n",
      "객체명:snack_pepero, 확률:0.26%\n",
      "객체명:coffee_, 확률:0.34%\n",
      "Inferencing and Processing Done. (0.020s)\n",
      "정확도: 0 %\n"
     ]
    },
    {
     "name": "stderr",
     "output_type": "stream",
     "text": [
      "YOLOv5  v6.0-193-gdb1f83b torch 1.10.1 CUDA:0 (NVIDIA GeForce RTX 2070, 8192MiB)\n",
      "\n",
      "Fusing layers... \n"
     ]
    },
    {
     "name": "stdout",
     "output_type": "stream",
     "text": [
      "사용 모델: runs/train/300epoch/weights/best.pt\n",
      "device: cuda:0\n"
     ]
    },
    {
     "name": "stderr",
     "output_type": "stream",
     "text": [
      "Model Summary: 213 layers, 7371523 parameters, 0 gradients, 17.0 GFLOPs\n"
     ]
    },
    {
     "name": "stdout",
     "output_type": "stream",
     "text": [
      "객체명:snack_pepero, 확률:0.26%\n",
      "객체명:coffee_, 확률:0.34%\n",
      "Inferencing and Processing Done. (0.019s)\n"
     ]
    },
    {
     "name": "stderr",
     "output_type": "stream",
     "text": [
      "YOLOv5  v6.0-193-gdb1f83b torch 1.10.1 CUDA:0 (NVIDIA GeForce RTX 2070, 8192MiB)\n",
      "\n",
      "Fusing layers... \n"
     ]
    },
    {
     "name": "stdout",
     "output_type": "stream",
     "text": [
      "정확도: 0 %\n",
      "사용 모델: runs/train/300epoch/weights/best.pt\n",
      "device: cuda:0\n"
     ]
    },
    {
     "name": "stderr",
     "output_type": "stream",
     "text": [
      "Model Summary: 213 layers, 7371523 parameters, 0 gradients, 17.0 GFLOPs\n",
      "121.147.0.176 - - [07/Feb/2022 11:02:01] \"POST /fileUpload HTTP/1.1\" 200 -\n"
     ]
    },
    {
     "name": "stdout",
     "output_type": "stream",
     "text": [
      "객체명:snack_pepero, 확률:0.25%\n",
      "객체명:Ramen_udong, 확률:0.25%\n",
      "객체명:snack_pepero, 확률:0.26%\n",
      "Inferencing and Processing Done. (0.026s)\n",
      "정확도: 0 %\n",
      "사용 모델: runs/train/300epoch/weights/best.pt\n"
     ]
    },
    {
     "name": "stderr",
     "output_type": "stream",
     "text": [
      "YOLOv5  v6.0-193-gdb1f83b torch 1.10.1 CUDA:0 (NVIDIA GeForce RTX 2070, 8192MiB)\n",
      "\n",
      "Fusing layers... \n"
     ]
    },
    {
     "name": "stdout",
     "output_type": "stream",
     "text": [
      "device: cuda:0\n"
     ]
    },
    {
     "name": "stderr",
     "output_type": "stream",
     "text": [
      "Model Summary: 213 layers, 7371523 parameters, 0 gradients, 17.0 GFLOPs\n"
     ]
    },
    {
     "name": "stdout",
     "output_type": "stream",
     "text": [
      "객체명:snack_pepero, 확률:0.25%\n",
      "객체명:snack_pepero, 확률:0.26%\n",
      "Inferencing and Processing Done. (0.016s)\n",
      "정확도: 0 %\n",
      "사용 모델: runs/train/300epoch/weights/best.pt\n"
     ]
    },
    {
     "name": "stderr",
     "output_type": "stream",
     "text": [
      "YOLOv5  v6.0-193-gdb1f83b torch 1.10.1 CUDA:0 (NVIDIA GeForce RTX 2070, 8192MiB)\n",
      "\n",
      "Fusing layers... \n",
      "Model Summary: 213 layers, 7371523 parameters, 0 gradients, 17.0 GFLOPs\n"
     ]
    },
    {
     "name": "stdout",
     "output_type": "stream",
     "text": [
      "device: cuda:0\n",
      "객체명:Ramen_udong, 확률:0.26%\n",
      "Inferencing and Processing Done. (0.014s)\n",
      "정확도: 0 %\n",
      "사용 모델: runs/train/300epoch/weights/best.pt\n"
     ]
    },
    {
     "name": "stderr",
     "output_type": "stream",
     "text": [
      "YOLOv5  v6.0-193-gdb1f83b torch 1.10.1 CUDA:0 (NVIDIA GeForce RTX 2070, 8192MiB)\n",
      "\n",
      "Fusing layers... \n"
     ]
    },
    {
     "name": "stdout",
     "output_type": "stream",
     "text": [
      "device: cuda:0\n"
     ]
    },
    {
     "name": "stderr",
     "output_type": "stream",
     "text": [
      "Model Summary: 213 layers, 7371523 parameters, 0 gradients, 17.0 GFLOPs\n"
     ]
    },
    {
     "name": "stdout",
     "output_type": "stream",
     "text": [
      "객체명:Ramen_udong, 확률:0.26%\n",
      "Inferencing and Processing Done. (0.014s)\n",
      "정확도: 0 %\n",
      "사용 모델: runs/train/300epoch/weights/best.pt\n"
     ]
    },
    {
     "name": "stderr",
     "output_type": "stream",
     "text": [
      "YOLOv5  v6.0-193-gdb1f83b torch 1.10.1 CUDA:0 (NVIDIA GeForce RTX 2070, 8192MiB)\n",
      "\n",
      "Fusing layers... \n"
     ]
    },
    {
     "name": "stdout",
     "output_type": "stream",
     "text": [
      "device: cuda:0\n"
     ]
    },
    {
     "name": "stderr",
     "output_type": "stream",
     "text": [
      "Model Summary: 213 layers, 7371523 parameters, 0 gradients, 17.0 GFLOPs\n"
     ]
    },
    {
     "name": "stdout",
     "output_type": "stream",
     "text": [
      "객체명:Ramen_udong, 확률:0.28%\n",
      "Inferencing and Processing Done. (0.014s)\n",
      "정확도: 0 %\n"
     ]
    },
    {
     "name": "stderr",
     "output_type": "stream",
     "text": [
      "YOLOv5  v6.0-193-gdb1f83b torch 1.10.1 CUDA:0 (NVIDIA GeForce RTX 2070, 8192MiB)\n",
      "\n",
      "Fusing layers... \n"
     ]
    },
    {
     "name": "stdout",
     "output_type": "stream",
     "text": [
      "사용 모델: runs/train/300epoch/weights/best.pt\n",
      "device: cuda:0\n"
     ]
    },
    {
     "name": "stderr",
     "output_type": "stream",
     "text": [
      "Model Summary: 213 layers, 7371523 parameters, 0 gradients, 17.0 GFLOPs\n"
     ]
    },
    {
     "name": "stdout",
     "output_type": "stream",
     "text": [
      "객체명:Ramen_udong, 확률:0.29%\n",
      "Inferencing and Processing Done. (0.015s)\n",
      "정확도: 0 %\n",
      "사용 모델: runs/train/300epoch/weights/best.pt\n"
     ]
    },
    {
     "name": "stderr",
     "output_type": "stream",
     "text": [
      "YOLOv5  v6.0-193-gdb1f83b torch 1.10.1 CUDA:0 (NVIDIA GeForce RTX 2070, 8192MiB)\n",
      "\n",
      "Fusing layers... \n"
     ]
    },
    {
     "name": "stdout",
     "output_type": "stream",
     "text": [
      "device: cuda:0\n"
     ]
    },
    {
     "name": "stderr",
     "output_type": "stream",
     "text": [
      "Model Summary: 213 layers, 7371523 parameters, 0 gradients, 17.0 GFLOPs\n",
      "YOLOv5  v6.0-193-gdb1f83b torch 1.10.1 CUDA:0 (NVIDIA GeForce RTX 2070, 8192MiB)\n",
      "\n"
     ]
    },
    {
     "name": "stdout",
     "output_type": "stream",
     "text": [
      "객체명:Ramen_udong, 확률:0.28%\n",
      "Inferencing and Processing Done. (0.014s)\n",
      "정확도: 0 %\n",
      "사용 모델: runs/train/300epoch/weights/best.pt\n"
     ]
    },
    {
     "name": "stderr",
     "output_type": "stream",
     "text": [
      "Fusing layers... \n"
     ]
    },
    {
     "name": "stdout",
     "output_type": "stream",
     "text": [
      "device: cuda:0\n"
     ]
    },
    {
     "name": "stderr",
     "output_type": "stream",
     "text": [
      "Model Summary: 213 layers, 7371523 parameters, 0 gradients, 17.0 GFLOPs\n"
     ]
    },
    {
     "name": "stdout",
     "output_type": "stream",
     "text": [
      "객체명:Ramen_udong, 확률:0.28%\n",
      "Inferencing and Processing Done. (0.014s)\n",
      "정확도: 0 %\n",
      "사용 모델: runs/train/300epoch/weights/best.pt\n"
     ]
    },
    {
     "name": "stderr",
     "output_type": "stream",
     "text": [
      "YOLOv5  v6.0-193-gdb1f83b torch 1.10.1 CUDA:0 (NVIDIA GeForce RTX 2070, 8192MiB)\n",
      "\n",
      "Fusing layers... \n"
     ]
    },
    {
     "name": "stdout",
     "output_type": "stream",
     "text": [
      "device: cuda:0\n"
     ]
    },
    {
     "name": "stderr",
     "output_type": "stream",
     "text": [
      "Model Summary: 213 layers, 7371523 parameters, 0 gradients, 17.0 GFLOPs\n"
     ]
    },
    {
     "name": "stdout",
     "output_type": "stream",
     "text": [
      "객체명:Ramen_udong, 확률:0.26%\n",
      "Inferencing and Processing Done. (0.016s)\n",
      "정확도: 0 %\n"
     ]
    },
    {
     "name": "stderr",
     "output_type": "stream",
     "text": [
      "YOLOv5  v6.0-193-gdb1f83b torch 1.10.1 CUDA:0 (NVIDIA GeForce RTX 2070, 8192MiB)\n",
      "\n",
      "Fusing layers... \n"
     ]
    },
    {
     "name": "stdout",
     "output_type": "stream",
     "text": [
      "사용 모델: runs/train/300epoch/weights/best.pt\n",
      "device: cuda:0\n"
     ]
    },
    {
     "name": "stderr",
     "output_type": "stream",
     "text": [
      "Model Summary: 213 layers, 7371523 parameters, 0 gradients, 17.0 GFLOPs\n"
     ]
    },
    {
     "name": "stdout",
     "output_type": "stream",
     "text": [
      "객체명:Ramen_udong, 확률:0.28%\n",
      "Inferencing and Processing Done. (0.015s)\n",
      "정확도: 0 %\n"
     ]
    },
    {
     "name": "stderr",
     "output_type": "stream",
     "text": [
      "YOLOv5  v6.0-193-gdb1f83b torch 1.10.1 CUDA:0 (NVIDIA GeForce RTX 2070, 8192MiB)\n",
      "\n",
      "Fusing layers... \n"
     ]
    },
    {
     "name": "stdout",
     "output_type": "stream",
     "text": [
      "사용 모델: runs/train/300epoch/weights/best.pt\n",
      "device: cuda:0\n"
     ]
    },
    {
     "name": "stderr",
     "output_type": "stream",
     "text": [
      "Model Summary: 213 layers, 7371523 parameters, 0 gradients, 17.0 GFLOPs\n"
     ]
    },
    {
     "name": "stdout",
     "output_type": "stream",
     "text": [
      "객체명:Ramen_udong, 확률:0.28%\n",
      "Inferencing and Processing Done. (0.014s)\n",
      "정확도: 0 %\n",
      "사용 모델: runs/train/300epoch/weights/best.pt\n"
     ]
    },
    {
     "name": "stderr",
     "output_type": "stream",
     "text": [
      "YOLOv5  v6.0-193-gdb1f83b torch 1.10.1 CUDA:0 (NVIDIA GeForce RTX 2070, 8192MiB)\n",
      "\n",
      "Fusing layers... \n"
     ]
    },
    {
     "name": "stdout",
     "output_type": "stream",
     "text": [
      "device: cuda:0\n"
     ]
    },
    {
     "name": "stderr",
     "output_type": "stream",
     "text": [
      "Model Summary: 213 layers, 7371523 parameters, 0 gradients, 17.0 GFLOPs\n"
     ]
    },
    {
     "name": "stdout",
     "output_type": "stream",
     "text": [
      "객체명:Ramen_udong, 확률:0.28%\n",
      "Inferencing and Processing Done. (0.015s)\n",
      "정확도: 0 %\n"
     ]
    },
    {
     "name": "stderr",
     "output_type": "stream",
     "text": [
      "YOLOv5  v6.0-193-gdb1f83b torch 1.10.1 CUDA:0 (NVIDIA GeForce RTX 2070, 8192MiB)\n",
      "\n",
      "Fusing layers... \n"
     ]
    },
    {
     "name": "stdout",
     "output_type": "stream",
     "text": [
      "사용 모델: runs/train/300epoch/weights/best.pt\n",
      "device: cuda:0\n"
     ]
    },
    {
     "name": "stderr",
     "output_type": "stream",
     "text": [
      "Model Summary: 213 layers, 7371523 parameters, 0 gradients, 17.0 GFLOPs\n"
     ]
    },
    {
     "name": "stdout",
     "output_type": "stream",
     "text": [
      "객체명:Ramen_udong, 확률:0.26%\n",
      "객체명:coffee_, 확률:0.26%\n",
      "Inferencing and Processing Done. (0.016s)\n",
      "정확도: 0 %\n",
      "사용 모델: runs/train/300epoch/weights/best.pt\n"
     ]
    },
    {
     "name": "stderr",
     "output_type": "stream",
     "text": [
      "YOLOv5  v6.0-193-gdb1f83b torch 1.10.1 CUDA:0 (NVIDIA GeForce RTX 2070, 8192MiB)\n",
      "\n",
      "Fusing layers... \n",
      "Model Summary: 213 layers, 7371523 parameters, 0 gradients, 17.0 GFLOPs\n"
     ]
    },
    {
     "name": "stdout",
     "output_type": "stream",
     "text": [
      "device: cuda:0\n",
      "객체명:Ramen_udong, 확률:0.25%\n",
      "객체명:coffee_, 확률:0.26%\n",
      "Inferencing and Processing Done. (0.016s)\n",
      "정확도: 0 %\n"
     ]
    },
    {
     "name": "stderr",
     "output_type": "stream",
     "text": [
      "YOLOv5  v6.0-193-gdb1f83b torch 1.10.1 CUDA:0 (NVIDIA GeForce RTX 2070, 8192MiB)\n",
      "\n",
      "Fusing layers... \n"
     ]
    },
    {
     "name": "stdout",
     "output_type": "stream",
     "text": [
      "사용 모델: runs/train/300epoch/weights/best.pt\n",
      "device: cuda:0\n"
     ]
    },
    {
     "name": "stderr",
     "output_type": "stream",
     "text": [
      "Model Summary: 213 layers, 7371523 parameters, 0 gradients, 17.0 GFLOPs\n"
     ]
    },
    {
     "name": "stdout",
     "output_type": "stream",
     "text": [
      "객체명:coffee_, 확률:0.29%\n",
      "Inferencing and Processing Done. (0.016s)\n",
      "정확도: 0 %\n"
     ]
    },
    {
     "name": "stderr",
     "output_type": "stream",
     "text": [
      "YOLOv5  v6.0-193-gdb1f83b torch 1.10.1 CUDA:0 (NVIDIA GeForce RTX 2070, 8192MiB)\n",
      "\n",
      "Fusing layers... \n"
     ]
    },
    {
     "name": "stdout",
     "output_type": "stream",
     "text": [
      "사용 모델: runs/train/300epoch/weights/best.pt\n",
      "device: cuda:0\n"
     ]
    },
    {
     "name": "stderr",
     "output_type": "stream",
     "text": [
      "Model Summary: 213 layers, 7371523 parameters, 0 gradients, 17.0 GFLOPs\n"
     ]
    },
    {
     "name": "stdout",
     "output_type": "stream",
     "text": [
      "객체명:coffee_, 확률:0.31%\n",
      "Inferencing and Processing Done. (0.016s)\n",
      "정확도: 0 %\n"
     ]
    },
    {
     "name": "stderr",
     "output_type": "stream",
     "text": [
      "YOLOv5  v6.0-193-gdb1f83b torch 1.10.1 CUDA:0 (NVIDIA GeForce RTX 2070, 8192MiB)\n",
      "\n",
      "Fusing layers... \n"
     ]
    },
    {
     "name": "stdout",
     "output_type": "stream",
     "text": [
      "사용 모델: runs/train/300epoch/weights/best.pt\n",
      "device: cuda:0\n"
     ]
    },
    {
     "name": "stderr",
     "output_type": "stream",
     "text": [
      "Model Summary: 213 layers, 7371523 parameters, 0 gradients, 17.0 GFLOPs\n"
     ]
    },
    {
     "name": "stdout",
     "output_type": "stream",
     "text": [
      "객체명:coffee_, 확률:0.34%\n",
      "Inferencing and Processing Done. (0.018s)\n",
      "정확도: 0 %\n",
      "사용 모델: runs/train/300epoch/weights/best.pt\n"
     ]
    },
    {
     "name": "stderr",
     "output_type": "stream",
     "text": [
      "YOLOv5  v6.0-193-gdb1f83b torch 1.10.1 CUDA:0 (NVIDIA GeForce RTX 2070, 8192MiB)\n",
      "\n",
      "Fusing layers... \n",
      "Model Summary: 213 layers, 7371523 parameters, 0 gradients, 17.0 GFLOPs\n"
     ]
    },
    {
     "name": "stdout",
     "output_type": "stream",
     "text": [
      "device: cuda:0\n",
      "객체명:coffee_, 확률:0.34%\n",
      "Inferencing and Processing Done. (0.014s)\n",
      "정확도: 0 %\n",
      "사용 모델: runs/train/300epoch/weights/best.pt\n"
     ]
    },
    {
     "name": "stderr",
     "output_type": "stream",
     "text": [
      "YOLOv5  v6.0-193-gdb1f83b torch 1.10.1 CUDA:0 (NVIDIA GeForce RTX 2070, 8192MiB)\n",
      "\n",
      "Fusing layers... \n",
      "Model Summary: 213 layers, 7371523 parameters, 0 gradients, 17.0 GFLOPs\n"
     ]
    },
    {
     "name": "stdout",
     "output_type": "stream",
     "text": [
      "device: cuda:0\n",
      "객체명:coffee_, 확률:0.34%\n",
      "Inferencing and Processing Done. (0.015s)\n",
      "정확도: 0 %\n"
     ]
    },
    {
     "name": "stderr",
     "output_type": "stream",
     "text": [
      "YOLOv5  v6.0-193-gdb1f83b torch 1.10.1 CUDA:0 (NVIDIA GeForce RTX 2070, 8192MiB)\n",
      "\n",
      "Fusing layers... \n"
     ]
    },
    {
     "name": "stdout",
     "output_type": "stream",
     "text": [
      "사용 모델: runs/train/300epoch/weights/best.pt\n",
      "device: cuda:0\n"
     ]
    },
    {
     "name": "stderr",
     "output_type": "stream",
     "text": [
      "Model Summary: 213 layers, 7371523 parameters, 0 gradients, 17.0 GFLOPs\n"
     ]
    },
    {
     "name": "stdout",
     "output_type": "stream",
     "text": [
      "객체명:coffee_, 확률:0.35%\n",
      "Inferencing and Processing Done. (0.020s)\n",
      "정확도: 0 %\n",
      "사용 모델: runs/train/300epoch/weights/best.pt\n"
     ]
    },
    {
     "name": "stderr",
     "output_type": "stream",
     "text": [
      "YOLOv5  v6.0-193-gdb1f83b torch 1.10.1 CUDA:0 (NVIDIA GeForce RTX 2070, 8192MiB)\n",
      "\n",
      "Fusing layers... \n",
      "Model Summary: 213 layers, 7371523 parameters, 0 gradients, 17.0 GFLOPs\n"
     ]
    },
    {
     "name": "stdout",
     "output_type": "stream",
     "text": [
      "device: cuda:0\n",
      "객체명:coffee_, 확률:0.35%\n",
      "Inferencing and Processing Done. (0.013s)\n",
      "정확도: 0 %\n",
      "사용 모델: runs/train/300epoch/weights/best.pt\n"
     ]
    },
    {
     "name": "stderr",
     "output_type": "stream",
     "text": [
      "YOLOv5  v6.0-193-gdb1f83b torch 1.10.1 CUDA:0 (NVIDIA GeForce RTX 2070, 8192MiB)\n",
      "\n",
      "Fusing layers... \n",
      "Model Summary: 213 layers, 7371523 parameters, 0 gradients, 17.0 GFLOPs\n"
     ]
    },
    {
     "name": "stdout",
     "output_type": "stream",
     "text": [
      "device: cuda:0\n",
      "객체명:coffee_, 확률:0.36%\n",
      "Inferencing and Processing Done. (0.013s)\n",
      "정확도: 0 %\n",
      "사용 모델: runs/train/300epoch/weights/best.pt\n"
     ]
    },
    {
     "name": "stderr",
     "output_type": "stream",
     "text": [
      "YOLOv5  v6.0-193-gdb1f83b torch 1.10.1 CUDA:0 (NVIDIA GeForce RTX 2070, 8192MiB)\n",
      "\n",
      "Fusing layers... \n",
      "Model Summary: 213 layers, 7371523 parameters, 0 gradients, 17.0 GFLOPs\n"
     ]
    },
    {
     "name": "stdout",
     "output_type": "stream",
     "text": [
      "device: cuda:0\n",
      "객체명:coffee_, 확률:0.38%\n",
      "Inferencing and Processing Done. (0.013s)\n",
      "정확도: 0 %\n"
     ]
    },
    {
     "name": "stderr",
     "output_type": "stream",
     "text": [
      "YOLOv5  v6.0-193-gdb1f83b torch 1.10.1 CUDA:0 (NVIDIA GeForce RTX 2070, 8192MiB)\n",
      "\n",
      "Fusing layers... \n"
     ]
    },
    {
     "name": "stdout",
     "output_type": "stream",
     "text": [
      "사용 모델: runs/train/300epoch/weights/best.pt\n",
      "device: cuda:0\n"
     ]
    },
    {
     "name": "stderr",
     "output_type": "stream",
     "text": [
      "Model Summary: 213 layers, 7371523 parameters, 0 gradients, 17.0 GFLOPs\n"
     ]
    },
    {
     "name": "stdout",
     "output_type": "stream",
     "text": [
      "객체명:coffee_, 확률:0.38%\n",
      "Inferencing and Processing Done. (0.013s)\n",
      "정확도: 0 %\n",
      "사용 모델: runs/train/300epoch/weights/best.pt\n"
     ]
    },
    {
     "name": "stderr",
     "output_type": "stream",
     "text": [
      "YOLOv5  v6.0-193-gdb1f83b torch 1.10.1 CUDA:0 (NVIDIA GeForce RTX 2070, 8192MiB)\n",
      "\n",
      "Fusing layers... \n",
      "Model Summary: 213 layers, 7371523 parameters, 0 gradients, 17.0 GFLOPs\n"
     ]
    },
    {
     "name": "stdout",
     "output_type": "stream",
     "text": [
      "device: cuda:0\n",
      "객체명:coffee_, 확률:0.38%\n",
      "Inferencing and Processing Done. (0.015s)\n",
      "정확도: 0 %\n",
      "사용 모델: runs/train/300epoch/weights/best.pt\n"
     ]
    },
    {
     "name": "stderr",
     "output_type": "stream",
     "text": [
      "YOLOv5  v6.0-193-gdb1f83b torch 1.10.1 CUDA:0 (NVIDIA GeForce RTX 2070, 8192MiB)\n",
      "\n",
      "Fusing layers... \n"
     ]
    },
    {
     "name": "stdout",
     "output_type": "stream",
     "text": [
      "device: cuda:0\n"
     ]
    },
    {
     "name": "stderr",
     "output_type": "stream",
     "text": [
      "Model Summary: 213 layers, 7371523 parameters, 0 gradients, 17.0 GFLOPs\n"
     ]
    },
    {
     "name": "stdout",
     "output_type": "stream",
     "text": [
      "객체명:coffee_, 확률:0.38%\n",
      "Inferencing and Processing Done. (0.017s)\n",
      "정확도: 0 %\n",
      "사용 모델: runs/train/300epoch/weights/best.pt\n"
     ]
    },
    {
     "name": "stderr",
     "output_type": "stream",
     "text": [
      "YOLOv5  v6.0-193-gdb1f83b torch 1.10.1 CUDA:0 (NVIDIA GeForce RTX 2070, 8192MiB)\n",
      "\n",
      "Fusing layers... \n"
     ]
    },
    {
     "name": "stdout",
     "output_type": "stream",
     "text": [
      "device: cuda:0\n"
     ]
    },
    {
     "name": "stderr",
     "output_type": "stream",
     "text": [
      "Model Summary: 213 layers, 7371523 parameters, 0 gradients, 17.0 GFLOPs\n"
     ]
    },
    {
     "name": "stdout",
     "output_type": "stream",
     "text": [
      "객체명:coffee_, 확률:0.43%\n",
      "Inferencing and Processing Done. (0.016s)\n",
      "정확도: 0 %\n",
      "사용 모델: runs/train/300epoch/weights/best.pt\n"
     ]
    },
    {
     "name": "stderr",
     "output_type": "stream",
     "text": [
      "YOLOv5  v6.0-193-gdb1f83b torch 1.10.1 CUDA:0 (NVIDIA GeForce RTX 2070, 8192MiB)\n",
      "\n",
      "Fusing layers... \n"
     ]
    },
    {
     "name": "stdout",
     "output_type": "stream",
     "text": [
      "device: cuda:0\n"
     ]
    },
    {
     "name": "stderr",
     "output_type": "stream",
     "text": [
      "Model Summary: 213 layers, 7371523 parameters, 0 gradients, 17.0 GFLOPs\n"
     ]
    },
    {
     "name": "stdout",
     "output_type": "stream",
     "text": [
      "객체명:coffee_, 확률:0.44%\n",
      "Inferencing and Processing Done. (0.014s)\n",
      "정확도: 0 %\n",
      "사용 모델: runs/train/300epoch/weights/best.pt\n"
     ]
    },
    {
     "name": "stderr",
     "output_type": "stream",
     "text": [
      "YOLOv5  v6.0-193-gdb1f83b torch 1.10.1 CUDA:0 (NVIDIA GeForce RTX 2070, 8192MiB)\n",
      "\n",
      "Fusing layers... \n"
     ]
    },
    {
     "name": "stdout",
     "output_type": "stream",
     "text": [
      "device: cuda:0\n"
     ]
    },
    {
     "name": "stderr",
     "output_type": "stream",
     "text": [
      "Model Summary: 213 layers, 7371523 parameters, 0 gradients, 17.0 GFLOPs\n"
     ]
    },
    {
     "name": "stdout",
     "output_type": "stream",
     "text": [
      "객체명:coffee_, 확률:0.44%\n",
      "Inferencing and Processing Done. (0.014s)\n",
      "정확도: 0 %\n"
     ]
    },
    {
     "name": "stderr",
     "output_type": "stream",
     "text": [
      "YOLOv5  v6.0-193-gdb1f83b torch 1.10.1 CUDA:0 (NVIDIA GeForce RTX 2070, 8192MiB)\n",
      "\n",
      "Fusing layers... \n"
     ]
    },
    {
     "name": "stdout",
     "output_type": "stream",
     "text": [
      "사용 모델: runs/train/300epoch/weights/best.pt\n",
      "device: cuda:0\n"
     ]
    },
    {
     "name": "stderr",
     "output_type": "stream",
     "text": [
      "Model Summary: 213 layers, 7371523 parameters, 0 gradients, 17.0 GFLOPs\n"
     ]
    },
    {
     "name": "stdout",
     "output_type": "stream",
     "text": [
      "객체명:coffee_, 확률:0.43%\n",
      "Inferencing and Processing Done. (0.013s)\n",
      "정확도: 0 %\n"
     ]
    },
    {
     "name": "stderr",
     "output_type": "stream",
     "text": [
      "YOLOv5  v6.0-193-gdb1f83b torch 1.10.1 CUDA:0 (NVIDIA GeForce RTX 2070, 8192MiB)\n",
      "\n",
      "Fusing layers... \n"
     ]
    },
    {
     "name": "stdout",
     "output_type": "stream",
     "text": [
      "사용 모델: runs/train/300epoch/weights/best.pt\n",
      "device: cuda:0\n"
     ]
    },
    {
     "name": "stderr",
     "output_type": "stream",
     "text": [
      "Model Summary: 213 layers, 7371523 parameters, 0 gradients, 17.0 GFLOPs\n"
     ]
    },
    {
     "name": "stdout",
     "output_type": "stream",
     "text": [
      "객체명:coffee_, 확률:0.44%\n",
      "Inferencing and Processing Done. (0.014s)\n",
      "정확도: 0 %\n",
      "사용 모델: runs/train/300epoch/weights/best.pt\n"
     ]
    },
    {
     "name": "stderr",
     "output_type": "stream",
     "text": [
      "YOLOv5  v6.0-193-gdb1f83b torch 1.10.1 CUDA:0 (NVIDIA GeForce RTX 2070, 8192MiB)\n",
      "\n",
      "Fusing layers... \n"
     ]
    },
    {
     "name": "stdout",
     "output_type": "stream",
     "text": [
      "device: cuda:0\n"
     ]
    },
    {
     "name": "stderr",
     "output_type": "stream",
     "text": [
      "Model Summary: 213 layers, 7371523 parameters, 0 gradients, 17.0 GFLOPs\n"
     ]
    },
    {
     "name": "stdout",
     "output_type": "stream",
     "text": [
      "객체명:coffee_, 확률:0.44%\n",
      "Inferencing and Processing Done. (0.014s)\n",
      "정확도: 0 %\n",
      "사용 모델: runs/train/300epoch/weights/best.pt\n"
     ]
    },
    {
     "name": "stderr",
     "output_type": "stream",
     "text": [
      "YOLOv5  v6.0-193-gdb1f83b torch 1.10.1 CUDA:0 (NVIDIA GeForce RTX 2070, 8192MiB)\n",
      "\n",
      "Fusing layers... \n"
     ]
    },
    {
     "name": "stdout",
     "output_type": "stream",
     "text": [
      "device: cuda:0\n"
     ]
    },
    {
     "name": "stderr",
     "output_type": "stream",
     "text": [
      "Model Summary: 213 layers, 7371523 parameters, 0 gradients, 17.0 GFLOPs\n"
     ]
    },
    {
     "name": "stdout",
     "output_type": "stream",
     "text": [
      "객체명:coffee_, 확률:0.47%\n",
      "Inferencing and Processing Done. (0.017s)\n",
      "정확도: 0 %\n",
      "사용 모델: runs/train/300epoch/weights/best.pt\n"
     ]
    },
    {
     "name": "stderr",
     "output_type": "stream",
     "text": [
      "YOLOv5  v6.0-193-gdb1f83b torch 1.10.1 CUDA:0 (NVIDIA GeForce RTX 2070, 8192MiB)\n",
      "\n",
      "Fusing layers... \n"
     ]
    },
    {
     "name": "stdout",
     "output_type": "stream",
     "text": [
      "device: cuda:0\n"
     ]
    },
    {
     "name": "stderr",
     "output_type": "stream",
     "text": [
      "Model Summary: 213 layers, 7371523 parameters, 0 gradients, 17.0 GFLOPs\n"
     ]
    },
    {
     "name": "stdout",
     "output_type": "stream",
     "text": [
      "객체명:coffee_, 확률:0.50%\n",
      "Inferencing and Processing Done. (0.015s)\n",
      "정확도: 0 %\n"
     ]
    },
    {
     "name": "stderr",
     "output_type": "stream",
     "text": [
      "YOLOv5  v6.0-193-gdb1f83b torch 1.10.1 CUDA:0 (NVIDIA GeForce RTX 2070, 8192MiB)\n",
      "\n",
      "Fusing layers... \n"
     ]
    },
    {
     "name": "stdout",
     "output_type": "stream",
     "text": [
      "사용 모델: runs/train/300epoch/weights/best.pt\n",
      "device: cuda:0\n"
     ]
    },
    {
     "name": "stderr",
     "output_type": "stream",
     "text": [
      "Model Summary: 213 layers, 7371523 parameters, 0 gradients, 17.0 GFLOPs\n"
     ]
    },
    {
     "name": "stdout",
     "output_type": "stream",
     "text": [
      "객체명:coffee_, 확률:0.50%\n",
      "Inferencing and Processing Done. (0.022s)\n",
      "정확도: 0 %\n",
      "사용 모델: runs/train/300epoch/weights/best.pt\n"
     ]
    },
    {
     "name": "stderr",
     "output_type": "stream",
     "text": [
      "YOLOv5  v6.0-193-gdb1f83b torch 1.10.1 CUDA:0 (NVIDIA GeForce RTX 2070, 8192MiB)\n",
      "\n",
      "Fusing layers... \n",
      "Model Summary: 213 layers, 7371523 parameters, 0 gradients, 17.0 GFLOPs\n"
     ]
    },
    {
     "name": "stdout",
     "output_type": "stream",
     "text": [
      "device: cuda:0\n",
      "객체명:coffee_, 확률:0.50%\n",
      "Inferencing and Processing Done. (0.013s)\n",
      "정확도: 0 %\n",
      "사용 모델: runs/train/300epoch/weights/best.pt\n"
     ]
    },
    {
     "name": "stderr",
     "output_type": "stream",
     "text": [
      "YOLOv5  v6.0-193-gdb1f83b torch 1.10.1 CUDA:0 (NVIDIA GeForce RTX 2070, 8192MiB)\n",
      "\n",
      "Fusing layers... \n"
     ]
    },
    {
     "name": "stdout",
     "output_type": "stream",
     "text": [
      "device: cuda:0\n"
     ]
    },
    {
     "name": "stderr",
     "output_type": "stream",
     "text": [
      "Model Summary: 213 layers, 7371523 parameters, 0 gradients, 17.0 GFLOPs\n"
     ]
    },
    {
     "name": "stdout",
     "output_type": "stream",
     "text": [
      "객체명:coffee_, 확률:0.50%\n",
      "Inferencing and Processing Done. (0.013s)\n",
      "정확도: 0 %\n",
      "사용 모델: runs/train/300epoch/weights/best.pt\n"
     ]
    },
    {
     "name": "stderr",
     "output_type": "stream",
     "text": [
      "YOLOv5  v6.0-193-gdb1f83b torch 1.10.1 CUDA:0 (NVIDIA GeForce RTX 2070, 8192MiB)\n",
      "\n",
      "Fusing layers... \n"
     ]
    },
    {
     "name": "stdout",
     "output_type": "stream",
     "text": [
      "device: cuda:0\n"
     ]
    },
    {
     "name": "stderr",
     "output_type": "stream",
     "text": [
      "Model Summary: 213 layers, 7371523 parameters, 0 gradients, 17.0 GFLOPs\n"
     ]
    },
    {
     "name": "stdout",
     "output_type": "stream",
     "text": [
      "객체명:coffee_, 확률:0.50%\n",
      "Inferencing and Processing Done. (0.015s)\n",
      "정확도: 0 %\n",
      "사용 모델: runs/train/300epoch/weights/best.pt\n"
     ]
    },
    {
     "name": "stderr",
     "output_type": "stream",
     "text": [
      "YOLOv5  v6.0-193-gdb1f83b torch 1.10.1 CUDA:0 (NVIDIA GeForce RTX 2070, 8192MiB)\n",
      "\n",
      "Fusing layers... \n",
      "Model Summary: 213 layers, 7371523 parameters, 0 gradients, 17.0 GFLOPs\n"
     ]
    },
    {
     "name": "stdout",
     "output_type": "stream",
     "text": [
      "device: cuda:0\n",
      "객체명:coffee_, 확률:0.49%\n",
      "Inferencing and Processing Done. (0.014s)\n",
      "정확도: 0 %\n"
     ]
    },
    {
     "name": "stderr",
     "output_type": "stream",
     "text": [
      "YOLOv5  v6.0-193-gdb1f83b torch 1.10.1 CUDA:0 (NVIDIA GeForce RTX 2070, 8192MiB)\n",
      "\n",
      "Fusing layers... \n"
     ]
    },
    {
     "name": "stdout",
     "output_type": "stream",
     "text": [
      "사용 모델: runs/train/300epoch/weights/best.pt\n",
      "device: cuda:0\n"
     ]
    },
    {
     "name": "stderr",
     "output_type": "stream",
     "text": [
      "Model Summary: 213 layers, 7371523 parameters, 0 gradients, 17.0 GFLOPs\n"
     ]
    },
    {
     "name": "stdout",
     "output_type": "stream",
     "text": [
      "객체명:coffee_, 확률:0.48%\n",
      "Inferencing and Processing Done. (0.014s)\n",
      "정확도: 0 %\n",
      "사용 모델: runs/train/300epoch/weights/best.pt\n"
     ]
    },
    {
     "name": "stderr",
     "output_type": "stream",
     "text": [
      "YOLOv5  v6.0-193-gdb1f83b torch 1.10.1 CUDA:0 (NVIDIA GeForce RTX 2070, 8192MiB)\n",
      "\n",
      "Fusing layers... \n"
     ]
    },
    {
     "name": "stdout",
     "output_type": "stream",
     "text": [
      "device: cuda:0\n"
     ]
    },
    {
     "name": "stderr",
     "output_type": "stream",
     "text": [
      "Model Summary: 213 layers, 7371523 parameters, 0 gradients, 17.0 GFLOPs\n"
     ]
    },
    {
     "name": "stdout",
     "output_type": "stream",
     "text": [
      "객체명:coffee_, 확률:0.48%\n",
      "Inferencing and Processing Done. (0.014s)\n",
      "정확도: 0 %\n",
      "사용 모델: runs/train/300epoch/weights/best.pt\n"
     ]
    },
    {
     "name": "stderr",
     "output_type": "stream",
     "text": [
      "YOLOv5  v6.0-193-gdb1f83b torch 1.10.1 CUDA:0 (NVIDIA GeForce RTX 2070, 8192MiB)\n",
      "\n",
      "Fusing layers... \n"
     ]
    },
    {
     "name": "stdout",
     "output_type": "stream",
     "text": [
      "device: cuda:0\n"
     ]
    },
    {
     "name": "stderr",
     "output_type": "stream",
     "text": [
      "Model Summary: 213 layers, 7371523 parameters, 0 gradients, 17.0 GFLOPs\n"
     ]
    },
    {
     "name": "stdout",
     "output_type": "stream",
     "text": [
      "객체명:coffee_, 확률:0.48%\n",
      "Inferencing and Processing Done. (0.014s)\n"
     ]
    },
    {
     "name": "stderr",
     "output_type": "stream",
     "text": [
      "YOLOv5  v6.0-193-gdb1f83b torch 1.10.1 CUDA:0 (NVIDIA GeForce RTX 2070, 8192MiB)\n",
      "\n",
      "Fusing layers... \n"
     ]
    },
    {
     "name": "stdout",
     "output_type": "stream",
     "text": [
      "정확도: 0 %\n",
      "사용 모델: runs/train/300epoch/weights/best.pt\n",
      "device: cuda:0\n"
     ]
    },
    {
     "name": "stderr",
     "output_type": "stream",
     "text": [
      "Model Summary: 213 layers, 7371523 parameters, 0 gradients, 17.0 GFLOPs\n"
     ]
    },
    {
     "name": "stdout",
     "output_type": "stream",
     "text": [
      "객체명:coffee_, 확률:0.49%\n",
      "Inferencing and Processing Done. (0.014s)\n",
      "정확도: 0 %\n"
     ]
    },
    {
     "name": "stderr",
     "output_type": "stream",
     "text": [
      "YOLOv5  v6.0-193-gdb1f83b torch 1.10.1 CUDA:0 (NVIDIA GeForce RTX 2070, 8192MiB)\n",
      "\n",
      "Fusing layers... \n"
     ]
    },
    {
     "name": "stdout",
     "output_type": "stream",
     "text": [
      "사용 모델: runs/train/300epoch/weights/best.pt\n",
      "device: cuda:0\n"
     ]
    },
    {
     "name": "stderr",
     "output_type": "stream",
     "text": [
      "Model Summary: 213 layers, 7371523 parameters, 0 gradients, 17.0 GFLOPs\n"
     ]
    },
    {
     "name": "stdout",
     "output_type": "stream",
     "text": [
      "객체명:coffee_, 확률:0.49%\n",
      "Inferencing and Processing Done. (0.016s)\n",
      "정확도: 0 %\n"
     ]
    },
    {
     "name": "stderr",
     "output_type": "stream",
     "text": [
      "YOLOv5  v6.0-193-gdb1f83b torch 1.10.1 CUDA:0 (NVIDIA GeForce RTX 2070, 8192MiB)\n",
      "\n",
      "Fusing layers... \n"
     ]
    },
    {
     "name": "stdout",
     "output_type": "stream",
     "text": [
      "사용 모델: runs/train/300epoch/weights/best.pt\n",
      "device: cuda:0\n"
     ]
    },
    {
     "name": "stderr",
     "output_type": "stream",
     "text": [
      "Model Summary: 213 layers, 7371523 parameters, 0 gradients, 17.0 GFLOPs\n"
     ]
    },
    {
     "name": "stdout",
     "output_type": "stream",
     "text": [
      "객체명:coffee_, 확률:0.49%\n",
      "Inferencing and Processing Done. (0.015s)\n"
     ]
    },
    {
     "name": "stderr",
     "output_type": "stream",
     "text": [
      "YOLOv5  v6.0-193-gdb1f83b torch 1.10.1 CUDA:0 (NVIDIA GeForce RTX 2070, 8192MiB)\n",
      "\n",
      "Fusing layers... \n"
     ]
    },
    {
     "name": "stdout",
     "output_type": "stream",
     "text": [
      "정확도: 0 %\n",
      "사용 모델: runs/train/300epoch/weights/best.pt\n",
      "device: cuda:0\n"
     ]
    },
    {
     "name": "stderr",
     "output_type": "stream",
     "text": [
      "Model Summary: 213 layers, 7371523 parameters, 0 gradients, 17.0 GFLOPs\n"
     ]
    },
    {
     "name": "stdout",
     "output_type": "stream",
     "text": [
      "객체명:coffee_, 확률:0.49%\n",
      "Inferencing and Processing Done. (0.014s)\n",
      "정확도: 0 %\n"
     ]
    },
    {
     "name": "stderr",
     "output_type": "stream",
     "text": [
      "YOLOv5  v6.0-193-gdb1f83b torch 1.10.1 CUDA:0 (NVIDIA GeForce RTX 2070, 8192MiB)\n",
      "\n",
      "Fusing layers... \n"
     ]
    },
    {
     "name": "stdout",
     "output_type": "stream",
     "text": [
      "사용 모델: runs/train/300epoch/weights/best.pt\n",
      "device: cuda:0\n"
     ]
    },
    {
     "name": "stderr",
     "output_type": "stream",
     "text": [
      "Model Summary: 213 layers, 7371523 parameters, 0 gradients, 17.0 GFLOPs\n"
     ]
    },
    {
     "name": "stdout",
     "output_type": "stream",
     "text": [
      "객체명:coffee_, 확률:0.49%\n",
      "Inferencing and Processing Done. (0.015s)\n",
      "정확도: 0 %\n",
      "사용 모델: runs/train/300epoch/weights/best.pt\n"
     ]
    },
    {
     "name": "stderr",
     "output_type": "stream",
     "text": [
      "YOLOv5  v6.0-193-gdb1f83b torch 1.10.1 CUDA:0 (NVIDIA GeForce RTX 2070, 8192MiB)\n",
      "\n",
      "Fusing layers... \n"
     ]
    },
    {
     "name": "stdout",
     "output_type": "stream",
     "text": [
      "device: cuda:0\n"
     ]
    },
    {
     "name": "stderr",
     "output_type": "stream",
     "text": [
      "Model Summary: 213 layers, 7371523 parameters, 0 gradients, 17.0 GFLOPs\n"
     ]
    },
    {
     "name": "stdout",
     "output_type": "stream",
     "text": [
      "객체명:coffee_, 확률:0.47%\n",
      "Inferencing and Processing Done. (0.013s)\n",
      "정확도: 0 %\n",
      "사용 모델: runs/train/300epoch/weights/best.pt\n"
     ]
    },
    {
     "name": "stderr",
     "output_type": "stream",
     "text": [
      "YOLOv5  v6.0-193-gdb1f83b torch 1.10.1 CUDA:0 (NVIDIA GeForce RTX 2070, 8192MiB)\n",
      "\n",
      "Fusing layers... \n"
     ]
    },
    {
     "name": "stdout",
     "output_type": "stream",
     "text": [
      "device: cuda:0\n"
     ]
    },
    {
     "name": "stderr",
     "output_type": "stream",
     "text": [
      "Model Summary: 213 layers, 7371523 parameters, 0 gradients, 17.0 GFLOPs\n"
     ]
    },
    {
     "name": "stdout",
     "output_type": "stream",
     "text": [
      "객체명:coffee_, 확률:0.46%\n",
      "Inferencing and Processing Done. (0.013s)\n",
      "정확도: 0 %\n"
     ]
    },
    {
     "name": "stderr",
     "output_type": "stream",
     "text": [
      "YOLOv5  v6.0-193-gdb1f83b torch 1.10.1 CUDA:0 (NVIDIA GeForce RTX 2070, 8192MiB)\n",
      "\n",
      "Fusing layers... \n"
     ]
    },
    {
     "name": "stdout",
     "output_type": "stream",
     "text": [
      "사용 모델: runs/train/300epoch/weights/best.pt\n",
      "device: cuda:0\n"
     ]
    },
    {
     "name": "stderr",
     "output_type": "stream",
     "text": [
      "Model Summary: 213 layers, 7371523 parameters, 0 gradients, 17.0 GFLOPs\n"
     ]
    },
    {
     "name": "stdout",
     "output_type": "stream",
     "text": [
      "객체명:coffee_, 확률:0.45%\n",
      "Inferencing and Processing Done. (0.014s)\n",
      "정확도: 0 %\n",
      "사용 모델: runs/train/300epoch/weights/best.pt\n"
     ]
    },
    {
     "name": "stderr",
     "output_type": "stream",
     "text": [
      "YOLOv5  v6.0-193-gdb1f83b torch 1.10.1 CUDA:0 (NVIDIA GeForce RTX 2070, 8192MiB)\n",
      "\n",
      "Fusing layers... \n"
     ]
    },
    {
     "name": "stdout",
     "output_type": "stream",
     "text": [
      "device: cuda:0\n"
     ]
    },
    {
     "name": "stderr",
     "output_type": "stream",
     "text": [
      "Model Summary: 213 layers, 7371523 parameters, 0 gradients, 17.0 GFLOPs\n",
      "YOLOv5  v6.0-193-gdb1f83b torch 1.10.1 CUDA:0 (NVIDIA GeForce RTX 2070, 8192MiB)\n",
      "\n"
     ]
    },
    {
     "name": "stdout",
     "output_type": "stream",
     "text": [
      "객체명:coffee_, 확률:0.46%\n",
      "Inferencing and Processing Done. (0.013s)\n",
      "정확도: 0 %\n",
      "사용 모델: runs/train/300epoch/weights/best.pt\n"
     ]
    },
    {
     "name": "stderr",
     "output_type": "stream",
     "text": [
      "Fusing layers... \n"
     ]
    },
    {
     "name": "stdout",
     "output_type": "stream",
     "text": [
      "device: cuda:0\n"
     ]
    },
    {
     "name": "stderr",
     "output_type": "stream",
     "text": [
      "Model Summary: 213 layers, 7371523 parameters, 0 gradients, 17.0 GFLOPs\n"
     ]
    },
    {
     "name": "stdout",
     "output_type": "stream",
     "text": [
      "객체명:coffee_, 확률:0.45%\n",
      "Inferencing and Processing Done. (0.014s)\n",
      "정확도: 0 %\n"
     ]
    },
    {
     "name": "stderr",
     "output_type": "stream",
     "text": [
      "YOLOv5  v6.0-193-gdb1f83b torch 1.10.1 CUDA:0 (NVIDIA GeForce RTX 2070, 8192MiB)\n",
      "\n",
      "Fusing layers... \n"
     ]
    },
    {
     "name": "stdout",
     "output_type": "stream",
     "text": [
      "사용 모델: runs/train/300epoch/weights/best.pt\n",
      "device: cuda:0\n"
     ]
    },
    {
     "name": "stderr",
     "output_type": "stream",
     "text": [
      "Model Summary: 213 layers, 7371523 parameters, 0 gradients, 17.0 GFLOPs\n"
     ]
    },
    {
     "name": "stdout",
     "output_type": "stream",
     "text": [
      "객체명:coffee_, 확률:0.46%\n",
      "Inferencing and Processing Done. (0.014s)\n",
      "정확도: 0 %\n",
      "사용 모델: runs/train/300epoch/weights/best.pt\n"
     ]
    },
    {
     "name": "stderr",
     "output_type": "stream",
     "text": [
      "YOLOv5  v6.0-193-gdb1f83b torch 1.10.1 CUDA:0 (NVIDIA GeForce RTX 2070, 8192MiB)\n",
      "\n",
      "Fusing layers... \n"
     ]
    },
    {
     "name": "stdout",
     "output_type": "stream",
     "text": [
      "device: cuda:0\n"
     ]
    },
    {
     "name": "stderr",
     "output_type": "stream",
     "text": [
      "Model Summary: 213 layers, 7371523 parameters, 0 gradients, 17.0 GFLOPs\n"
     ]
    },
    {
     "name": "stdout",
     "output_type": "stream",
     "text": [
      "객체명:coffee_, 확률:0.48%\n",
      "Inferencing and Processing Done. (0.020s)\n",
      "정확도: 0 %\n"
     ]
    },
    {
     "name": "stderr",
     "output_type": "stream",
     "text": [
      "YOLOv5  v6.0-193-gdb1f83b torch 1.10.1 CUDA:0 (NVIDIA GeForce RTX 2070, 8192MiB)\n",
      "\n",
      "Fusing layers... \n"
     ]
    },
    {
     "name": "stdout",
     "output_type": "stream",
     "text": [
      "사용 모델: runs/train/300epoch/weights/best.pt\n",
      "device: cuda:0\n"
     ]
    },
    {
     "name": "stderr",
     "output_type": "stream",
     "text": [
      "Model Summary: 213 layers, 7371523 parameters, 0 gradients, 17.0 GFLOPs\n"
     ]
    },
    {
     "name": "stdout",
     "output_type": "stream",
     "text": [
      "객체명:coffee_, 확률:0.45%\n",
      "Inferencing and Processing Done. (0.013s)\n",
      "정확도: 0 %\n",
      "사용 모델: runs/train/300epoch/weights/best.pt\n"
     ]
    },
    {
     "name": "stderr",
     "output_type": "stream",
     "text": [
      "YOLOv5  v6.0-193-gdb1f83b torch 1.10.1 CUDA:0 (NVIDIA GeForce RTX 2070, 8192MiB)\n",
      "\n",
      "Fusing layers... \n",
      "Model Summary: 213 layers, 7371523 parameters, 0 gradients, 17.0 GFLOPs\n"
     ]
    },
    {
     "name": "stdout",
     "output_type": "stream",
     "text": [
      "device: cuda:0\n",
      "객체명:coffee_, 확률:0.45%\n",
      "Inferencing and Processing Done. (0.014s)\n",
      "정확도: 0 %\n",
      "사용 모델: runs/train/300epoch/weights/best.pt\n"
     ]
    },
    {
     "name": "stderr",
     "output_type": "stream",
     "text": [
      "YOLOv5  v6.0-193-gdb1f83b torch 1.10.1 CUDA:0 (NVIDIA GeForce RTX 2070, 8192MiB)\n",
      "\n",
      "Fusing layers... \n",
      "Model Summary: 213 layers, 7371523 parameters, 0 gradients, 17.0 GFLOPs\n"
     ]
    },
    {
     "name": "stdout",
     "output_type": "stream",
     "text": [
      "device: cuda:0\n",
      "객체명:coffee_, 확률:0.47%\n",
      "Inferencing and Processing Done. (0.013s)\n"
     ]
    },
    {
     "name": "stderr",
     "output_type": "stream",
     "text": [
      "YOLOv5  v6.0-193-gdb1f83b torch 1.10.1 CUDA:0 (NVIDIA GeForce RTX 2070, 8192MiB)\n",
      "\n",
      "Fusing layers... \n"
     ]
    },
    {
     "name": "stdout",
     "output_type": "stream",
     "text": [
      "정확도: 0 %\n",
      "사용 모델: runs/train/300epoch/weights/best.pt\n",
      "device: cuda:0\n"
     ]
    },
    {
     "name": "stderr",
     "output_type": "stream",
     "text": [
      "Model Summary: 213 layers, 7371523 parameters, 0 gradients, 17.0 GFLOPs\n"
     ]
    },
    {
     "name": "stdout",
     "output_type": "stream",
     "text": [
      "객체명:coffee_, 확률:0.46%\n",
      "Inferencing and Processing Done. (0.015s)\n",
      "정확도: 0 %\n",
      "사용 모델: runs/train/300epoch/weights/best.pt\n"
     ]
    },
    {
     "name": "stderr",
     "output_type": "stream",
     "text": [
      "YOLOv5  v6.0-193-gdb1f83b torch 1.10.1 CUDA:0 (NVIDIA GeForce RTX 2070, 8192MiB)\n",
      "\n",
      "Fusing layers... \n",
      "Model Summary: 213 layers, 7371523 parameters, 0 gradients, 17.0 GFLOPs\n"
     ]
    },
    {
     "name": "stdout",
     "output_type": "stream",
     "text": [
      "device: cuda:0\n",
      "객체명:coffee_, 확률:0.46%\n",
      "Inferencing and Processing Done. (0.017s)\n",
      "정확도: 0 %\n",
      "사용 모델: runs/train/300epoch/weights/best.pt\n"
     ]
    },
    {
     "name": "stderr",
     "output_type": "stream",
     "text": [
      "YOLOv5  v6.0-193-gdb1f83b torch 1.10.1 CUDA:0 (NVIDIA GeForce RTX 2070, 8192MiB)\n",
      "\n",
      "Fusing layers... \n"
     ]
    },
    {
     "name": "stdout",
     "output_type": "stream",
     "text": [
      "device: cuda:0\n"
     ]
    },
    {
     "name": "stderr",
     "output_type": "stream",
     "text": [
      "Model Summary: 213 layers, 7371523 parameters, 0 gradients, 17.0 GFLOPs\n"
     ]
    },
    {
     "name": "stdout",
     "output_type": "stream",
     "text": [
      "객체명:coffee_, 확률:0.46%\n",
      "Inferencing and Processing Done. (0.016s)\n"
     ]
    },
    {
     "name": "stderr",
     "output_type": "stream",
     "text": [
      "YOLOv5  v6.0-193-gdb1f83b torch 1.10.1 CUDA:0 (NVIDIA GeForce RTX 2070, 8192MiB)\n",
      "\n",
      "Fusing layers... \n"
     ]
    },
    {
     "name": "stdout",
     "output_type": "stream",
     "text": [
      "정확도: 0 %\n",
      "사용 모델: runs/train/300epoch/weights/best.pt\n",
      "device: cuda:0\n"
     ]
    },
    {
     "name": "stderr",
     "output_type": "stream",
     "text": [
      "Model Summary: 213 layers, 7371523 parameters, 0 gradients, 17.0 GFLOPs\n",
      "YOLOv5  v6.0-193-gdb1f83b torch 1.10.1 CUDA:0 (NVIDIA GeForce RTX 2070, 8192MiB)\n",
      "\n"
     ]
    },
    {
     "name": "stdout",
     "output_type": "stream",
     "text": [
      "객체명:coffee_, 확률:0.46%\n",
      "Inferencing and Processing Done. (0.017s)\n",
      "정확도: 0 %\n",
      "사용 모델: runs/train/300epoch/weights/best.pt\n"
     ]
    },
    {
     "name": "stderr",
     "output_type": "stream",
     "text": [
      "Fusing layers... \n",
      "Model Summary: 213 layers, 7371523 parameters, 0 gradients, 17.0 GFLOPs\n"
     ]
    },
    {
     "name": "stdout",
     "output_type": "stream",
     "text": [
      "device: cuda:0\n",
      "객체명:coffee_, 확률:0.46%\n",
      "Inferencing and Processing Done. (0.014s)\n",
      "정확도: 0 %\n"
     ]
    },
    {
     "name": "stderr",
     "output_type": "stream",
     "text": [
      "YOLOv5  v6.0-193-gdb1f83b torch 1.10.1 CUDA:0 (NVIDIA GeForce RTX 2070, 8192MiB)\n",
      "\n",
      "Fusing layers... \n"
     ]
    },
    {
     "name": "stdout",
     "output_type": "stream",
     "text": [
      "사용 모델: runs/train/300epoch/weights/best.pt\n",
      "device: cuda:0\n"
     ]
    },
    {
     "name": "stderr",
     "output_type": "stream",
     "text": [
      "Model Summary: 213 layers, 7371523 parameters, 0 gradients, 17.0 GFLOPs\n",
      "YOLOv5  v6.0-193-gdb1f83b torch 1.10.1 CUDA:0 (NVIDIA GeForce RTX 2070, 8192MiB)\n",
      "\n"
     ]
    },
    {
     "name": "stdout",
     "output_type": "stream",
     "text": [
      "객체명:coffee_, 확률:0.46%\n",
      "Inferencing and Processing Done. (0.018s)\n",
      "정확도: 0 %\n",
      "사용 모델: runs/train/300epoch/weights/best.pt\n"
     ]
    },
    {
     "name": "stderr",
     "output_type": "stream",
     "text": [
      "Fusing layers... \n"
     ]
    },
    {
     "name": "stdout",
     "output_type": "stream",
     "text": [
      "device: cuda:0\n"
     ]
    },
    {
     "name": "stderr",
     "output_type": "stream",
     "text": [
      "Model Summary: 213 layers, 7371523 parameters, 0 gradients, 17.0 GFLOPs\n"
     ]
    },
    {
     "name": "stdout",
     "output_type": "stream",
     "text": [
      "객체명:coffee_, 확률:0.47%\n",
      "Inferencing and Processing Done. (0.013s)\n",
      "정확도: 0 %\n"
     ]
    },
    {
     "name": "stderr",
     "output_type": "stream",
     "text": [
      "YOLOv5  v6.0-193-gdb1f83b torch 1.10.1 CUDA:0 (NVIDIA GeForce RTX 2070, 8192MiB)\n",
      "\n",
      "Fusing layers... \n"
     ]
    },
    {
     "name": "stdout",
     "output_type": "stream",
     "text": [
      "사용 모델: runs/train/300epoch/weights/best.pt\n",
      "device: cuda:0\n"
     ]
    },
    {
     "name": "stderr",
     "output_type": "stream",
     "text": [
      "Model Summary: 213 layers, 7371523 parameters, 0 gradients, 17.0 GFLOPs\n"
     ]
    },
    {
     "name": "stdout",
     "output_type": "stream",
     "text": [
      "객체명:coffee_, 확률:0.47%\n",
      "Inferencing and Processing Done. (0.014s)\n",
      "정확도: 0 %\n",
      "사용 모델: runs/train/300epoch/weights/best.pt\n"
     ]
    },
    {
     "name": "stderr",
     "output_type": "stream",
     "text": [
      "YOLOv5  v6.0-193-gdb1f83b torch 1.10.1 CUDA:0 (NVIDIA GeForce RTX 2070, 8192MiB)\n",
      "\n",
      "Fusing layers... \n",
      "Model Summary: 213 layers, 7371523 parameters, 0 gradients, 17.0 GFLOPs\n"
     ]
    },
    {
     "name": "stdout",
     "output_type": "stream",
     "text": [
      "device: cuda:0\n",
      "객체명:coffee_, 확률:0.47%\n",
      "Inferencing and Processing Done. (0.013s)\n",
      "정확도: 0 %\n"
     ]
    },
    {
     "name": "stderr",
     "output_type": "stream",
     "text": [
      "YOLOv5  v6.0-193-gdb1f83b torch 1.10.1 CUDA:0 (NVIDIA GeForce RTX 2070, 8192MiB)\n",
      "\n",
      "Fusing layers... \n"
     ]
    },
    {
     "name": "stdout",
     "output_type": "stream",
     "text": [
      "사용 모델: runs/train/300epoch/weights/best.pt\n",
      "device: cuda:0\n"
     ]
    },
    {
     "name": "stderr",
     "output_type": "stream",
     "text": [
      "Model Summary: 213 layers, 7371523 parameters, 0 gradients, 17.0 GFLOPs\n"
     ]
    },
    {
     "name": "stdout",
     "output_type": "stream",
     "text": [
      "객체명:coffee_, 확률:0.47%\n",
      "Inferencing and Processing Done. (0.015s)\n",
      "정확도: 0 %\n"
     ]
    },
    {
     "name": "stderr",
     "output_type": "stream",
     "text": [
      "YOLOv5  v6.0-193-gdb1f83b torch 1.10.1 CUDA:0 (NVIDIA GeForce RTX 2070, 8192MiB)\n",
      "\n",
      "Fusing layers... \n"
     ]
    },
    {
     "name": "stdout",
     "output_type": "stream",
     "text": [
      "사용 모델: runs/train/300epoch/weights/best.pt\n",
      "device: cuda:0\n"
     ]
    },
    {
     "name": "stderr",
     "output_type": "stream",
     "text": [
      "Model Summary: 213 layers, 7371523 parameters, 0 gradients, 17.0 GFLOPs\n"
     ]
    },
    {
     "name": "stdout",
     "output_type": "stream",
     "text": [
      "객체명:coffee_, 확률:0.47%\n",
      "Inferencing and Processing Done. (0.018s)\n",
      "정확도: 0 %\n",
      "사용 모델: runs/train/300epoch/weights/best.pt\n"
     ]
    },
    {
     "name": "stderr",
     "output_type": "stream",
     "text": [
      "YOLOv5  v6.0-193-gdb1f83b torch 1.10.1 CUDA:0 (NVIDIA GeForce RTX 2070, 8192MiB)\n",
      "\n",
      "Fusing layers... \n"
     ]
    },
    {
     "name": "stdout",
     "output_type": "stream",
     "text": [
      "device: cuda:0\n"
     ]
    },
    {
     "name": "stderr",
     "output_type": "stream",
     "text": [
      "Model Summary: 213 layers, 7371523 parameters, 0 gradients, 17.0 GFLOPs\n",
      "YOLOv5  v6.0-193-gdb1f83b torch 1.10.1 CUDA:0 (NVIDIA GeForce RTX 2070, 8192MiB)\n",
      "\n"
     ]
    },
    {
     "name": "stdout",
     "output_type": "stream",
     "text": [
      "객체명:coffee_, 확률:0.47%\n",
      "Inferencing and Processing Done. (0.013s)\n",
      "정확도: 0 %\n",
      "사용 모델: runs/train/300epoch/weights/best.pt\n"
     ]
    },
    {
     "name": "stderr",
     "output_type": "stream",
     "text": [
      "Fusing layers... \n"
     ]
    },
    {
     "name": "stdout",
     "output_type": "stream",
     "text": [
      "device: cuda:0\n"
     ]
    },
    {
     "name": "stderr",
     "output_type": "stream",
     "text": [
      "Model Summary: 213 layers, 7371523 parameters, 0 gradients, 17.0 GFLOPs\n"
     ]
    },
    {
     "name": "stdout",
     "output_type": "stream",
     "text": [
      "객체명:coffee_, 확률:0.47%\n",
      "Inferencing and Processing Done. (0.014s)\n",
      "정확도: 0 %\n",
      "사용 모델: runs/train/300epoch/weights/best.pt\n"
     ]
    },
    {
     "name": "stderr",
     "output_type": "stream",
     "text": [
      "YOLOv5  v6.0-193-gdb1f83b torch 1.10.1 CUDA:0 (NVIDIA GeForce RTX 2070, 8192MiB)\n",
      "\n",
      "Fusing layers... \n"
     ]
    },
    {
     "name": "stdout",
     "output_type": "stream",
     "text": [
      "device: cuda:0\n"
     ]
    },
    {
     "name": "stderr",
     "output_type": "stream",
     "text": [
      "Model Summary: 213 layers, 7371523 parameters, 0 gradients, 17.0 GFLOPs\n"
     ]
    },
    {
     "name": "stdout",
     "output_type": "stream",
     "text": [
      "객체명:coffee_, 확률:0.47%\n",
      "Inferencing and Processing Done. (0.031s)\n",
      "정확도: 0 %\n",
      "사용 모델: runs/train/300epoch/weights/best.pt\n"
     ]
    },
    {
     "name": "stderr",
     "output_type": "stream",
     "text": [
      "YOLOv5  v6.0-193-gdb1f83b torch 1.10.1 CUDA:0 (NVIDIA GeForce RTX 2070, 8192MiB)\n",
      "\n",
      "Fusing layers... \n",
      "Model Summary: 213 layers, 7371523 parameters, 0 gradients, 17.0 GFLOPs\n"
     ]
    },
    {
     "name": "stdout",
     "output_type": "stream",
     "text": [
      "device: cuda:0\n",
      "객체명:coffee_, 확률:0.47%\n",
      "Inferencing and Processing Done. (0.014s)\n",
      "정확도: 0 %\n",
      "사용 모델: runs/train/300epoch/weights/best.pt\n"
     ]
    },
    {
     "name": "stderr",
     "output_type": "stream",
     "text": [
      "YOLOv5  v6.0-193-gdb1f83b torch 1.10.1 CUDA:0 (NVIDIA GeForce RTX 2070, 8192MiB)\n",
      "\n",
      "Fusing layers... \n"
     ]
    },
    {
     "name": "stdout",
     "output_type": "stream",
     "text": [
      "device: cuda:0\n"
     ]
    },
    {
     "name": "stderr",
     "output_type": "stream",
     "text": [
      "Model Summary: 213 layers, 7371523 parameters, 0 gradients, 17.0 GFLOPs\n"
     ]
    },
    {
     "name": "stdout",
     "output_type": "stream",
     "text": [
      "객체명:coffee_, 확률:0.48%\n",
      "Inferencing and Processing Done. (0.014s)\n",
      "정확도: 0 %\n",
      "사용 모델: runs/train/300epoch/weights/best.pt\n"
     ]
    },
    {
     "name": "stderr",
     "output_type": "stream",
     "text": [
      "YOLOv5  v6.0-193-gdb1f83b torch 1.10.1 CUDA:0 (NVIDIA GeForce RTX 2070, 8192MiB)\n",
      "\n",
      "Fusing layers... \n"
     ]
    },
    {
     "name": "stdout",
     "output_type": "stream",
     "text": [
      "device: cuda:0\n"
     ]
    },
    {
     "name": "stderr",
     "output_type": "stream",
     "text": [
      "Model Summary: 213 layers, 7371523 parameters, 0 gradients, 17.0 GFLOPs\n"
     ]
    },
    {
     "name": "stdout",
     "output_type": "stream",
     "text": [
      "객체명:coffee_, 확률:0.49%\n",
      "Inferencing and Processing Done. (0.014s)\n",
      "정확도: 0 %\n",
      "사용 모델: runs/train/300epoch/weights/best.pt\n"
     ]
    },
    {
     "name": "stderr",
     "output_type": "stream",
     "text": [
      "YOLOv5  v6.0-193-gdb1f83b torch 1.10.1 CUDA:0 (NVIDIA GeForce RTX 2070, 8192MiB)\n",
      "\n",
      "Fusing layers... \n"
     ]
    },
    {
     "name": "stdout",
     "output_type": "stream",
     "text": [
      "device: cuda:0\n"
     ]
    },
    {
     "name": "stderr",
     "output_type": "stream",
     "text": [
      "Model Summary: 213 layers, 7371523 parameters, 0 gradients, 17.0 GFLOPs\n"
     ]
    },
    {
     "name": "stdout",
     "output_type": "stream",
     "text": [
      "객체명:coffee_, 확률:0.51%\n",
      "Inferencing and Processing Done. (0.014s)\n",
      "정확도: 0 %\n",
      "사용 모델: runs/train/300epoch/weights/best.pt\n"
     ]
    },
    {
     "name": "stderr",
     "output_type": "stream",
     "text": [
      "YOLOv5  v6.0-193-gdb1f83b torch 1.10.1 CUDA:0 (NVIDIA GeForce RTX 2070, 8192MiB)\n",
      "\n",
      "Fusing layers... \n"
     ]
    },
    {
     "name": "stdout",
     "output_type": "stream",
     "text": [
      "device: cuda:0\n"
     ]
    },
    {
     "name": "stderr",
     "output_type": "stream",
     "text": [
      "Model Summary: 213 layers, 7371523 parameters, 0 gradients, 17.0 GFLOPs\n"
     ]
    },
    {
     "name": "stdout",
     "output_type": "stream",
     "text": [
      "객체명:coffee_, 확률:0.51%\n",
      "Inferencing and Processing Done. (0.015s)\n",
      "정확도: 0 %\n"
     ]
    },
    {
     "name": "stderr",
     "output_type": "stream",
     "text": [
      "YOLOv5  v6.0-193-gdb1f83b torch 1.10.1 CUDA:0 (NVIDIA GeForce RTX 2070, 8192MiB)\n",
      "\n",
      "Fusing layers... \n"
     ]
    },
    {
     "name": "stdout",
     "output_type": "stream",
     "text": [
      "사용 모델: runs/train/300epoch/weights/best.pt\n",
      "device: cuda:0\n"
     ]
    },
    {
     "name": "stderr",
     "output_type": "stream",
     "text": [
      "Model Summary: 213 layers, 7371523 parameters, 0 gradients, 17.0 GFLOPs\n"
     ]
    },
    {
     "name": "stdout",
     "output_type": "stream",
     "text": [
      "객체명:coffee_, 확률:0.50%\n",
      "Inferencing and Processing Done. (0.015s)\n",
      "정확도: 0 %\n",
      "사용 모델: runs/train/300epoch/weights/best.pt\n"
     ]
    },
    {
     "name": "stderr",
     "output_type": "stream",
     "text": [
      "YOLOv5  v6.0-193-gdb1f83b torch 1.10.1 CUDA:0 (NVIDIA GeForce RTX 2070, 8192MiB)\n",
      "\n",
      "Fusing layers... \n"
     ]
    },
    {
     "name": "stdout",
     "output_type": "stream",
     "text": [
      "device: cuda:0\n"
     ]
    },
    {
     "name": "stderr",
     "output_type": "stream",
     "text": [
      "Model Summary: 213 layers, 7371523 parameters, 0 gradients, 17.0 GFLOPs\n"
     ]
    },
    {
     "name": "stdout",
     "output_type": "stream",
     "text": [
      "객체명:coffee_, 확률:0.50%\n",
      "Inferencing and Processing Done. (0.018s)\n",
      "정확도: 0 %\n",
      "사용 모델: runs/train/300epoch/weights/best.pt\n"
     ]
    },
    {
     "name": "stderr",
     "output_type": "stream",
     "text": [
      "YOLOv5  v6.0-193-gdb1f83b torch 1.10.1 CUDA:0 (NVIDIA GeForce RTX 2070, 8192MiB)\n",
      "\n",
      "Fusing layers... \n"
     ]
    },
    {
     "name": "stdout",
     "output_type": "stream",
     "text": [
      "device: cuda:0\n"
     ]
    },
    {
     "name": "stderr",
     "output_type": "stream",
     "text": [
      "Model Summary: 213 layers, 7371523 parameters, 0 gradients, 17.0 GFLOPs\n"
     ]
    },
    {
     "name": "stdout",
     "output_type": "stream",
     "text": [
      "객체명:coffee_, 확률:0.53%\n",
      "Inferencing and Processing Done. (0.015s)\n"
     ]
    },
    {
     "name": "stderr",
     "output_type": "stream",
     "text": [
      "YOLOv5  v6.0-193-gdb1f83b torch 1.10.1 CUDA:0 (NVIDIA GeForce RTX 2070, 8192MiB)\n",
      "\n",
      "Fusing layers... \n"
     ]
    },
    {
     "name": "stdout",
     "output_type": "stream",
     "text": [
      "정확도: 0 %\n",
      "사용 모델: runs/train/300epoch/weights/best.pt\n",
      "device: cuda:0\n"
     ]
    },
    {
     "name": "stderr",
     "output_type": "stream",
     "text": [
      "Model Summary: 213 layers, 7371523 parameters, 0 gradients, 17.0 GFLOPs\n",
      "YOLOv5  v6.0-193-gdb1f83b torch 1.10.1 CUDA:0 (NVIDIA GeForce RTX 2070, 8192MiB)\n",
      "\n"
     ]
    },
    {
     "name": "stdout",
     "output_type": "stream",
     "text": [
      "객체명:coffee_, 확률:0.53%\n",
      "Inferencing and Processing Done. (0.015s)\n",
      "정확도: 0 %\n",
      "사용 모델: runs/train/300epoch/weights/best.pt\n"
     ]
    },
    {
     "name": "stderr",
     "output_type": "stream",
     "text": [
      "Fusing layers... \n"
     ]
    },
    {
     "name": "stdout",
     "output_type": "stream",
     "text": [
      "device: cuda:0\n"
     ]
    },
    {
     "name": "stderr",
     "output_type": "stream",
     "text": [
      "Model Summary: 213 layers, 7371523 parameters, 0 gradients, 17.0 GFLOPs\n"
     ]
    },
    {
     "name": "stdout",
     "output_type": "stream",
     "text": [
      "객체명:coffee_, 확률:0.53%\n",
      "Inferencing and Processing Done. (0.014s)\n",
      "정확도: 0 %\n"
     ]
    },
    {
     "name": "stderr",
     "output_type": "stream",
     "text": [
      "YOLOv5  v6.0-193-gdb1f83b torch 1.10.1 CUDA:0 (NVIDIA GeForce RTX 2070, 8192MiB)\n",
      "\n",
      "Fusing layers... \n"
     ]
    },
    {
     "name": "stdout",
     "output_type": "stream",
     "text": [
      "사용 모델: runs/train/300epoch/weights/best.pt\n",
      "device: cuda:0\n"
     ]
    },
    {
     "name": "stderr",
     "output_type": "stream",
     "text": [
      "Model Summary: 213 layers, 7371523 parameters, 0 gradients, 17.0 GFLOPs\n"
     ]
    },
    {
     "name": "stdout",
     "output_type": "stream",
     "text": [
      "객체명:coffee_, 확률:0.53%\n",
      "Inferencing and Processing Done. (0.015s)\n",
      "정확도: 0 %\n",
      "사용 모델: runs/train/300epoch/weights/best.pt\n"
     ]
    },
    {
     "name": "stderr",
     "output_type": "stream",
     "text": [
      "YOLOv5  v6.0-193-gdb1f83b torch 1.10.1 CUDA:0 (NVIDIA GeForce RTX 2070, 8192MiB)\n",
      "\n",
      "Fusing layers... \n"
     ]
    },
    {
     "name": "stdout",
     "output_type": "stream",
     "text": [
      "device: cuda:0\n"
     ]
    },
    {
     "name": "stderr",
     "output_type": "stream",
     "text": [
      "Model Summary: 213 layers, 7371523 parameters, 0 gradients, 17.0 GFLOPs\n"
     ]
    },
    {
     "name": "stdout",
     "output_type": "stream",
     "text": [
      "객체명:coffee_, 확률:0.53%\n",
      "Inferencing and Processing Done. (0.016s)\n"
     ]
    },
    {
     "name": "stderr",
     "output_type": "stream",
     "text": [
      "YOLOv5  v6.0-193-gdb1f83b torch 1.10.1 CUDA:0 (NVIDIA GeForce RTX 2070, 8192MiB)\n",
      "\n",
      "Fusing layers... \n"
     ]
    },
    {
     "name": "stdout",
     "output_type": "stream",
     "text": [
      "정확도: 0 %\n",
      "사용 모델: runs/train/300epoch/weights/best.pt\n",
      "device: cuda:0\n"
     ]
    },
    {
     "name": "stderr",
     "output_type": "stream",
     "text": [
      "Model Summary: 213 layers, 7371523 parameters, 0 gradients, 17.0 GFLOPs\n"
     ]
    },
    {
     "name": "stdout",
     "output_type": "stream",
     "text": [
      "객체명:coffee_, 확률:0.53%\n",
      "Inferencing and Processing Done. (0.015s)\n",
      "정확도: 0 %\n"
     ]
    },
    {
     "name": "stderr",
     "output_type": "stream",
     "text": [
      "YOLOv5  v6.0-193-gdb1f83b torch 1.10.1 CUDA:0 (NVIDIA GeForce RTX 2070, 8192MiB)\n",
      "\n",
      "Fusing layers... \n"
     ]
    },
    {
     "name": "stdout",
     "output_type": "stream",
     "text": [
      "사용 모델: runs/train/300epoch/weights/best.pt\n",
      "device: cuda:0\n"
     ]
    },
    {
     "name": "stderr",
     "output_type": "stream",
     "text": [
      "Model Summary: 213 layers, 7371523 parameters, 0 gradients, 17.0 GFLOPs\n"
     ]
    },
    {
     "name": "stdout",
     "output_type": "stream",
     "text": [
      "객체명:coffee_, 확률:0.53%\n",
      "Inferencing and Processing Done. (0.013s)\n",
      "정확도: 0 %\n",
      "사용 모델: runs/train/300epoch/weights/best.pt\n"
     ]
    },
    {
     "name": "stderr",
     "output_type": "stream",
     "text": [
      "YOLOv5  v6.0-193-gdb1f83b torch 1.10.1 CUDA:0 (NVIDIA GeForce RTX 2070, 8192MiB)\n",
      "\n",
      "Fusing layers... \n",
      "Model Summary: 213 layers, 7371523 parameters, 0 gradients, 17.0 GFLOPs\n"
     ]
    },
    {
     "name": "stdout",
     "output_type": "stream",
     "text": [
      "device: cuda:0\n",
      "객체명:coffee_, 확률:0.53%\n",
      "Inferencing and Processing Done. (0.014s)\n",
      "정확도: 0 %\n"
     ]
    },
    {
     "name": "stderr",
     "output_type": "stream",
     "text": [
      "YOLOv5  v6.0-193-gdb1f83b torch 1.10.1 CUDA:0 (NVIDIA GeForce RTX 2070, 8192MiB)\n",
      "\n",
      "Fusing layers... \n",
      "Model Summary: 213 layers, 7371523 parameters, 0 gradients, 17.0 GFLOPs\n"
     ]
    },
    {
     "name": "stdout",
     "output_type": "stream",
     "text": [
      "사용 모델: runs/train/300epoch/weights/best.pt\n",
      "device: cuda:0\n",
      "객체명:coffee_, 확률:0.52%\n",
      "Inferencing and Processing Done. (0.013s)\n",
      "정확도: 0 %\n"
     ]
    },
    {
     "name": "stderr",
     "output_type": "stream",
     "text": [
      "YOLOv5  v6.0-193-gdb1f83b torch 1.10.1 CUDA:0 (NVIDIA GeForce RTX 2070, 8192MiB)\n",
      "\n",
      "Fusing layers... \n",
      "Model Summary: 213 layers, 7371523 parameters, 0 gradients, 17.0 GFLOPs\n"
     ]
    },
    {
     "name": "stdout",
     "output_type": "stream",
     "text": [
      "사용 모델: runs/train/300epoch/weights/best.pt\n",
      "device: cuda:0\n",
      "객체명:coffee_, 확률:0.53%\n",
      "Inferencing and Processing Done. (0.013s)\n",
      "정확도: 5 %\n"
     ]
    },
    {
     "name": "stderr",
     "output_type": "stream",
     "text": [
      "YOLOv5  v6.0-193-gdb1f83b torch 1.10.1 CUDA:0 (NVIDIA GeForce RTX 2070, 8192MiB)\n",
      "\n",
      "Fusing layers... \n"
     ]
    },
    {
     "name": "stdout",
     "output_type": "stream",
     "text": [
      "사용 모델: runs/train/300epoch/weights/best.pt\n",
      "device: cuda:0\n"
     ]
    },
    {
     "name": "stderr",
     "output_type": "stream",
     "text": [
      "Model Summary: 213 layers, 7371523 parameters, 0 gradients, 17.0 GFLOPs\n"
     ]
    },
    {
     "name": "stdout",
     "output_type": "stream",
     "text": [
      "객체명:coffee_, 확률:0.53%\n",
      "Inferencing and Processing Done. (0.013s)\n",
      "정확도: 17 %\n"
     ]
    },
    {
     "name": "stderr",
     "output_type": "stream",
     "text": [
      "YOLOv5  v6.0-193-gdb1f83b torch 1.10.1 CUDA:0 (NVIDIA GeForce RTX 2070, 8192MiB)\n",
      "\n",
      "Fusing layers... \n",
      "Model Summary: 213 layers, 7371523 parameters, 0 gradients, 17.0 GFLOPs\n"
     ]
    },
    {
     "name": "stdout",
     "output_type": "stream",
     "text": [
      "사용 모델: runs/train/300epoch/weights/best.pt\n",
      "device: cuda:0\n",
      "객체명:coffee_, 확률:0.53%\n",
      "Inferencing and Processing Done. (0.014s)\n",
      "정확도: 19 %\n",
      "사용 모델: runs/train/300epoch/weights/best.pt\n"
     ]
    },
    {
     "name": "stderr",
     "output_type": "stream",
     "text": [
      "YOLOv5  v6.0-193-gdb1f83b torch 1.10.1 CUDA:0 (NVIDIA GeForce RTX 2070, 8192MiB)\n",
      "\n",
      "Fusing layers... \n",
      "Model Summary: 213 layers, 7371523 parameters, 0 gradients, 17.0 GFLOPs\n"
     ]
    },
    {
     "name": "stdout",
     "output_type": "stream",
     "text": [
      "device: cuda:0\n",
      "객체명:coffee_, 확률:0.53%\n",
      "Inferencing and Processing Done. (0.014s)\n",
      "정확도: 40 %\n",
      "사용 모델: runs/train/300epoch/weights/best.pt\n"
     ]
    },
    {
     "name": "stderr",
     "output_type": "stream",
     "text": [
      "YOLOv5  v6.0-193-gdb1f83b torch 1.10.1 CUDA:0 (NVIDIA GeForce RTX 2070, 8192MiB)\n",
      "\n",
      "Fusing layers... \n",
      "Model Summary: 213 layers, 7371523 parameters, 0 gradients, 17.0 GFLOPs\n"
     ]
    },
    {
     "name": "stdout",
     "output_type": "stream",
     "text": [
      "device: cuda:0\n",
      "객체명:coffee_, 확률:0.53%\n",
      "Inferencing and Processing Done. (0.014s)\n",
      "정확도: 40 %\n",
      "사용 모델: runs/train/300epoch/weights/best.pt\n"
     ]
    },
    {
     "name": "stderr",
     "output_type": "stream",
     "text": [
      "YOLOv5  v6.0-193-gdb1f83b torch 1.10.1 CUDA:0 (NVIDIA GeForce RTX 2070, 8192MiB)\n",
      "\n",
      "Fusing layers... \n"
     ]
    },
    {
     "name": "stdout",
     "output_type": "stream",
     "text": [
      "device: cuda:0\n"
     ]
    },
    {
     "name": "stderr",
     "output_type": "stream",
     "text": [
      "Model Summary: 213 layers, 7371523 parameters, 0 gradients, 17.0 GFLOPs\n"
     ]
    },
    {
     "name": "stdout",
     "output_type": "stream",
     "text": [
      "객체명:coffee_, 확률:0.52%\n",
      "Inferencing and Processing Done. (0.014s)\n",
      "정확도: 40 %\n"
     ]
    },
    {
     "name": "stderr",
     "output_type": "stream",
     "text": [
      "YOLOv5  v6.0-193-gdb1f83b torch 1.10.1 CUDA:0 (NVIDIA GeForce RTX 2070, 8192MiB)\n",
      "\n",
      "Fusing layers... \n"
     ]
    },
    {
     "name": "stdout",
     "output_type": "stream",
     "text": [
      "사용 모델: runs/train/300epoch/weights/best.pt\n",
      "device: cuda:0\n"
     ]
    },
    {
     "name": "stderr",
     "output_type": "stream",
     "text": [
      "Model Summary: 213 layers, 7371523 parameters, 0 gradients, 17.0 GFLOPs\n"
     ]
    },
    {
     "name": "stdout",
     "output_type": "stream",
     "text": [
      "객체명:coffee_, 확률:0.52%\n",
      "Inferencing and Processing Done. (0.014s)\n",
      "정확도: 40 %\n",
      "사용 모델: runs/train/300epoch/weights/best.pt\n"
     ]
    },
    {
     "name": "stderr",
     "output_type": "stream",
     "text": [
      "YOLOv5  v6.0-193-gdb1f83b torch 1.10.1 CUDA:0 (NVIDIA GeForce RTX 2070, 8192MiB)\n",
      "\n",
      "Fusing layers... \n"
     ]
    },
    {
     "name": "stdout",
     "output_type": "stream",
     "text": [
      "device: cuda:0\n"
     ]
    },
    {
     "name": "stderr",
     "output_type": "stream",
     "text": [
      "Model Summary: 213 layers, 7371523 parameters, 0 gradients, 17.0 GFLOPs\n"
     ]
    },
    {
     "name": "stdout",
     "output_type": "stream",
     "text": [
      "객체명:coffee_, 확률:0.52%\n",
      "Inferencing and Processing Done. (0.014s)\n",
      "정확도: 40 %\n",
      "사용 모델: runs/train/300epoch/weights/best.pt\n"
     ]
    },
    {
     "name": "stderr",
     "output_type": "stream",
     "text": [
      "YOLOv5  v6.0-193-gdb1f83b torch 1.10.1 CUDA:0 (NVIDIA GeForce RTX 2070, 8192MiB)\n",
      "\n",
      "Fusing layers... \n"
     ]
    },
    {
     "name": "stdout",
     "output_type": "stream",
     "text": [
      "device: cuda:0\n"
     ]
    },
    {
     "name": "stderr",
     "output_type": "stream",
     "text": [
      "Model Summary: 213 layers, 7371523 parameters, 0 gradients, 17.0 GFLOPs\n"
     ]
    },
    {
     "name": "stdout",
     "output_type": "stream",
     "text": [
      "객체명:coffee_, 확률:0.52%\n",
      "Inferencing and Processing Done. (0.014s)\n",
      "정확도: 41 %\n"
     ]
    },
    {
     "name": "stderr",
     "output_type": "stream",
     "text": [
      "YOLOv5  v6.0-193-gdb1f83b torch 1.10.1 CUDA:0 (NVIDIA GeForce RTX 2070, 8192MiB)\n",
      "\n",
      "Fusing layers... \n"
     ]
    },
    {
     "name": "stdout",
     "output_type": "stream",
     "text": [
      "사용 모델: runs/train/300epoch/weights/best.pt\n",
      "device: cuda:0\n"
     ]
    },
    {
     "name": "stderr",
     "output_type": "stream",
     "text": [
      "Model Summary: 213 layers, 7371523 parameters, 0 gradients, 17.0 GFLOPs\n"
     ]
    },
    {
     "name": "stdout",
     "output_type": "stream",
     "text": [
      "객체명:coffee_, 확률:0.53%\n",
      "Inferencing and Processing Done. (0.014s)\n",
      "정확도: 41 %\n"
     ]
    },
    {
     "name": "stderr",
     "output_type": "stream",
     "text": [
      "YOLOv5  v6.0-193-gdb1f83b torch 1.10.1 CUDA:0 (NVIDIA GeForce RTX 2070, 8192MiB)\n",
      "\n",
      "Fusing layers... \n"
     ]
    },
    {
     "name": "stdout",
     "output_type": "stream",
     "text": [
      "사용 모델: runs/train/300epoch/weights/best.pt\n",
      "device: cuda:0\n"
     ]
    },
    {
     "name": "stderr",
     "output_type": "stream",
     "text": [
      "Model Summary: 213 layers, 7371523 parameters, 0 gradients, 17.0 GFLOPs\n"
     ]
    },
    {
     "name": "stdout",
     "output_type": "stream",
     "text": [
      "객체명:coffee_, 확률:0.52%\n",
      "Inferencing and Processing Done. (0.029s)\n",
      "정확도: 41 %\n",
      "사용 모델: runs/train/300epoch/weights/best.pt\n"
     ]
    },
    {
     "name": "stderr",
     "output_type": "stream",
     "text": [
      "YOLOv5  v6.0-193-gdb1f83b torch 1.10.1 CUDA:0 (NVIDIA GeForce RTX 2070, 8192MiB)\n",
      "\n",
      "Fusing layers... \n",
      "Model Summary: 213 layers, 7371523 parameters, 0 gradients, 17.0 GFLOPs\n"
     ]
    },
    {
     "name": "stdout",
     "output_type": "stream",
     "text": [
      "device: cuda:0\n",
      "객체명:coffee_, 확률:0.52%\n",
      "Inferencing and Processing Done. (0.018s)\n",
      "정확도: 41 %\n",
      "사용 모델: runs/train/300epoch/weights/best.pt\n"
     ]
    },
    {
     "name": "stderr",
     "output_type": "stream",
     "text": [
      "YOLOv5  v6.0-193-gdb1f83b torch 1.10.1 CUDA:0 (NVIDIA GeForce RTX 2070, 8192MiB)\n",
      "\n",
      "Fusing layers... \n"
     ]
    },
    {
     "name": "stdout",
     "output_type": "stream",
     "text": [
      "device: cuda:0\n"
     ]
    },
    {
     "name": "stderr",
     "output_type": "stream",
     "text": [
      "Model Summary: 213 layers, 7371523 parameters, 0 gradients, 17.0 GFLOPs\n"
     ]
    },
    {
     "name": "stdout",
     "output_type": "stream",
     "text": [
      "객체명:coffee_, 확률:0.53%\n",
      "Inferencing and Processing Done. (0.013s)\n",
      "정확도: 42 %\n"
     ]
    },
    {
     "name": "stderr",
     "output_type": "stream",
     "text": [
      "YOLOv5  v6.0-193-gdb1f83b torch 1.10.1 CUDA:0 (NVIDIA GeForce RTX 2070, 8192MiB)\n",
      "\n",
      "Fusing layers... \n"
     ]
    },
    {
     "name": "stdout",
     "output_type": "stream",
     "text": [
      "사용 모델: runs/train/300epoch/weights/best.pt\n",
      "device: cuda:0\n"
     ]
    },
    {
     "name": "stderr",
     "output_type": "stream",
     "text": [
      "Model Summary: 213 layers, 7371523 parameters, 0 gradients, 17.0 GFLOPs\n"
     ]
    },
    {
     "name": "stdout",
     "output_type": "stream",
     "text": [
      "객체명:coffee_, 확률:0.53%\n",
      "Inferencing and Processing Done. (0.014s)\n",
      "정확도: 41 %\n"
     ]
    },
    {
     "name": "stderr",
     "output_type": "stream",
     "text": [
      "YOLOv5  v6.0-193-gdb1f83b torch 1.10.1 CUDA:0 (NVIDIA GeForce RTX 2070, 8192MiB)\n",
      "\n",
      "Fusing layers... \n"
     ]
    },
    {
     "name": "stdout",
     "output_type": "stream",
     "text": [
      "사용 모델: runs/train/300epoch/weights/best.pt\n",
      "device: cuda:0\n"
     ]
    },
    {
     "name": "stderr",
     "output_type": "stream",
     "text": [
      "Model Summary: 213 layers, 7371523 parameters, 0 gradients, 17.0 GFLOPs\n"
     ]
    },
    {
     "name": "stdout",
     "output_type": "stream",
     "text": [
      "객체명:coffee_, 확률:0.53%\n",
      "Inferencing and Processing Done. (0.015s)\n",
      "정확도: 52 %\n",
      "사용 모델: runs/train/300epoch/weights/best.pt\n"
     ]
    },
    {
     "name": "stderr",
     "output_type": "stream",
     "text": [
      "YOLOv5  v6.0-193-gdb1f83b torch 1.10.1 CUDA:0 (NVIDIA GeForce RTX 2070, 8192MiB)\n",
      "\n",
      "Fusing layers... \n"
     ]
    },
    {
     "name": "stdout",
     "output_type": "stream",
     "text": [
      "device: cuda:0\n"
     ]
    },
    {
     "name": "stderr",
     "output_type": "stream",
     "text": [
      "Model Summary: 213 layers, 7371523 parameters, 0 gradients, 17.0 GFLOPs\n"
     ]
    },
    {
     "name": "stdout",
     "output_type": "stream",
     "text": [
      "객체명:coffee_, 확률:0.52%\n",
      "Inferencing and Processing Done. (0.015s)\n",
      "정확도: 50 %\n",
      "사용 모델: runs/train/300epoch/weights/best.pt\n"
     ]
    },
    {
     "name": "stderr",
     "output_type": "stream",
     "text": [
      "YOLOv5  v6.0-193-gdb1f83b torch 1.10.1 CUDA:0 (NVIDIA GeForce RTX 2070, 8192MiB)\n",
      "\n",
      "Fusing layers... \n"
     ]
    },
    {
     "name": "stdout",
     "output_type": "stream",
     "text": [
      "device: cuda:0\n"
     ]
    },
    {
     "name": "stderr",
     "output_type": "stream",
     "text": [
      "Model Summary: 213 layers, 7371523 parameters, 0 gradients, 17.0 GFLOPs\n"
     ]
    },
    {
     "name": "stdout",
     "output_type": "stream",
     "text": [
      "객체명:coffee_, 확률:0.52%\n",
      "Inferencing and Processing Done. (0.016s)\n",
      "정확도: 49 %\n"
     ]
    },
    {
     "name": "stderr",
     "output_type": "stream",
     "text": [
      "YOLOv5  v6.0-193-gdb1f83b torch 1.10.1 CUDA:0 (NVIDIA GeForce RTX 2070, 8192MiB)\n",
      "\n",
      "Fusing layers... \n"
     ]
    },
    {
     "name": "stdout",
     "output_type": "stream",
     "text": [
      "사용 모델: runs/train/300epoch/weights/best.pt\n",
      "device: cuda:0\n"
     ]
    },
    {
     "name": "stderr",
     "output_type": "stream",
     "text": [
      "Model Summary: 213 layers, 7371523 parameters, 0 gradients, 17.0 GFLOPs\n"
     ]
    },
    {
     "name": "stdout",
     "output_type": "stream",
     "text": [
      "객체명:snack_pepero, 확률:0.32%\n",
      "객체명:coffee_, 확률:0.51%\n",
      "Inferencing and Processing Done. (0.016s)\n",
      "정확도: 45 %\n"
     ]
    },
    {
     "name": "stderr",
     "output_type": "stream",
     "text": [
      "YOLOv5  v6.0-193-gdb1f83b torch 1.10.1 CUDA:0 (NVIDIA GeForce RTX 2070, 8192MiB)\n",
      "\n",
      "Fusing layers... \n"
     ]
    },
    {
     "name": "stdout",
     "output_type": "stream",
     "text": [
      "사용 모델: runs/train/300epoch/weights/best.pt\n",
      "device: cuda:0\n"
     ]
    },
    {
     "name": "stderr",
     "output_type": "stream",
     "text": [
      "Model Summary: 213 layers, 7371523 parameters, 0 gradients, 17.0 GFLOPs\n",
      "YOLOv5  v6.0-193-gdb1f83b torch 1.10.1 CUDA:0 (NVIDIA GeForce RTX 2070, 8192MiB)\n",
      "\n"
     ]
    },
    {
     "name": "stdout",
     "output_type": "stream",
     "text": [
      "객체명:snack_pepero, 확률:0.34%\n",
      "객체명:coffee_, 확률:0.51%\n",
      "Inferencing and Processing Done. (0.014s)\n",
      "정확도: 42 %\n",
      "사용 모델: runs/train/300epoch/weights/best.pt\n"
     ]
    },
    {
     "name": "stderr",
     "output_type": "stream",
     "text": [
      "Fusing layers... \n",
      "Model Summary: 213 layers, 7371523 parameters, 0 gradients, 17.0 GFLOPs\n"
     ]
    },
    {
     "name": "stdout",
     "output_type": "stream",
     "text": [
      "device: cuda:0\n",
      "객체명:snack_pepero, 확률:0.33%\n",
      "객체명:coffee_, 확률:0.51%\n",
      "Inferencing and Processing Done. (0.016s)\n"
     ]
    },
    {
     "name": "stderr",
     "output_type": "stream",
     "text": [
      "YOLOv5  v6.0-193-gdb1f83b torch 1.10.1 CUDA:0 (NVIDIA GeForce RTX 2070, 8192MiB)\n",
      "\n",
      "Fusing layers... \n"
     ]
    },
    {
     "name": "stdout",
     "output_type": "stream",
     "text": [
      "정확도: 43 %\n",
      "사용 모델: runs/train/300epoch/weights/best.pt\n",
      "device: cuda:0\n"
     ]
    },
    {
     "name": "stderr",
     "output_type": "stream",
     "text": [
      "Model Summary: 213 layers, 7371523 parameters, 0 gradients, 17.0 GFLOPs\n"
     ]
    },
    {
     "name": "stdout",
     "output_type": "stream",
     "text": [
      "객체명:snack_pepero, 확률:0.29%\n",
      "객체명:coffee_, 확률:0.52%\n",
      "Inferencing and Processing Done. (0.014s)\n"
     ]
    },
    {
     "name": "stderr",
     "output_type": "stream",
     "text": [
      "YOLOv5  v6.0-193-gdb1f83b torch 1.10.1 CUDA:0 (NVIDIA GeForce RTX 2070, 8192MiB)\n",
      "\n",
      "Fusing layers... \n"
     ]
    },
    {
     "name": "stdout",
     "output_type": "stream",
     "text": [
      "정확도: 43 %\n",
      "사용 모델: runs/train/300epoch/weights/best.pt\n",
      "device: cuda:0\n"
     ]
    },
    {
     "name": "stderr",
     "output_type": "stream",
     "text": [
      "Model Summary: 213 layers, 7371523 parameters, 0 gradients, 17.0 GFLOPs\n"
     ]
    },
    {
     "name": "stdout",
     "output_type": "stream",
     "text": [
      "객체명:coffee_, 확률:0.52%\n",
      "Inferencing and Processing Done. (0.017s)\n",
      "정확도: 44 %\n",
      "사용 모델: runs/train/300epoch/weights/best.pt\n"
     ]
    },
    {
     "name": "stderr",
     "output_type": "stream",
     "text": [
      "YOLOv5  v6.0-193-gdb1f83b torch 1.10.1 CUDA:0 (NVIDIA GeForce RTX 2070, 8192MiB)\n",
      "\n",
      "Fusing layers... \n"
     ]
    },
    {
     "name": "stdout",
     "output_type": "stream",
     "text": [
      "device: cuda:0\n"
     ]
    },
    {
     "name": "stderr",
     "output_type": "stream",
     "text": [
      "Model Summary: 213 layers, 7371523 parameters, 0 gradients, 17.0 GFLOPs\n"
     ]
    },
    {
     "name": "stdout",
     "output_type": "stream",
     "text": [
      "객체명:coffee_, 확률:0.51%\n",
      "Inferencing and Processing Done. (0.028s)\n",
      "정확도: 40 %\n",
      "사용 모델: runs/train/300epoch/weights/best.pt\n"
     ]
    },
    {
     "name": "stderr",
     "output_type": "stream",
     "text": [
      "YOLOv5  v6.0-193-gdb1f83b torch 1.10.1 CUDA:0 (NVIDIA GeForce RTX 2070, 8192MiB)\n",
      "\n",
      "Fusing layers... \n"
     ]
    },
    {
     "name": "stdout",
     "output_type": "stream",
     "text": [
      "device: cuda:0\n"
     ]
    },
    {
     "name": "stderr",
     "output_type": "stream",
     "text": [
      "Model Summary: 213 layers, 7371523 parameters, 0 gradients, 17.0 GFLOPs\n"
     ]
    },
    {
     "name": "stdout",
     "output_type": "stream",
     "text": [
      "객체명:coffee_, 확률:0.51%\n",
      "Inferencing and Processing Done. (0.016s)\n",
      "정확도: 39 %\n"
     ]
    },
    {
     "name": "stderr",
     "output_type": "stream",
     "text": [
      "YOLOv5  v6.0-193-gdb1f83b torch 1.10.1 CUDA:0 (NVIDIA GeForce RTX 2070, 8192MiB)\n",
      "\n",
      "Fusing layers... \n"
     ]
    },
    {
     "name": "stdout",
     "output_type": "stream",
     "text": [
      "사용 모델: runs/train/300epoch/weights/best.pt\n",
      "device: cuda:0\n"
     ]
    },
    {
     "name": "stderr",
     "output_type": "stream",
     "text": [
      "Model Summary: 213 layers, 7371523 parameters, 0 gradients, 17.0 GFLOPs\n"
     ]
    },
    {
     "name": "stdout",
     "output_type": "stream",
     "text": [
      "객체명:coffee_, 확률:0.51%\n",
      "Inferencing and Processing Done. (0.014s)\n"
     ]
    },
    {
     "name": "stderr",
     "output_type": "stream",
     "text": [
      "YOLOv5  v6.0-193-gdb1f83b torch 1.10.1 CUDA:0 (NVIDIA GeForce RTX 2070, 8192MiB)\n",
      "\n",
      "Fusing layers... \n"
     ]
    },
    {
     "name": "stdout",
     "output_type": "stream",
     "text": [
      "정확도: 46 %\n",
      "사용 모델: runs/train/300epoch/weights/best.pt\n",
      "device: cuda:0\n"
     ]
    },
    {
     "name": "stderr",
     "output_type": "stream",
     "text": [
      "Model Summary: 213 layers, 7371523 parameters, 0 gradients, 17.0 GFLOPs\n"
     ]
    },
    {
     "name": "stdout",
     "output_type": "stream",
     "text": [
      "객체명:coffee_, 확률:0.51%\n",
      "Inferencing and Processing Done. (0.014s)\n",
      "정확도: 43 %\n"
     ]
    },
    {
     "name": "stderr",
     "output_type": "stream",
     "text": [
      "YOLOv5  v6.0-193-gdb1f83b torch 1.10.1 CUDA:0 (NVIDIA GeForce RTX 2070, 8192MiB)\n",
      "\n",
      "Fusing layers... \n"
     ]
    },
    {
     "name": "stdout",
     "output_type": "stream",
     "text": [
      "사용 모델: runs/train/300epoch/weights/best.pt\n",
      "device: cuda:0\n"
     ]
    },
    {
     "name": "stderr",
     "output_type": "stream",
     "text": [
      "Model Summary: 213 layers, 7371523 parameters, 0 gradients, 17.0 GFLOPs\n"
     ]
    },
    {
     "name": "stdout",
     "output_type": "stream",
     "text": [
      "객체명:coffee_, 확률:0.51%\n",
      "Inferencing and Processing Done. (0.014s)\n"
     ]
    },
    {
     "name": "stderr",
     "output_type": "stream",
     "text": [
      "YOLOv5  v6.0-193-gdb1f83b torch 1.10.1 CUDA:0 (NVIDIA GeForce RTX 2070, 8192MiB)\n",
      "\n",
      "Fusing layers... \n"
     ]
    },
    {
     "name": "stdout",
     "output_type": "stream",
     "text": [
      "정확도: 42 %\n",
      "사용 모델: runs/train/300epoch/weights/best.pt\n",
      "device: cuda:0\n"
     ]
    },
    {
     "name": "stderr",
     "output_type": "stream",
     "text": [
      "Model Summary: 213 layers, 7371523 parameters, 0 gradients, 17.0 GFLOPs\n"
     ]
    },
    {
     "name": "stdout",
     "output_type": "stream",
     "text": [
      "객체명:coffee_, 확률:0.51%\n",
      "Inferencing and Processing Done. (0.015s)\n",
      "정확도: 50 %\n"
     ]
    },
    {
     "name": "stderr",
     "output_type": "stream",
     "text": [
      "YOLOv5  v6.0-193-gdb1f83b torch 1.10.1 CUDA:0 (NVIDIA GeForce RTX 2070, 8192MiB)\n",
      "\n",
      "Fusing layers... \n"
     ]
    },
    {
     "name": "stdout",
     "output_type": "stream",
     "text": [
      "사용 모델: runs/train/300epoch/weights/best.pt\n",
      "device: cuda:0\n"
     ]
    },
    {
     "name": "stderr",
     "output_type": "stream",
     "text": [
      "Model Summary: 213 layers, 7371523 parameters, 0 gradients, 17.0 GFLOPs\n"
     ]
    },
    {
     "name": "stdout",
     "output_type": "stream",
     "text": [
      "객체명:coffee_, 확률:0.51%\n",
      "Inferencing and Processing Done. (0.014s)\n",
      "정확도: 99 %\n"
     ]
    },
    {
     "name": "stderr",
     "output_type": "stream",
     "text": [
      "YOLOv5  v6.0-193-gdb1f83b torch 1.10.1 CUDA:0 (NVIDIA GeForce RTX 2070, 8192MiB)\n",
      "\n",
      "Fusing layers... \n"
     ]
    },
    {
     "name": "stdout",
     "output_type": "stream",
     "text": [
      "사용 모델: runs/train/300epoch/weights/best.pt\n",
      "device: cuda:0\n"
     ]
    },
    {
     "name": "stderr",
     "output_type": "stream",
     "text": [
      "Model Summary: 213 layers, 7371523 parameters, 0 gradients, 17.0 GFLOPs\n"
     ]
    },
    {
     "name": "stdout",
     "output_type": "stream",
     "text": [
      "객체명:Milk_Binggrae strawberry, 확률:0.41%\n",
      "객체명:coffee_, 확률:0.50%\n",
      "Inferencing and Processing Done. (0.016s)\n",
      "정확도: 99 %\n",
      "사용 모델: runs/train/300epoch/weights/best.pt\n"
     ]
    },
    {
     "name": "stderr",
     "output_type": "stream",
     "text": [
      "YOLOv5  v6.0-193-gdb1f83b torch 1.10.1 CUDA:0 (NVIDIA GeForce RTX 2070, 8192MiB)\n",
      "\n",
      "Fusing layers... \n"
     ]
    },
    {
     "name": "stdout",
     "output_type": "stream",
     "text": [
      "device: cuda:0\n"
     ]
    },
    {
     "name": "stderr",
     "output_type": "stream",
     "text": [
      "Model Summary: 213 layers, 7371523 parameters, 0 gradients, 17.0 GFLOPs\n"
     ]
    },
    {
     "name": "stdout",
     "output_type": "stream",
     "text": [
      "객체명:coffee_, 확률:0.49%\n",
      "Inferencing and Processing Done. (0.016s)\n",
      "정확도: 99 %\n"
     ]
    },
    {
     "name": "stderr",
     "output_type": "stream",
     "text": [
      "YOLOv5  v6.0-193-gdb1f83b torch 1.10.1 CUDA:0 (NVIDIA GeForce RTX 2070, 8192MiB)\n",
      "\n",
      "Fusing layers... \n"
     ]
    },
    {
     "name": "stdout",
     "output_type": "stream",
     "text": [
      "사용 모델: runs/train/300epoch/weights/best.pt\n",
      "device: cuda:0\n"
     ]
    },
    {
     "name": "stderr",
     "output_type": "stream",
     "text": [
      "Model Summary: 213 layers, 7371523 parameters, 0 gradients, 17.0 GFLOPs\n"
     ]
    },
    {
     "name": "stdout",
     "output_type": "stream",
     "text": [
      "객체명:coffee_, 확률:0.50%\n",
      "Inferencing and Processing Done. (0.013s)\n",
      "정확도: 99 %\n",
      "사용 모델: runs/train/300epoch/weights/best.pt\n"
     ]
    },
    {
     "name": "stderr",
     "output_type": "stream",
     "text": [
      "YOLOv5  v6.0-193-gdb1f83b torch 1.10.1 CUDA:0 (NVIDIA GeForce RTX 2070, 8192MiB)\n",
      "\n",
      "Fusing layers... \n",
      "Model Summary: 213 layers, 7371523 parameters, 0 gradients, 17.0 GFLOPs\n"
     ]
    },
    {
     "name": "stdout",
     "output_type": "stream",
     "text": [
      "device: cuda:0\n",
      "객체명:coffee_, 확률:0.48%\n",
      "Inferencing and Processing Done. (0.015s)\n"
     ]
    },
    {
     "name": "stderr",
     "output_type": "stream",
     "text": [
      "YOLOv5  v6.0-193-gdb1f83b torch 1.10.1 CUDA:0 (NVIDIA GeForce RTX 2070, 8192MiB)\n",
      "\n",
      "Fusing layers... \n"
     ]
    },
    {
     "name": "stdout",
     "output_type": "stream",
     "text": [
      "정확도: 99 %\n",
      "사용 모델: runs/train/300epoch/weights/best.pt\n",
      "device: cuda:0\n"
     ]
    },
    {
     "name": "stderr",
     "output_type": "stream",
     "text": [
      "Model Summary: 213 layers, 7371523 parameters, 0 gradients, 17.0 GFLOPs\n"
     ]
    },
    {
     "name": "stdout",
     "output_type": "stream",
     "text": [
      "객체명:coffee_, 확률:0.49%\n",
      "Inferencing and Processing Done. (0.017s)\n",
      "정확도: 99 %\n"
     ]
    },
    {
     "name": "stderr",
     "output_type": "stream",
     "text": [
      "YOLOv5  v6.0-193-gdb1f83b torch 1.10.1 CUDA:0 (NVIDIA GeForce RTX 2070, 8192MiB)\n",
      "\n",
      "Fusing layers... \n"
     ]
    },
    {
     "name": "stdout",
     "output_type": "stream",
     "text": [
      "사용 모델: runs/train/300epoch/weights/best.pt\n",
      "device: cuda:0\n"
     ]
    },
    {
     "name": "stderr",
     "output_type": "stream",
     "text": [
      "Model Summary: 213 layers, 7371523 parameters, 0 gradients, 17.0 GFLOPs\n"
     ]
    },
    {
     "name": "stdout",
     "output_type": "stream",
     "text": [
      "객체명:coffee_, 확률:0.50%\n",
      "Inferencing and Processing Done. (0.014s)\n",
      "정확도: 99 %\n"
     ]
    },
    {
     "name": "stderr",
     "output_type": "stream",
     "text": [
      "YOLOv5  v6.0-193-gdb1f83b torch 1.10.1 CUDA:0 (NVIDIA GeForce RTX 2070, 8192MiB)\n",
      "\n",
      "Fusing layers... \n"
     ]
    },
    {
     "name": "stdout",
     "output_type": "stream",
     "text": [
      "사용 모델: runs/train/300epoch/weights/best.pt\n",
      "device: cuda:0\n"
     ]
    },
    {
     "name": "stderr",
     "output_type": "stream",
     "text": [
      "Model Summary: 213 layers, 7371523 parameters, 0 gradients, 17.0 GFLOPs\n"
     ]
    },
    {
     "name": "stdout",
     "output_type": "stream",
     "text": [
      "객체명:coffee_, 확률:0.50%\n",
      "Inferencing and Processing Done. (0.015s)\n",
      "정확도: 99 %\n"
     ]
    },
    {
     "name": "stderr",
     "output_type": "stream",
     "text": [
      "YOLOv5  v6.0-193-gdb1f83b torch 1.10.1 CUDA:0 (NVIDIA GeForce RTX 2070, 8192MiB)\n",
      "\n",
      "Fusing layers... \n"
     ]
    },
    {
     "name": "stdout",
     "output_type": "stream",
     "text": [
      "사용 모델: runs/train/300epoch/weights/best.pt\n",
      "device: cuda:0\n"
     ]
    },
    {
     "name": "stderr",
     "output_type": "stream",
     "text": [
      "Model Summary: 213 layers, 7371523 parameters, 0 gradients, 17.0 GFLOPs\n"
     ]
    },
    {
     "name": "stdout",
     "output_type": "stream",
     "text": [
      "객체명:coffee_, 확률:0.50%\n",
      "Inferencing and Processing Done. (0.013s)\n"
     ]
    },
    {
     "name": "stderr",
     "output_type": "stream",
     "text": [
      "YOLOv5  v6.0-193-gdb1f83b torch 1.10.1 CUDA:0 (NVIDIA GeForce RTX 2070, 8192MiB)\n",
      "\n",
      "Fusing layers... \n"
     ]
    },
    {
     "name": "stdout",
     "output_type": "stream",
     "text": [
      "정확도: 99 %\n",
      "사용 모델: runs/train/300epoch/weights/best.pt\n",
      "device: cuda:0\n"
     ]
    },
    {
     "name": "stderr",
     "output_type": "stream",
     "text": [
      "Model Summary: 213 layers, 7371523 parameters, 0 gradients, 17.0 GFLOPs\n",
      "YOLOv5  v6.0-193-gdb1f83b torch 1.10.1 CUDA:0 (NVIDIA GeForce RTX 2070, 8192MiB)\n",
      "\n"
     ]
    },
    {
     "name": "stdout",
     "output_type": "stream",
     "text": [
      "객체명:coffee_, 확률:0.49%\n",
      "Inferencing and Processing Done. (0.014s)\n",
      "정확도: 99 %\n",
      "사용 모델: runs/train/300epoch/weights/best.pt\n"
     ]
    },
    {
     "name": "stderr",
     "output_type": "stream",
     "text": [
      "Fusing layers... \n",
      "Model Summary: 213 layers, 7371523 parameters, 0 gradients, 17.0 GFLOPs\n"
     ]
    },
    {
     "name": "stdout",
     "output_type": "stream",
     "text": [
      "device: cuda:0\n"
     ]
    },
    {
     "name": "stderr",
     "output_type": "stream",
     "text": [
      "YOLOv5  v6.0-193-gdb1f83b torch 1.10.1 CUDA:0 (NVIDIA GeForce RTX 2070, 8192MiB)\n",
      "\n"
     ]
    },
    {
     "name": "stdout",
     "output_type": "stream",
     "text": [
      "객체명:coffee_, 확률:0.50%\n",
      "Inferencing and Processing Done. (0.013s)\n",
      "정확도: 99 %\n",
      "사용 모델: runs/train/300epoch/weights/best.pt\n"
     ]
    },
    {
     "name": "stderr",
     "output_type": "stream",
     "text": [
      "Fusing layers... \n",
      "Model Summary: 213 layers, 7371523 parameters, 0 gradients, 17.0 GFLOPs\n"
     ]
    },
    {
     "name": "stdout",
     "output_type": "stream",
     "text": [
      "device: cuda:0\n",
      "객체명:coffee_, 확률:0.50%\n",
      "Inferencing and Processing Done. (0.014s)\n"
     ]
    },
    {
     "name": "stderr",
     "output_type": "stream",
     "text": [
      "YOLOv5  v6.0-193-gdb1f83b torch 1.10.1 CUDA:0 (NVIDIA GeForce RTX 2070, 8192MiB)\n",
      "\n",
      "Fusing layers... \n"
     ]
    },
    {
     "name": "stdout",
     "output_type": "stream",
     "text": [
      "정확도: 99 %\n",
      "사용 모델: runs/train/300epoch/weights/best.pt\n",
      "device: cuda:0\n"
     ]
    },
    {
     "name": "stderr",
     "output_type": "stream",
     "text": [
      "Model Summary: 213 layers, 7371523 parameters, 0 gradients, 17.0 GFLOPs\n"
     ]
    },
    {
     "name": "stdout",
     "output_type": "stream",
     "text": [
      "객체명:coffee_, 확률:0.50%\n",
      "Inferencing and Processing Done. (0.013s)\n",
      "정확도: 99 %\n"
     ]
    },
    {
     "name": "stderr",
     "output_type": "stream",
     "text": [
      "YOLOv5  v6.0-193-gdb1f83b torch 1.10.1 CUDA:0 (NVIDIA GeForce RTX 2070, 8192MiB)\n",
      "\n",
      "Fusing layers... \n"
     ]
    },
    {
     "name": "stdout",
     "output_type": "stream",
     "text": [
      "사용 모델: runs/train/300epoch/weights/best.pt\n",
      "device: cuda:0\n"
     ]
    },
    {
     "name": "stderr",
     "output_type": "stream",
     "text": [
      "Model Summary: 213 layers, 7371523 parameters, 0 gradients, 17.0 GFLOPs\n"
     ]
    },
    {
     "name": "stdout",
     "output_type": "stream",
     "text": [
      "객체명:coffee_, 확률:0.51%\n",
      "Inferencing and Processing Done. (0.023s)\n",
      "정확도: 99 %\n",
      "사용 모델: runs/train/300epoch/weights/best.pt\n"
     ]
    },
    {
     "name": "stderr",
     "output_type": "stream",
     "text": [
      "YOLOv5  v6.0-193-gdb1f83b torch 1.10.1 CUDA:0 (NVIDIA GeForce RTX 2070, 8192MiB)\n",
      "\n",
      "Fusing layers... \n"
     ]
    },
    {
     "name": "stdout",
     "output_type": "stream",
     "text": [
      "device: cuda:0\n"
     ]
    },
    {
     "name": "stderr",
     "output_type": "stream",
     "text": [
      "Model Summary: 213 layers, 7371523 parameters, 0 gradients, 17.0 GFLOPs\n"
     ]
    },
    {
     "name": "stdout",
     "output_type": "stream",
     "text": [
      "객체명:coffee_, 확률:0.51%\n",
      "Inferencing and Processing Done. (0.014s)\n",
      "정확도: 99 %\n",
      "사용 모델: runs/train/300epoch/weights/best.pt\n"
     ]
    },
    {
     "name": "stderr",
     "output_type": "stream",
     "text": [
      "YOLOv5  v6.0-193-gdb1f83b torch 1.10.1 CUDA:0 (NVIDIA GeForce RTX 2070, 8192MiB)\n",
      "\n",
      "Fusing layers... \n",
      "Model Summary: 213 layers, 7371523 parameters, 0 gradients, 17.0 GFLOPs\n"
     ]
    },
    {
     "name": "stdout",
     "output_type": "stream",
     "text": [
      "device: cuda:0\n",
      "객체명:coffee_, 확률:0.52%\n",
      "Inferencing and Processing Done. (0.016s)\n",
      "정확도: 99 %\n"
     ]
    },
    {
     "name": "stderr",
     "output_type": "stream",
     "text": [
      "YOLOv5  v6.0-193-gdb1f83b torch 1.10.1 CUDA:0 (NVIDIA GeForce RTX 2070, 8192MiB)\n",
      "\n",
      "Fusing layers... \n"
     ]
    },
    {
     "name": "stdout",
     "output_type": "stream",
     "text": [
      "사용 모델: runs/train/300epoch/weights/best.pt\n",
      "device: cuda:0\n"
     ]
    },
    {
     "name": "stderr",
     "output_type": "stream",
     "text": [
      "Model Summary: 213 layers, 7371523 parameters, 0 gradients, 17.0 GFLOPs\n"
     ]
    },
    {
     "name": "stdout",
     "output_type": "stream",
     "text": [
      "객체명:coffee_, 확률:0.51%\n",
      "Inferencing and Processing Done. (0.015s)\n"
     ]
    },
    {
     "name": "stderr",
     "output_type": "stream",
     "text": [
      "YOLOv5  v6.0-193-gdb1f83b torch 1.10.1 CUDA:0 (NVIDIA GeForce RTX 2070, 8192MiB)\n",
      "\n",
      "Fusing layers... \n"
     ]
    },
    {
     "name": "stdout",
     "output_type": "stream",
     "text": [
      "정확도: 41 %\n",
      "사용 모델: runs/train/300epoch/weights/best.pt\n",
      "device: cuda:0\n"
     ]
    },
    {
     "name": "stderr",
     "output_type": "stream",
     "text": [
      "Model Summary: 213 layers, 7371523 parameters, 0 gradients, 17.0 GFLOPs\n"
     ]
    },
    {
     "name": "stdout",
     "output_type": "stream",
     "text": [
      "객체명:coffee_, 확률:0.51%\n",
      "Inferencing and Processing Done. (0.013s)\n",
      "정확도: 1 %\n"
     ]
    },
    {
     "name": "stderr",
     "output_type": "stream",
     "text": [
      "YOLOv5  v6.0-193-gdb1f83b torch 1.10.1 CUDA:0 (NVIDIA GeForce RTX 2070, 8192MiB)\n",
      "\n",
      "Fusing layers... \n"
     ]
    },
    {
     "name": "stdout",
     "output_type": "stream",
     "text": [
      "사용 모델: runs/train/300epoch/weights/best.pt\n",
      "device: cuda:0\n"
     ]
    },
    {
     "name": "stderr",
     "output_type": "stream",
     "text": [
      "Model Summary: 213 layers, 7371523 parameters, 0 gradients, 17.0 GFLOPs\n"
     ]
    },
    {
     "name": "stdout",
     "output_type": "stream",
     "text": [
      "객체명:coffee_, 확률:0.52%\n",
      "Inferencing and Processing Done. (0.014s)\n",
      "정확도: 1 %\n"
     ]
    },
    {
     "name": "stderr",
     "output_type": "stream",
     "text": [
      "YOLOv5  v6.0-193-gdb1f83b torch 1.10.1 CUDA:0 (NVIDIA GeForce RTX 2070, 8192MiB)\n",
      "\n",
      "Fusing layers... \n"
     ]
    },
    {
     "name": "stdout",
     "output_type": "stream",
     "text": [
      "사용 모델: runs/train/300epoch/weights/best.pt\n",
      "device: cuda:0\n"
     ]
    },
    {
     "name": "stderr",
     "output_type": "stream",
     "text": [
      "Model Summary: 213 layers, 7371523 parameters, 0 gradients, 17.0 GFLOPs\n"
     ]
    },
    {
     "name": "stdout",
     "output_type": "stream",
     "text": [
      "객체명:coffee_, 확률:0.51%\n",
      "Inferencing and Processing Done. (0.014s)\n",
      "정확도: 2 %\n",
      "사용 모델: runs/train/300epoch/weights/best.pt\n"
     ]
    },
    {
     "name": "stderr",
     "output_type": "stream",
     "text": [
      "YOLOv5  v6.0-193-gdb1f83b torch 1.10.1 CUDA:0 (NVIDIA GeForce RTX 2070, 8192MiB)\n",
      "\n",
      "Fusing layers... \n"
     ]
    },
    {
     "name": "stdout",
     "output_type": "stream",
     "text": [
      "device: cuda:0\n"
     ]
    },
    {
     "name": "stderr",
     "output_type": "stream",
     "text": [
      "Model Summary: 213 layers, 7371523 parameters, 0 gradients, 17.0 GFLOPs\n"
     ]
    },
    {
     "name": "stdout",
     "output_type": "stream",
     "text": [
      "객체명:coffee_, 확률:0.52%\n",
      "Inferencing and Processing Done. (0.013s)\n",
      "정확도: 2 %\n",
      "사용 모델: runs/train/300epoch/weights/best.pt\n"
     ]
    },
    {
     "name": "stderr",
     "output_type": "stream",
     "text": [
      "YOLOv5  v6.0-193-gdb1f83b torch 1.10.1 CUDA:0 (NVIDIA GeForce RTX 2070, 8192MiB)\n",
      "\n",
      "Fusing layers... \n"
     ]
    },
    {
     "name": "stdout",
     "output_type": "stream",
     "text": [
      "device: cuda:0\n"
     ]
    },
    {
     "name": "stderr",
     "output_type": "stream",
     "text": [
      "Model Summary: 213 layers, 7371523 parameters, 0 gradients, 17.0 GFLOPs\n"
     ]
    },
    {
     "name": "stdout",
     "output_type": "stream",
     "text": [
      "객체명:coffee_, 확률:0.52%\n",
      "Inferencing and Processing Done. (0.018s)\n",
      "정확도: 2 %\n",
      "사용 모델: runs/train/300epoch/weights/best.pt\n"
     ]
    },
    {
     "name": "stderr",
     "output_type": "stream",
     "text": [
      "YOLOv5  v6.0-193-gdb1f83b torch 1.10.1 CUDA:0 (NVIDIA GeForce RTX 2070, 8192MiB)\n",
      "\n",
      "Fusing layers... \n"
     ]
    },
    {
     "name": "stdout",
     "output_type": "stream",
     "text": [
      "device: cuda:0\n"
     ]
    },
    {
     "name": "stderr",
     "output_type": "stream",
     "text": [
      "Model Summary: 213 layers, 7371523 parameters, 0 gradients, 17.0 GFLOPs\n"
     ]
    },
    {
     "name": "stdout",
     "output_type": "stream",
     "text": [
      "객체명:coffee_, 확률:0.52%\n",
      "Inferencing and Processing Done. (0.014s)\n",
      "정확도: 2 %\n",
      "사용 모델: runs/train/300epoch/weights/best.pt\n"
     ]
    },
    {
     "name": "stderr",
     "output_type": "stream",
     "text": [
      "YOLOv5  v6.0-193-gdb1f83b torch 1.10.1 CUDA:0 (NVIDIA GeForce RTX 2070, 8192MiB)\n",
      "\n",
      "Fusing layers... \n",
      "Model Summary: 213 layers, 7371523 parameters, 0 gradients, 17.0 GFLOPs\n"
     ]
    },
    {
     "name": "stdout",
     "output_type": "stream",
     "text": [
      "device: cuda:0\n"
     ]
    },
    {
     "name": "stderr",
     "output_type": "stream",
     "text": [
      "YOLOv5  v6.0-193-gdb1f83b torch 1.10.1 CUDA:0 (NVIDIA GeForce RTX 2070, 8192MiB)\n",
      "\n"
     ]
    },
    {
     "name": "stdout",
     "output_type": "stream",
     "text": [
      "객체명:coffee_, 확률:0.52%\n",
      "Inferencing and Processing Done. (0.014s)\n",
      "정확도: 17 %\n",
      "사용 모델: runs/train/300epoch/weights/best.pt\n"
     ]
    },
    {
     "name": "stderr",
     "output_type": "stream",
     "text": [
      "Fusing layers... \n"
     ]
    },
    {
     "name": "stdout",
     "output_type": "stream",
     "text": [
      "device: cuda:0\n"
     ]
    },
    {
     "name": "stderr",
     "output_type": "stream",
     "text": [
      "Model Summary: 213 layers, 7371523 parameters, 0 gradients, 17.0 GFLOPs\n"
     ]
    },
    {
     "name": "stdout",
     "output_type": "stream",
     "text": [
      "객체명:coffee_, 확률:0.52%\n",
      "Inferencing and Processing Done. (0.014s)\n",
      "정확도: 35 %\n"
     ]
    },
    {
     "name": "stderr",
     "output_type": "stream",
     "text": [
      "YOLOv5  v6.0-193-gdb1f83b torch 1.10.1 CUDA:0 (NVIDIA GeForce RTX 2070, 8192MiB)\n",
      "\n",
      "Fusing layers... \n"
     ]
    },
    {
     "name": "stdout",
     "output_type": "stream",
     "text": [
      "사용 모델: runs/train/300epoch/weights/best.pt\n",
      "device: cuda:0\n"
     ]
    },
    {
     "name": "stderr",
     "output_type": "stream",
     "text": [
      "Model Summary: 213 layers, 7371523 parameters, 0 gradients, 17.0 GFLOPs\n"
     ]
    },
    {
     "name": "stdout",
     "output_type": "stream",
     "text": [
      "객체명:coffee_, 확률:0.52%\n",
      "Inferencing and Processing Done. (0.014s)\n",
      "정확도: 45 %\n",
      "사용 모델: runs/train/300epoch/weights/best.pt\n"
     ]
    },
    {
     "name": "stderr",
     "output_type": "stream",
     "text": [
      "YOLOv5  v6.0-193-gdb1f83b torch 1.10.1 CUDA:0 (NVIDIA GeForce RTX 2070, 8192MiB)\n",
      "\n",
      "Fusing layers... \n"
     ]
    },
    {
     "name": "stdout",
     "output_type": "stream",
     "text": [
      "device: cuda:0\n"
     ]
    },
    {
     "name": "stderr",
     "output_type": "stream",
     "text": [
      "Model Summary: 213 layers, 7371523 parameters, 0 gradients, 17.0 GFLOPs\n"
     ]
    },
    {
     "name": "stdout",
     "output_type": "stream",
     "text": [
      "객체명:coffee_, 확률:0.52%\n",
      "Inferencing and Processing Done. (0.019s)\n"
     ]
    },
    {
     "name": "stderr",
     "output_type": "stream",
     "text": [
      "YOLOv5  v6.0-193-gdb1f83b torch 1.10.1 CUDA:0 (NVIDIA GeForce RTX 2070, 8192MiB)\n",
      "\n",
      "Fusing layers... \n"
     ]
    },
    {
     "name": "stdout",
     "output_type": "stream",
     "text": [
      "정확도: 31 %\n",
      "사용 모델: runs/train/300epoch/weights/best.pt\n",
      "device: cuda:0\n"
     ]
    },
    {
     "name": "stderr",
     "output_type": "stream",
     "text": [
      "Model Summary: 213 layers, 7371523 parameters, 0 gradients, 17.0 GFLOPs\n"
     ]
    },
    {
     "name": "stdout",
     "output_type": "stream",
     "text": [
      "객체명:coffee_, 확률:0.53%\n",
      "Inferencing and Processing Done. (0.017s)\n",
      "정확도: 30 %\n"
     ]
    },
    {
     "name": "stderr",
     "output_type": "stream",
     "text": [
      "YOLOv5  v6.0-193-gdb1f83b torch 1.10.1 CUDA:0 (NVIDIA GeForce RTX 2070, 8192MiB)\n",
      "\n",
      "Fusing layers... \n"
     ]
    },
    {
     "name": "stdout",
     "output_type": "stream",
     "text": [
      "사용 모델: runs/train/300epoch/weights/best.pt\n",
      "device: cuda:0\n"
     ]
    },
    {
     "name": "stderr",
     "output_type": "stream",
     "text": [
      "Model Summary: 213 layers, 7371523 parameters, 0 gradients, 17.0 GFLOPs\n"
     ]
    },
    {
     "name": "stdout",
     "output_type": "stream",
     "text": [
      "객체명:coffee_, 확률:0.53%\n",
      "Inferencing and Processing Done. (0.015s)\n",
      "정확도: 34 %\n"
     ]
    },
    {
     "name": "stderr",
     "output_type": "stream",
     "text": [
      "YOLOv5  v6.0-193-gdb1f83b torch 1.10.1 CUDA:0 (NVIDIA GeForce RTX 2070, 8192MiB)\n",
      "\n",
      "Fusing layers... \n"
     ]
    },
    {
     "name": "stdout",
     "output_type": "stream",
     "text": [
      "사용 모델: runs/train/300epoch/weights/best.pt\n",
      "device: cuda:0\n"
     ]
    },
    {
     "name": "stderr",
     "output_type": "stream",
     "text": [
      "Model Summary: 213 layers, 7371523 parameters, 0 gradients, 17.0 GFLOPs\n"
     ]
    },
    {
     "name": "stdout",
     "output_type": "stream",
     "text": [
      "객체명:coffee_, 확률:0.52%\n",
      "Inferencing and Processing Done. (0.013s)\n",
      "정확도: 35 %\n"
     ]
    },
    {
     "name": "stderr",
     "output_type": "stream",
     "text": [
      "YOLOv5  v6.0-193-gdb1f83b torch 1.10.1 CUDA:0 (NVIDIA GeForce RTX 2070, 8192MiB)\n",
      "\n",
      "Fusing layers... \n"
     ]
    },
    {
     "name": "stdout",
     "output_type": "stream",
     "text": [
      "사용 모델: runs/train/300epoch/weights/best.pt\n",
      "device: cuda:0\n"
     ]
    },
    {
     "name": "stderr",
     "output_type": "stream",
     "text": [
      "Model Summary: 213 layers, 7371523 parameters, 0 gradients, 17.0 GFLOPs\n"
     ]
    },
    {
     "name": "stdout",
     "output_type": "stream",
     "text": [
      "객체명:coffee_, 확률:0.53%\n",
      "Inferencing and Processing Done. (0.014s)\n",
      "정확도: 32 %\n"
     ]
    },
    {
     "name": "stderr",
     "output_type": "stream",
     "text": [
      "YOLOv5  v6.0-193-gdb1f83b torch 1.10.1 CUDA:0 (NVIDIA GeForce RTX 2070, 8192MiB)\n",
      "\n",
      "Fusing layers... \n"
     ]
    },
    {
     "name": "stdout",
     "output_type": "stream",
     "text": [
      "사용 모델: runs/train/300epoch/weights/best.pt\n",
      "device: cuda:0\n"
     ]
    },
    {
     "name": "stderr",
     "output_type": "stream",
     "text": [
      "Model Summary: 213 layers, 7371523 parameters, 0 gradients, 17.0 GFLOPs\n"
     ]
    },
    {
     "name": "stdout",
     "output_type": "stream",
     "text": [
      "객체명:coffee_, 확률:0.53%\n",
      "Inferencing and Processing Done. (0.015s)\n",
      "정확도: 32 %\n"
     ]
    },
    {
     "name": "stderr",
     "output_type": "stream",
     "text": [
      "YOLOv5  v6.0-193-gdb1f83b torch 1.10.1 CUDA:0 (NVIDIA GeForce RTX 2070, 8192MiB)\n",
      "\n",
      "Fusing layers... \n"
     ]
    },
    {
     "name": "stdout",
     "output_type": "stream",
     "text": [
      "사용 모델: runs/train/300epoch/weights/best.pt\n",
      "device: cuda:0\n"
     ]
    },
    {
     "name": "stderr",
     "output_type": "stream",
     "text": [
      "Model Summary: 213 layers, 7371523 parameters, 0 gradients, 17.0 GFLOPs\n"
     ]
    },
    {
     "name": "stdout",
     "output_type": "stream",
     "text": [
      "객체명:coffee_, 확률:0.53%\n",
      "Inferencing and Processing Done. (0.015s)\n",
      "정확도: 35 %\n",
      "사용 모델: runs/train/300epoch/weights/best.pt\n"
     ]
    },
    {
     "name": "stderr",
     "output_type": "stream",
     "text": [
      "YOLOv5  v6.0-193-gdb1f83b torch 1.10.1 CUDA:0 (NVIDIA GeForce RTX 2070, 8192MiB)\n",
      "\n",
      "Fusing layers... \n"
     ]
    },
    {
     "name": "stdout",
     "output_type": "stream",
     "text": [
      "device: cuda:0\n"
     ]
    },
    {
     "name": "stderr",
     "output_type": "stream",
     "text": [
      "Model Summary: 213 layers, 7371523 parameters, 0 gradients, 17.0 GFLOPs\n"
     ]
    },
    {
     "name": "stdout",
     "output_type": "stream",
     "text": [
      "객체명:coffee_, 확률:0.53%\n",
      "Inferencing and Processing Done. (0.016s)\n",
      "정확도: 22 %\n",
      "사용 모델: runs/train/300epoch/weights/best.pt\n"
     ]
    },
    {
     "name": "stderr",
     "output_type": "stream",
     "text": [
      "YOLOv5  v6.0-193-gdb1f83b torch 1.10.1 CUDA:0 (NVIDIA GeForce RTX 2070, 8192MiB)\n",
      "\n",
      "Fusing layers... \n"
     ]
    },
    {
     "name": "stdout",
     "output_type": "stream",
     "text": [
      "device: cuda:0\n"
     ]
    },
    {
     "name": "stderr",
     "output_type": "stream",
     "text": [
      "Model Summary: 213 layers, 7371523 parameters, 0 gradients, 17.0 GFLOPs\n"
     ]
    },
    {
     "name": "stdout",
     "output_type": "stream",
     "text": [
      "객체명:coffee_, 확률:0.52%\n",
      "Inferencing and Processing Done. (0.015s)\n",
      "정확도: 31 %\n"
     ]
    },
    {
     "name": "stderr",
     "output_type": "stream",
     "text": [
      "YOLOv5  v6.0-193-gdb1f83b torch 1.10.1 CUDA:0 (NVIDIA GeForce RTX 2070, 8192MiB)\n",
      "\n",
      "Fusing layers... \n"
     ]
    },
    {
     "name": "stdout",
     "output_type": "stream",
     "text": [
      "사용 모델: runs/train/300epoch/weights/best.pt\n",
      "device: cuda:0\n"
     ]
    },
    {
     "name": "stderr",
     "output_type": "stream",
     "text": [
      "Model Summary: 213 layers, 7371523 parameters, 0 gradients, 17.0 GFLOPs\n"
     ]
    },
    {
     "name": "stdout",
     "output_type": "stream",
     "text": [
      "객체명:coffee_, 확률:0.52%\n",
      "Inferencing and Processing Done. (0.016s)\n"
     ]
    },
    {
     "name": "stderr",
     "output_type": "stream",
     "text": [
      "YOLOv5  v6.0-193-gdb1f83b torch 1.10.1 CUDA:0 (NVIDIA GeForce RTX 2070, 8192MiB)\n",
      "\n",
      "Fusing layers... \n"
     ]
    },
    {
     "name": "stdout",
     "output_type": "stream",
     "text": [
      "정확도: 24 %\n",
      "사용 모델: runs/train/300epoch/weights/best.pt\n",
      "device: cuda:0\n"
     ]
    },
    {
     "name": "stderr",
     "output_type": "stream",
     "text": [
      "Model Summary: 213 layers, 7371523 parameters, 0 gradients, 17.0 GFLOPs\n"
     ]
    },
    {
     "name": "stdout",
     "output_type": "stream",
     "text": [
      "객체명:coffee_, 확률:0.51%\n",
      "Inferencing and Processing Done. (0.021s)\n",
      "정확도: 34 %\n",
      "사용 모델: runs/train/300epoch/weights/best.pt\n"
     ]
    },
    {
     "name": "stderr",
     "output_type": "stream",
     "text": [
      "YOLOv5  v6.0-193-gdb1f83b torch 1.10.1 CUDA:0 (NVIDIA GeForce RTX 2070, 8192MiB)\n",
      "\n",
      "Fusing layers... \n"
     ]
    },
    {
     "name": "stdout",
     "output_type": "stream",
     "text": [
      "device: cuda:0\n"
     ]
    },
    {
     "name": "stderr",
     "output_type": "stream",
     "text": [
      "Model Summary: 213 layers, 7371523 parameters, 0 gradients, 17.0 GFLOPs\n"
     ]
    },
    {
     "name": "stdout",
     "output_type": "stream",
     "text": [
      "객체명:coffee_, 확률:0.51%\n",
      "Inferencing and Processing Done. (0.014s)\n",
      "정확도: 21 %\n"
     ]
    },
    {
     "name": "stderr",
     "output_type": "stream",
     "text": [
      "YOLOv5  v6.0-193-gdb1f83b torch 1.10.1 CUDA:0 (NVIDIA GeForce RTX 2070, 8192MiB)\n",
      "\n",
      "Fusing layers... \n"
     ]
    },
    {
     "name": "stdout",
     "output_type": "stream",
     "text": [
      "사용 모델: runs/train/300epoch/weights/best.pt\n",
      "device: cuda:0\n"
     ]
    },
    {
     "name": "stderr",
     "output_type": "stream",
     "text": [
      "Model Summary: 213 layers, 7371523 parameters, 0 gradients, 17.0 GFLOPs\n",
      "YOLOv5  v6.0-193-gdb1f83b torch 1.10.1 CUDA:0 (NVIDIA GeForce RTX 2070, 8192MiB)\n",
      "\n"
     ]
    },
    {
     "name": "stdout",
     "output_type": "stream",
     "text": [
      "객체명:coffee_, 확률:0.51%\n",
      "Inferencing and Processing Done. (0.014s)\n",
      "정확도: 31 %\n",
      "사용 모델: runs/train/300epoch/weights/best.pt\n"
     ]
    },
    {
     "name": "stderr",
     "output_type": "stream",
     "text": [
      "Fusing layers... \n"
     ]
    },
    {
     "name": "stdout",
     "output_type": "stream",
     "text": [
      "device: cuda:0\n"
     ]
    },
    {
     "name": "stderr",
     "output_type": "stream",
     "text": [
      "Model Summary: 213 layers, 7371523 parameters, 0 gradients, 17.0 GFLOPs\n"
     ]
    },
    {
     "name": "stdout",
     "output_type": "stream",
     "text": [
      "객체명:coffee_, 확률:0.50%\n",
      "Inferencing and Processing Done. (0.015s)\n"
     ]
    },
    {
     "name": "stderr",
     "output_type": "stream",
     "text": [
      "YOLOv5  v6.0-193-gdb1f83b torch 1.10.1 CUDA:0 (NVIDIA GeForce RTX 2070, 8192MiB)\n",
      "\n",
      "Fusing layers... \n"
     ]
    },
    {
     "name": "stdout",
     "output_type": "stream",
     "text": [
      "정확도: 16 %\n",
      "사용 모델: runs/train/300epoch/weights/best.pt\n",
      "device: cuda:0\n"
     ]
    },
    {
     "name": "stderr",
     "output_type": "stream",
     "text": [
      "Model Summary: 213 layers, 7371523 parameters, 0 gradients, 17.0 GFLOPs\n"
     ]
    },
    {
     "name": "stdout",
     "output_type": "stream",
     "text": [
      "객체명:coffee_, 확률:0.51%\n",
      "Inferencing and Processing Done. (0.014s)\n",
      "정확도: 17 %\n"
     ]
    },
    {
     "name": "stderr",
     "output_type": "stream",
     "text": [
      "YOLOv5  v6.0-193-gdb1f83b torch 1.10.1 CUDA:0 (NVIDIA GeForce RTX 2070, 8192MiB)\n",
      "\n",
      "Fusing layers... \n"
     ]
    },
    {
     "name": "stdout",
     "output_type": "stream",
     "text": [
      "사용 모델: runs/train/300epoch/weights/best.pt\n",
      "device: cuda:0\n"
     ]
    },
    {
     "name": "stderr",
     "output_type": "stream",
     "text": [
      "Model Summary: 213 layers, 7371523 parameters, 0 gradients, 17.0 GFLOPs\n"
     ]
    },
    {
     "name": "stdout",
     "output_type": "stream",
     "text": [
      "객체명:coffee_, 확률:0.50%\n",
      "Inferencing and Processing Done. (0.014s)\n"
     ]
    },
    {
     "name": "stderr",
     "output_type": "stream",
     "text": [
      "YOLOv5  v6.0-193-gdb1f83b torch 1.10.1 CUDA:0 (NVIDIA GeForce RTX 2070, 8192MiB)\n",
      "\n",
      "Fusing layers... \n"
     ]
    },
    {
     "name": "stdout",
     "output_type": "stream",
     "text": [
      "정확도: 15 %\n",
      "사용 모델: runs/train/300epoch/weights/best.pt\n",
      "device: cuda:0\n"
     ]
    },
    {
     "name": "stderr",
     "output_type": "stream",
     "text": [
      "Model Summary: 213 layers, 7371523 parameters, 0 gradients, 17.0 GFLOPs\n"
     ]
    },
    {
     "name": "stdout",
     "output_type": "stream",
     "text": [
      "객체명:coffee_, 확률:0.51%\n",
      "Inferencing and Processing Done. (0.015s)\n",
      "정확도: 14 %\n"
     ]
    },
    {
     "name": "stderr",
     "output_type": "stream",
     "text": [
      "YOLOv5  v6.0-193-gdb1f83b torch 1.10.1 CUDA:0 (NVIDIA GeForce RTX 2070, 8192MiB)\n",
      "\n",
      "Fusing layers... \n"
     ]
    },
    {
     "name": "stdout",
     "output_type": "stream",
     "text": [
      "사용 모델: runs/train/300epoch/weights/best.pt\n",
      "device: cuda:0\n"
     ]
    },
    {
     "name": "stderr",
     "output_type": "stream",
     "text": [
      "Model Summary: 213 layers, 7371523 parameters, 0 gradients, 17.0 GFLOPs\n",
      "YOLOv5  v6.0-193-gdb1f83b torch 1.10.1 CUDA:0 (NVIDIA GeForce RTX 2070, 8192MiB)\n",
      "\n"
     ]
    },
    {
     "name": "stdout",
     "output_type": "stream",
     "text": [
      "객체명:coffee_, 확률:0.51%\n",
      "Inferencing and Processing Done. (0.014s)\n",
      "정확도: 12 %\n",
      "사용 모델: runs/train/300epoch/weights/best.pt\n"
     ]
    },
    {
     "name": "stderr",
     "output_type": "stream",
     "text": [
      "Fusing layers... \n"
     ]
    },
    {
     "name": "stdout",
     "output_type": "stream",
     "text": [
      "device: cuda:0\n"
     ]
    },
    {
     "name": "stderr",
     "output_type": "stream",
     "text": [
      "Model Summary: 213 layers, 7371523 parameters, 0 gradients, 17.0 GFLOPs\n"
     ]
    },
    {
     "name": "stdout",
     "output_type": "stream",
     "text": [
      "객체명:coffee_, 확률:0.52%\n",
      "Inferencing and Processing Done. (0.014s)\n",
      "정확도: 16 %\n"
     ]
    },
    {
     "name": "stderr",
     "output_type": "stream",
     "text": [
      "YOLOv5  v6.0-193-gdb1f83b torch 1.10.1 CUDA:0 (NVIDIA GeForce RTX 2070, 8192MiB)\n",
      "\n",
      "Fusing layers... \n"
     ]
    },
    {
     "name": "stdout",
     "output_type": "stream",
     "text": [
      "사용 모델: runs/train/300epoch/weights/best.pt\n",
      "device: cuda:0\n"
     ]
    },
    {
     "name": "stderr",
     "output_type": "stream",
     "text": [
      "Model Summary: 213 layers, 7371523 parameters, 0 gradients, 17.0 GFLOPs\n"
     ]
    },
    {
     "name": "stdout",
     "output_type": "stream",
     "text": [
      "객체명:coffee_, 확률:0.52%\n",
      "Inferencing and Processing Done. (0.014s)\n",
      "정확도: 14 %\n"
     ]
    },
    {
     "name": "stderr",
     "output_type": "stream",
     "text": [
      "YOLOv5  v6.0-193-gdb1f83b torch 1.10.1 CUDA:0 (NVIDIA GeForce RTX 2070, 8192MiB)\n",
      "\n",
      "Fusing layers... \n"
     ]
    },
    {
     "name": "stdout",
     "output_type": "stream",
     "text": [
      "사용 모델: runs/train/300epoch/weights/best.pt\n",
      "device: cuda:0\n"
     ]
    },
    {
     "name": "stderr",
     "output_type": "stream",
     "text": [
      "Model Summary: 213 layers, 7371523 parameters, 0 gradients, 17.0 GFLOPs\n"
     ]
    },
    {
     "name": "stdout",
     "output_type": "stream",
     "text": [
      "객체명:coffee_, 확률:0.52%\n",
      "Inferencing and Processing Done. (0.013s)\n",
      "정확도: 10 %\n",
      "사용 모델: runs/train/300epoch/weights/best.pt\n"
     ]
    },
    {
     "name": "stderr",
     "output_type": "stream",
     "text": [
      "YOLOv5  v6.0-193-gdb1f83b torch 1.10.1 CUDA:0 (NVIDIA GeForce RTX 2070, 8192MiB)\n",
      "\n",
      "Fusing layers... \n"
     ]
    },
    {
     "name": "stdout",
     "output_type": "stream",
     "text": [
      "device: cuda:0\n"
     ]
    },
    {
     "name": "stderr",
     "output_type": "stream",
     "text": [
      "Model Summary: 213 layers, 7371523 parameters, 0 gradients, 17.0 GFLOPs\n"
     ]
    },
    {
     "name": "stdout",
     "output_type": "stream",
     "text": [
      "객체명:coffee_, 확률:0.52%\n",
      "Inferencing and Processing Done. (0.013s)\n",
      "정확도: 16 %\n",
      "사용 모델: runs/train/300epoch/weights/best.pt\n"
     ]
    },
    {
     "name": "stderr",
     "output_type": "stream",
     "text": [
      "YOLOv5  v6.0-193-gdb1f83b torch 1.10.1 CUDA:0 (NVIDIA GeForce RTX 2070, 8192MiB)\n",
      "\n",
      "Fusing layers... \n"
     ]
    },
    {
     "name": "stdout",
     "output_type": "stream",
     "text": [
      "device: cuda:0\n"
     ]
    },
    {
     "name": "stderr",
     "output_type": "stream",
     "text": [
      "Model Summary: 213 layers, 7371523 parameters, 0 gradients, 17.0 GFLOPs\n",
      "YOLOv5  v6.0-193-gdb1f83b torch 1.10.1 CUDA:0 (NVIDIA GeForce RTX 2070, 8192MiB)\n",
      "\n"
     ]
    },
    {
     "name": "stdout",
     "output_type": "stream",
     "text": [
      "객체명:coffee_, 확률:0.52%\n",
      "Inferencing and Processing Done. (0.014s)\n",
      "정확도: 22 %\n",
      "사용 모델: runs/train/300epoch/weights/best.pt\n"
     ]
    },
    {
     "name": "stderr",
     "output_type": "stream",
     "text": [
      "Fusing layers... \n"
     ]
    },
    {
     "name": "stdout",
     "output_type": "stream",
     "text": [
      "device: cuda:0\n"
     ]
    },
    {
     "name": "stderr",
     "output_type": "stream",
     "text": [
      "Model Summary: 213 layers, 7371523 parameters, 0 gradients, 17.0 GFLOPs\n"
     ]
    },
    {
     "name": "stdout",
     "output_type": "stream",
     "text": [
      "객체명:coffee_, 확률:0.52%\n",
      "Inferencing and Processing Done. (0.015s)\n",
      "정확도: 16 %\n",
      "사용 모델: runs/train/300epoch/weights/best.pt\n"
     ]
    },
    {
     "name": "stderr",
     "output_type": "stream",
     "text": [
      "YOLOv5  v6.0-193-gdb1f83b torch 1.10.1 CUDA:0 (NVIDIA GeForce RTX 2070, 8192MiB)\n",
      "\n",
      "Fusing layers... \n"
     ]
    },
    {
     "name": "stdout",
     "output_type": "stream",
     "text": [
      "device: cuda:0\n"
     ]
    },
    {
     "name": "stderr",
     "output_type": "stream",
     "text": [
      "Model Summary: 213 layers, 7371523 parameters, 0 gradients, 17.0 GFLOPs\n"
     ]
    },
    {
     "name": "stdout",
     "output_type": "stream",
     "text": [
      "객체명:coffee_, 확률:0.52%\n",
      "Inferencing and Processing Done. (0.033s)\n",
      "정확도: 16 %\n",
      "사용 모델: runs/train/300epoch/weights/best.pt\n"
     ]
    },
    {
     "name": "stderr",
     "output_type": "stream",
     "text": [
      "YOLOv5  v6.0-193-gdb1f83b torch 1.10.1 CUDA:0 (NVIDIA GeForce RTX 2070, 8192MiB)\n",
      "\n",
      "Fusing layers... \n",
      "Model Summary: 213 layers, 7371523 parameters, 0 gradients, 17.0 GFLOPs\n"
     ]
    },
    {
     "name": "stdout",
     "output_type": "stream",
     "text": [
      "device: cuda:0\n",
      "객체명:coffee_, 확률:0.52%\n",
      "Inferencing and Processing Done. (0.013s)\n"
     ]
    },
    {
     "name": "stderr",
     "output_type": "stream",
     "text": [
      "YOLOv5  v6.0-193-gdb1f83b torch 1.10.1 CUDA:0 (NVIDIA GeForce RTX 2070, 8192MiB)\n",
      "\n",
      "Fusing layers... \n"
     ]
    },
    {
     "name": "stdout",
     "output_type": "stream",
     "text": [
      "정확도: 15 %\n",
      "사용 모델: runs/train/300epoch/weights/best.pt\n",
      "device: cuda:0\n"
     ]
    },
    {
     "name": "stderr",
     "output_type": "stream",
     "text": [
      "Model Summary: 213 layers, 7371523 parameters, 0 gradients, 17.0 GFLOPs\n"
     ]
    },
    {
     "name": "stdout",
     "output_type": "stream",
     "text": [
      "객체명:coffee_, 확률:0.52%\n",
      "Inferencing and Processing Done. (0.015s)\n",
      "정확도: 30 %\n",
      "사용 모델: runs/train/300epoch/weights/best.pt\n"
     ]
    },
    {
     "name": "stderr",
     "output_type": "stream",
     "text": [
      "YOLOv5  v6.0-193-gdb1f83b torch 1.10.1 CUDA:0 (NVIDIA GeForce RTX 2070, 8192MiB)\n",
      "\n",
      "Fusing layers... \n"
     ]
    },
    {
     "name": "stdout",
     "output_type": "stream",
     "text": [
      "device: cuda:0\n"
     ]
    },
    {
     "name": "stderr",
     "output_type": "stream",
     "text": [
      "Model Summary: 213 layers, 7371523 parameters, 0 gradients, 17.0 GFLOPs\n"
     ]
    },
    {
     "name": "stdout",
     "output_type": "stream",
     "text": [
      "객체명:coffee_, 확률:0.52%\n",
      "Inferencing and Processing Done. (0.013s)\n",
      "정확도: 21 %\n"
     ]
    },
    {
     "name": "stderr",
     "output_type": "stream",
     "text": [
      "YOLOv5  v6.0-193-gdb1f83b torch 1.10.1 CUDA:0 (NVIDIA GeForce RTX 2070, 8192MiB)\n",
      "\n",
      "Fusing layers... \n"
     ]
    },
    {
     "name": "stdout",
     "output_type": "stream",
     "text": [
      "사용 모델: runs/train/300epoch/weights/best.pt\n",
      "device: cuda:0\n"
     ]
    },
    {
     "name": "stderr",
     "output_type": "stream",
     "text": [
      "Model Summary: 213 layers, 7371523 parameters, 0 gradients, 17.0 GFLOPs\n"
     ]
    },
    {
     "name": "stdout",
     "output_type": "stream",
     "text": [
      "객체명:coffee_, 확률:0.52%\n",
      "Inferencing and Processing Done. (0.014s)\n",
      "정확도: 22 %\n"
     ]
    },
    {
     "name": "stderr",
     "output_type": "stream",
     "text": [
      "YOLOv5  v6.0-193-gdb1f83b torch 1.10.1 CUDA:0 (NVIDIA GeForce RTX 2070, 8192MiB)\n",
      "\n",
      "Fusing layers... \n"
     ]
    },
    {
     "name": "stdout",
     "output_type": "stream",
     "text": [
      "사용 모델: runs/train/300epoch/weights/best.pt\n",
      "device: cuda:0\n"
     ]
    },
    {
     "name": "stderr",
     "output_type": "stream",
     "text": [
      "Model Summary: 213 layers, 7371523 parameters, 0 gradients, 17.0 GFLOPs\n"
     ]
    },
    {
     "name": "stdout",
     "output_type": "stream",
     "text": [
      "객체명:coffee_, 확률:0.53%\n",
      "Inferencing and Processing Done. (0.014s)\n",
      "정확도: 28 %\n"
     ]
    },
    {
     "name": "stderr",
     "output_type": "stream",
     "text": [
      "YOLOv5  v6.0-193-gdb1f83b torch 1.10.1 CUDA:0 (NVIDIA GeForce RTX 2070, 8192MiB)\n",
      "\n",
      "Fusing layers... \n"
     ]
    },
    {
     "name": "stdout",
     "output_type": "stream",
     "text": [
      "사용 모델: runs/train/300epoch/weights/best.pt\n",
      "device: cuda:0\n"
     ]
    },
    {
     "name": "stderr",
     "output_type": "stream",
     "text": [
      "Model Summary: 213 layers, 7371523 parameters, 0 gradients, 17.0 GFLOPs\n"
     ]
    },
    {
     "name": "stdout",
     "output_type": "stream",
     "text": [
      "객체명:coffee_, 확률:0.54%\n",
      "Inferencing and Processing Done. (0.015s)\n",
      "정확도: 28 %\n"
     ]
    },
    {
     "name": "stderr",
     "output_type": "stream",
     "text": [
      "YOLOv5  v6.0-193-gdb1f83b torch 1.10.1 CUDA:0 (NVIDIA GeForce RTX 2070, 8192MiB)\n",
      "\n",
      "Fusing layers... \n"
     ]
    },
    {
     "name": "stdout",
     "output_type": "stream",
     "text": [
      "사용 모델: runs/train/300epoch/weights/best.pt\n",
      "device: cuda:0\n"
     ]
    },
    {
     "name": "stderr",
     "output_type": "stream",
     "text": [
      "Model Summary: 213 layers, 7371523 parameters, 0 gradients, 17.0 GFLOPs\n"
     ]
    },
    {
     "name": "stdout",
     "output_type": "stream",
     "text": [
      "객체명:coffee_, 확률:0.53%\n",
      "Inferencing and Processing Done. (0.017s)\n",
      "정확도: 16 %\n"
     ]
    },
    {
     "name": "stderr",
     "output_type": "stream",
     "text": [
      "YOLOv5  v6.0-193-gdb1f83b torch 1.10.1 CUDA:0 (NVIDIA GeForce RTX 2070, 8192MiB)\n",
      "\n",
      "Fusing layers... \n"
     ]
    },
    {
     "name": "stdout",
     "output_type": "stream",
     "text": [
      "사용 모델: runs/train/300epoch/weights/best.pt\n",
      "device: cuda:0\n"
     ]
    },
    {
     "name": "stderr",
     "output_type": "stream",
     "text": [
      "Model Summary: 213 layers, 7371523 parameters, 0 gradients, 17.0 GFLOPs\n"
     ]
    },
    {
     "name": "stdout",
     "output_type": "stream",
     "text": [
      "객체명:coffee_, 확률:0.53%\n",
      "Inferencing and Processing Done. (0.016s)\n",
      "정확도: 15 %\n",
      "사용 모델: runs/train/300epoch/weights/best.pt\n"
     ]
    },
    {
     "name": "stderr",
     "output_type": "stream",
     "text": [
      "YOLOv5  v6.0-193-gdb1f83b torch 1.10.1 CUDA:0 (NVIDIA GeForce RTX 2070, 8192MiB)\n",
      "\n",
      "Fusing layers... \n"
     ]
    },
    {
     "name": "stdout",
     "output_type": "stream",
     "text": [
      "device: cuda:0\n"
     ]
    },
    {
     "name": "stderr",
     "output_type": "stream",
     "text": [
      "Model Summary: 213 layers, 7371523 parameters, 0 gradients, 17.0 GFLOPs\n"
     ]
    },
    {
     "name": "stdout",
     "output_type": "stream",
     "text": [
      "객체명:coffee_, 확률:0.53%\n",
      "Inferencing and Processing Done. (0.017s)\n",
      "정확도: 23 %\n",
      "사용 모델: runs/train/300epoch/weights/best.pt\n"
     ]
    },
    {
     "name": "stderr",
     "output_type": "stream",
     "text": [
      "YOLOv5  v6.0-193-gdb1f83b torch 1.10.1 CUDA:0 (NVIDIA GeForce RTX 2070, 8192MiB)\n",
      "\n",
      "Fusing layers... \n"
     ]
    },
    {
     "name": "stdout",
     "output_type": "stream",
     "text": [
      "device: cuda:0\n"
     ]
    },
    {
     "name": "stderr",
     "output_type": "stream",
     "text": [
      "Model Summary: 213 layers, 7371523 parameters, 0 gradients, 17.0 GFLOPs\n"
     ]
    },
    {
     "name": "stdout",
     "output_type": "stream",
     "text": [
      "객체명:coffee_, 확률:0.54%\n",
      "Inferencing and Processing Done. (0.016s)\n",
      "정확도: 22 %\n",
      "사용 모델: runs/train/300epoch/weights/best.pt\n"
     ]
    },
    {
     "name": "stderr",
     "output_type": "stream",
     "text": [
      "YOLOv5  v6.0-193-gdb1f83b torch 1.10.1 CUDA:0 (NVIDIA GeForce RTX 2070, 8192MiB)\n",
      "\n",
      "Fusing layers... \n"
     ]
    },
    {
     "name": "stdout",
     "output_type": "stream",
     "text": [
      "device: cuda:0\n"
     ]
    },
    {
     "name": "stderr",
     "output_type": "stream",
     "text": [
      "Model Summary: 213 layers, 7371523 parameters, 0 gradients, 17.0 GFLOPs\n"
     ]
    },
    {
     "name": "stdout",
     "output_type": "stream",
     "text": [
      "객체명:coffee_, 확률:0.54%\n",
      "Inferencing and Processing Done. (0.016s)\n"
     ]
    },
    {
     "name": "stderr",
     "output_type": "stream",
     "text": [
      "YOLOv5  v6.0-193-gdb1f83b torch 1.10.1 CUDA:0 (NVIDIA GeForce RTX 2070, 8192MiB)\n",
      "\n",
      "Fusing layers... \n"
     ]
    },
    {
     "name": "stdout",
     "output_type": "stream",
     "text": [
      "정확도: 26 %\n",
      "사용 모델: runs/train/300epoch/weights/best.pt\n",
      "device: cuda:0\n"
     ]
    },
    {
     "name": "stderr",
     "output_type": "stream",
     "text": [
      "Model Summary: 213 layers, 7371523 parameters, 0 gradients, 17.0 GFLOPs\n"
     ]
    },
    {
     "name": "stdout",
     "output_type": "stream",
     "text": [
      "객체명:coffee_, 확률:0.54%\n",
      "Inferencing and Processing Done. (0.017s)\n",
      "정확도: 38 %\n"
     ]
    },
    {
     "name": "stderr",
     "output_type": "stream",
     "text": [
      "YOLOv5  v6.0-193-gdb1f83b torch 1.10.1 CUDA:0 (NVIDIA GeForce RTX 2070, 8192MiB)\n",
      "\n",
      "Fusing layers... \n"
     ]
    },
    {
     "name": "stdout",
     "output_type": "stream",
     "text": [
      "사용 모델: runs/train/300epoch/weights/best.pt\n",
      "device: cuda:0\n"
     ]
    },
    {
     "name": "stderr",
     "output_type": "stream",
     "text": [
      "Model Summary: 213 layers, 7371523 parameters, 0 gradients, 17.0 GFLOPs\n"
     ]
    },
    {
     "name": "stdout",
     "output_type": "stream",
     "text": [
      "객체명:coffee_, 확률:0.54%\n",
      "Inferencing and Processing Done. (0.015s)\n",
      "정확도: 36 %\n"
     ]
    },
    {
     "name": "stderr",
     "output_type": "stream",
     "text": [
      "YOLOv5  v6.0-193-gdb1f83b torch 1.10.1 CUDA:0 (NVIDIA GeForce RTX 2070, 8192MiB)\n",
      "\n",
      "Fusing layers... \n"
     ]
    },
    {
     "name": "stdout",
     "output_type": "stream",
     "text": [
      "사용 모델: runs/train/300epoch/weights/best.pt\n",
      "device: cuda:0\n"
     ]
    },
    {
     "name": "stderr",
     "output_type": "stream",
     "text": [
      "Model Summary: 213 layers, 7371523 parameters, 0 gradients, 17.0 GFLOPs\n"
     ]
    },
    {
     "name": "stdout",
     "output_type": "stream",
     "text": [
      "객체명:coffee_, 확률:0.54%\n",
      "Inferencing and Processing Done. (0.015s)\n",
      "정확도: 35 %\n"
     ]
    },
    {
     "name": "stderr",
     "output_type": "stream",
     "text": [
      "YOLOv5  v6.0-193-gdb1f83b torch 1.10.1 CUDA:0 (NVIDIA GeForce RTX 2070, 8192MiB)\n",
      "\n",
      "Fusing layers... \n"
     ]
    },
    {
     "name": "stdout",
     "output_type": "stream",
     "text": [
      "사용 모델: runs/train/300epoch/weights/best.pt\n",
      "device: cuda:0\n"
     ]
    },
    {
     "name": "stderr",
     "output_type": "stream",
     "text": [
      "Model Summary: 213 layers, 7371523 parameters, 0 gradients, 17.0 GFLOPs\n"
     ]
    },
    {
     "name": "stdout",
     "output_type": "stream",
     "text": [
      "객체명:coffee_, 확률:0.55%\n",
      "Inferencing and Processing Done. (0.014s)\n",
      "정확도: 28 %\n"
     ]
    },
    {
     "name": "stderr",
     "output_type": "stream",
     "text": [
      "YOLOv5  v6.0-193-gdb1f83b torch 1.10.1 CUDA:0 (NVIDIA GeForce RTX 2070, 8192MiB)\n",
      "\n",
      "Fusing layers... \n"
     ]
    },
    {
     "name": "stdout",
     "output_type": "stream",
     "text": [
      "사용 모델: runs/train/300epoch/weights/best.pt\n",
      "device: cuda:0\n"
     ]
    },
    {
     "name": "stderr",
     "output_type": "stream",
     "text": [
      "Model Summary: 213 layers, 7371523 parameters, 0 gradients, 17.0 GFLOPs\n"
     ]
    },
    {
     "name": "stdout",
     "output_type": "stream",
     "text": [
      "객체명:coffee_, 확률:0.54%\n",
      "Inferencing and Processing Done. (0.016s)\n",
      "정확도: 28 %\n"
     ]
    },
    {
     "name": "stderr",
     "output_type": "stream",
     "text": [
      "YOLOv5  v6.0-193-gdb1f83b torch 1.10.1 CUDA:0 (NVIDIA GeForce RTX 2070, 8192MiB)\n",
      "\n",
      "Fusing layers... \n"
     ]
    },
    {
     "name": "stdout",
     "output_type": "stream",
     "text": [
      "사용 모델: runs/train/300epoch/weights/best.pt\n",
      "device: cuda:0\n"
     ]
    },
    {
     "name": "stderr",
     "output_type": "stream",
     "text": [
      "Model Summary: 213 layers, 7371523 parameters, 0 gradients, 17.0 GFLOPs\n"
     ]
    },
    {
     "name": "stdout",
     "output_type": "stream",
     "text": [
      "객체명:coffee_, 확률:0.54%\n",
      "Inferencing and Processing Done. (0.016s)\n",
      "정확도: 36 %\n"
     ]
    },
    {
     "name": "stderr",
     "output_type": "stream",
     "text": [
      "YOLOv5  v6.0-193-gdb1f83b torch 1.10.1 CUDA:0 (NVIDIA GeForce RTX 2070, 8192MiB)\n",
      "\n",
      "Fusing layers... \n"
     ]
    },
    {
     "name": "stdout",
     "output_type": "stream",
     "text": [
      "사용 모델: runs/train/300epoch/weights/best.pt\n",
      "device: cuda:0\n"
     ]
    },
    {
     "name": "stderr",
     "output_type": "stream",
     "text": [
      "Model Summary: 213 layers, 7371523 parameters, 0 gradients, 17.0 GFLOPs\n"
     ]
    },
    {
     "name": "stdout",
     "output_type": "stream",
     "text": [
      "객체명:coffee_, 확률:0.54%\n",
      "Inferencing and Processing Done. (0.015s)\n",
      "정확도: 36 %\n"
     ]
    },
    {
     "name": "stderr",
     "output_type": "stream",
     "text": [
      "YOLOv5  v6.0-193-gdb1f83b torch 1.10.1 CUDA:0 (NVIDIA GeForce RTX 2070, 8192MiB)\n",
      "\n",
      "Fusing layers... \n"
     ]
    },
    {
     "name": "stdout",
     "output_type": "stream",
     "text": [
      "사용 모델: runs/train/300epoch/weights/best.pt\n",
      "device: cuda:0\n"
     ]
    },
    {
     "name": "stderr",
     "output_type": "stream",
     "text": [
      "Model Summary: 213 layers, 7371523 parameters, 0 gradients, 17.0 GFLOPs\n"
     ]
    },
    {
     "name": "stdout",
     "output_type": "stream",
     "text": [
      "객체명:coffee_, 확률:0.55%\n",
      "Inferencing and Processing Done. (0.014s)\n",
      "정확도: 51 %\n",
      "사용 모델: runs/train/300epoch/weights/best.pt\n"
     ]
    },
    {
     "name": "stderr",
     "output_type": "stream",
     "text": [
      "YOLOv5  v6.0-193-gdb1f83b torch 1.10.1 CUDA:0 (NVIDIA GeForce RTX 2070, 8192MiB)\n",
      "\n",
      "Fusing layers... \n"
     ]
    },
    {
     "name": "stdout",
     "output_type": "stream",
     "text": [
      "device: cuda:0\n"
     ]
    },
    {
     "name": "stderr",
     "output_type": "stream",
     "text": [
      "Model Summary: 213 layers, 7371523 parameters, 0 gradients, 17.0 GFLOPs\n"
     ]
    },
    {
     "name": "stdout",
     "output_type": "stream",
     "text": [
      "객체명:coffee_, 확률:0.55%\n",
      "Inferencing and Processing Done. (0.014s)\n",
      "정확도: 62 %\n"
     ]
    },
    {
     "name": "stderr",
     "output_type": "stream",
     "text": [
      "YOLOv5  v6.0-193-gdb1f83b torch 1.10.1 CUDA:0 (NVIDIA GeForce RTX 2070, 8192MiB)\n",
      "\n",
      "Fusing layers... \n"
     ]
    },
    {
     "name": "stdout",
     "output_type": "stream",
     "text": [
      "사용 모델: runs/train/300epoch/weights/best.pt\n",
      "device: cuda:0\n"
     ]
    },
    {
     "name": "stderr",
     "output_type": "stream",
     "text": [
      "Model Summary: 213 layers, 7371523 parameters, 0 gradients, 17.0 GFLOPs\n"
     ]
    },
    {
     "name": "stdout",
     "output_type": "stream",
     "text": [
      "객체명:coffee_, 확률:0.55%\n",
      "Inferencing and Processing Done. (0.016s)\n",
      "정확도: 62 %\n",
      "사용 모델: runs/train/300epoch/weights/best.pt\n"
     ]
    },
    {
     "name": "stderr",
     "output_type": "stream",
     "text": [
      "YOLOv5  v6.0-193-gdb1f83b torch 1.10.1 CUDA:0 (NVIDIA GeForce RTX 2070, 8192MiB)\n",
      "\n",
      "Fusing layers... \n",
      "Model Summary: 213 layers, 7371523 parameters, 0 gradients, 17.0 GFLOPs\n"
     ]
    },
    {
     "name": "stdout",
     "output_type": "stream",
     "text": [
      "device: cuda:0\n",
      "객체명:coffee_, 확률:0.55%\n",
      "Inferencing and Processing Done. (0.016s)\n",
      "정확도: 76 %\n"
     ]
    },
    {
     "name": "stderr",
     "output_type": "stream",
     "text": [
      "YOLOv5  v6.0-193-gdb1f83b torch 1.10.1 CUDA:0 (NVIDIA GeForce RTX 2070, 8192MiB)\n",
      "\n",
      "Fusing layers... \n"
     ]
    },
    {
     "name": "stdout",
     "output_type": "stream",
     "text": [
      "사용 모델: runs/train/300epoch/weights/best.pt\n",
      "device: cuda:0\n"
     ]
    },
    {
     "name": "stderr",
     "output_type": "stream",
     "text": [
      "Model Summary: 213 layers, 7371523 parameters, 0 gradients, 17.0 GFLOPs\n"
     ]
    },
    {
     "name": "stdout",
     "output_type": "stream",
     "text": [
      "객체명:coffee_, 확률:0.55%\n",
      "Inferencing and Processing Done. (0.016s)\n",
      "정확도: 93 %\n",
      "사용 모델: runs/train/300epoch/weights/best.pt\n"
     ]
    },
    {
     "name": "stderr",
     "output_type": "stream",
     "text": [
      "YOLOv5  v6.0-193-gdb1f83b torch 1.10.1 CUDA:0 (NVIDIA GeForce RTX 2070, 8192MiB)\n",
      "\n",
      "Fusing layers... \n"
     ]
    },
    {
     "name": "stdout",
     "output_type": "stream",
     "text": [
      "device: cuda:0\n"
     ]
    },
    {
     "name": "stderr",
     "output_type": "stream",
     "text": [
      "Model Summary: 213 layers, 7371523 parameters, 0 gradients, 17.0 GFLOPs\n"
     ]
    },
    {
     "name": "stdout",
     "output_type": "stream",
     "text": [
      "객체명:coffee_, 확률:0.55%\n",
      "Inferencing and Processing Done. (0.015s)\n",
      "정확도: 92 %\n"
     ]
    },
    {
     "name": "stderr",
     "output_type": "stream",
     "text": [
      "YOLOv5  v6.0-193-gdb1f83b torch 1.10.1 CUDA:0 (NVIDIA GeForce RTX 2070, 8192MiB)\n",
      "\n",
      "Fusing layers... \n"
     ]
    },
    {
     "name": "stdout",
     "output_type": "stream",
     "text": [
      "사용 모델: runs/train/300epoch/weights/best.pt\n",
      "device: cuda:0\n"
     ]
    },
    {
     "name": "stderr",
     "output_type": "stream",
     "text": [
      "Model Summary: 213 layers, 7371523 parameters, 0 gradients, 17.0 GFLOPs\n"
     ]
    },
    {
     "name": "stdout",
     "output_type": "stream",
     "text": [
      "객체명:coffee_, 확률:0.55%\n",
      "Inferencing and Processing Done. (0.015s)\n",
      "정확도: 95 %\n"
     ]
    },
    {
     "name": "stderr",
     "output_type": "stream",
     "text": [
      "YOLOv5  v6.0-193-gdb1f83b torch 1.10.1 CUDA:0 (NVIDIA GeForce RTX 2070, 8192MiB)\n",
      "\n",
      "Fusing layers... \n"
     ]
    },
    {
     "name": "stdout",
     "output_type": "stream",
     "text": [
      "사용 모델: runs/train/300epoch/weights/best.pt\n",
      "device: cuda:0\n"
     ]
    },
    {
     "name": "stderr",
     "output_type": "stream",
     "text": [
      "Model Summary: 213 layers, 7371523 parameters, 0 gradients, 17.0 GFLOPs\n"
     ]
    },
    {
     "name": "stdout",
     "output_type": "stream",
     "text": [
      "객체명:coffee_, 확률:0.55%\n",
      "Inferencing and Processing Done. (0.017s)\n",
      "정확도: 96 %\n"
     ]
    },
    {
     "name": "stderr",
     "output_type": "stream",
     "text": [
      "YOLOv5  v6.0-193-gdb1f83b torch 1.10.1 CUDA:0 (NVIDIA GeForce RTX 2070, 8192MiB)\n",
      "\n",
      "Fusing layers... \n"
     ]
    },
    {
     "name": "stdout",
     "output_type": "stream",
     "text": [
      "사용 모델: runs/train/300epoch/weights/best.pt\n",
      "device: cuda:0\n"
     ]
    },
    {
     "name": "stderr",
     "output_type": "stream",
     "text": [
      "Model Summary: 213 layers, 7371523 parameters, 0 gradients, 17.0 GFLOPs\n",
      "YOLOv5  v6.0-193-gdb1f83b torch 1.10.1 CUDA:0 (NVIDIA GeForce RTX 2070, 8192MiB)\n",
      "\n"
     ]
    },
    {
     "name": "stdout",
     "output_type": "stream",
     "text": [
      "객체명:coffee_, 확률:0.56%\n",
      "Inferencing and Processing Done. (0.017s)\n",
      "정확도: 96 %\n",
      "사용 모델: runs/train/300epoch/weights/best.pt\n"
     ]
    },
    {
     "name": "stderr",
     "output_type": "stream",
     "text": [
      "Fusing layers... \n"
     ]
    },
    {
     "name": "stdout",
     "output_type": "stream",
     "text": [
      "device: cuda:0\n"
     ]
    },
    {
     "name": "stderr",
     "output_type": "stream",
     "text": [
      "Model Summary: 213 layers, 7371523 parameters, 0 gradients, 17.0 GFLOPs\n"
     ]
    },
    {
     "name": "stdout",
     "output_type": "stream",
     "text": [
      "객체명:coffee_, 확률:0.56%\n",
      "Inferencing and Processing Done. (0.014s)\n",
      "정확도: 97 %\n",
      "사용 모델: runs/train/300epoch/weights/best.pt\n"
     ]
    },
    {
     "name": "stderr",
     "output_type": "stream",
     "text": [
      "YOLOv5  v6.0-193-gdb1f83b torch 1.10.1 CUDA:0 (NVIDIA GeForce RTX 2070, 8192MiB)\n",
      "\n",
      "Fusing layers... \n",
      "Model Summary: 213 layers, 7371523 parameters, 0 gradients, 17.0 GFLOPs\n"
     ]
    },
    {
     "name": "stdout",
     "output_type": "stream",
     "text": [
      "device: cuda:0\n",
      "객체명:coffee_, 확률:0.57%\n",
      "Inferencing and Processing Done. (0.013s)\n",
      "정확도: 96 %\n"
     ]
    },
    {
     "name": "stderr",
     "output_type": "stream",
     "text": [
      "YOLOv5  v6.0-193-gdb1f83b torch 1.10.1 CUDA:0 (NVIDIA GeForce RTX 2070, 8192MiB)\n",
      "\n",
      "Fusing layers... \n"
     ]
    },
    {
     "name": "stdout",
     "output_type": "stream",
     "text": [
      "사용 모델: runs/train/300epoch/weights/best.pt\n",
      "device: cuda:0\n"
     ]
    },
    {
     "name": "stderr",
     "output_type": "stream",
     "text": [
      "Model Summary: 213 layers, 7371523 parameters, 0 gradients, 17.0 GFLOPs\n"
     ]
    },
    {
     "name": "stdout",
     "output_type": "stream",
     "text": [
      "객체명:coffee_, 확률:0.56%\n",
      "Inferencing and Processing Done. (0.013s)\n",
      "정확도: 95 %\n"
     ]
    },
    {
     "name": "stderr",
     "output_type": "stream",
     "text": [
      "YOLOv5  v6.0-193-gdb1f83b torch 1.10.1 CUDA:0 (NVIDIA GeForce RTX 2070, 8192MiB)\n",
      "\n",
      "Fusing layers... \n"
     ]
    },
    {
     "name": "stdout",
     "output_type": "stream",
     "text": [
      "사용 모델: runs/train/300epoch/weights/best.pt\n",
      "device: cuda:0\n"
     ]
    },
    {
     "name": "stderr",
     "output_type": "stream",
     "text": [
      "Model Summary: 213 layers, 7371523 parameters, 0 gradients, 17.0 GFLOPs\n"
     ]
    },
    {
     "name": "stdout",
     "output_type": "stream",
     "text": [
      "객체명:coffee_, 확률:0.56%\n",
      "Inferencing and Processing Done. (0.014s)\n",
      "정확도: 84 %\n"
     ]
    },
    {
     "name": "stderr",
     "output_type": "stream",
     "text": [
      "YOLOv5  v6.0-193-gdb1f83b torch 1.10.1 CUDA:0 (NVIDIA GeForce RTX 2070, 8192MiB)\n",
      "\n",
      "Fusing layers... \n"
     ]
    },
    {
     "name": "stdout",
     "output_type": "stream",
     "text": [
      "사용 모델: runs/train/300epoch/weights/best.pt\n",
      "device: cuda:0\n"
     ]
    },
    {
     "name": "stderr",
     "output_type": "stream",
     "text": [
      "Model Summary: 213 layers, 7371523 parameters, 0 gradients, 17.0 GFLOPs\n"
     ]
    },
    {
     "name": "stdout",
     "output_type": "stream",
     "text": [
      "객체명:coffee_, 확률:0.56%\n",
      "Inferencing and Processing Done. (0.013s)\n"
     ]
    }
   ],
   "source": [
    "from flask import Flask,render_template, request, Response, redirect, url_for, abort, stream_with_context, send_file, jsonify\n",
    "from werkzeug.utils import secure_filename\n",
    "import cv2\n",
    "%cd yolov5/\n",
    "import detect_simple as ds\n",
    "\n",
    "app = Flask(__name__)\n",
    "  \n",
    "def gen_frames(file):\n",
    "    size = (480,240)\n",
    "    #업로드 한 영상을 파일 로드 하는 부분\n",
    "    cap = cv2.VideoCapture(os.path.join('./',file))\n",
    "    while True:\n",
    " \n",
    "        # # Capture frame-by-frame. Return boolean(True=frame read correctly. )\n",
    "        success, frame = cap.read()  # read the camera frame\n",
    "        if not success:\n",
    "            break\n",
    "        else:\n",
    "            #범용성 있게 쓰겠금 변수선언\n",
    "            resultImage = ''\n",
    "            #모션분류 (상민씨)\n",
    "            mt_frame,mt_anwser,mt_per = motion_model_run(frame)\n",
    "            #Yolov5 객체탐지 (서인원,김정식)\n",
    "            yl_img , yl_result = ds.detect(mt_frame)\n",
    "            \n",
    "            #원본이미지의 각 결과값 (모션분류 결과 이미지) + 객체탐지 ( 결과 이미지 )\n",
    "            \n",
    "            #cv2.rectangle(yl_img,(0,0),(90,20),(255,255,255),-1)\n",
    "            #cv2.putText(yl_img, str(mt_anwser), (10,15),cv2.FONT_HERSHEY_SIMPLEX,0.4,(0,0,0),1,cv2.LINE_AA)\n",
    "            #print(\"정확도:\",str(mt_per)+\" %\")\n",
    "            #cv2.putText(yl_img, str(mt_per)+\" %\", (55,15),cv2.FONT_HERSHEY_SIMPLEX,0.4,(0,0,0),1,cv2.LINE_AA)\n",
    "            \n",
    "            if 'CATCH' in mt_anwser:\n",
    "                #print(\"캐치 하였음!\")\n",
    "                #상우 로직 작동 태울 것.\n",
    "                \n",
    "                \n",
    "                \n",
    "                #이미지 좌우 합치기\n",
    "                front_result = cv2.resize(yl_img,size) #front : 모션분류 , 객체탐지 처리완료된 이미지\n",
    "                back_result = cv2.resize(mt_frame,size) #back : 상황 캐치  , 얼굴 탐지 \n",
    "                #좌우 합치기\n",
    "                resultImage = np.hstack((front_result,back_result))\n",
    "            # 절도 아닌 이상\n",
    "            else :\n",
    "                #print(\"절도 아닌 상황!\")\n",
    "                resultImage = yl_img\n",
    "            # q를 누르면 종료\n",
    "            if cv2.waitKey(10) & 0xFF == ord('q'):\n",
    "                break \n",
    "\n",
    "            #GPU 사용하기위해서 메모리 제거\n",
    "            gc.collect()\n",
    "            torch.cuda.empty_cache()\n",
    "            \n",
    "            #리턴받는것\n",
    "            ret, buffer = cv2.imencode('.jpg', resultImage)\n",
    "            #객체인식관련 코드 \n",
    "            frame = buffer.tobytes()\n",
    "            yield (b'--frame\\r\\n'\n",
    "                   b'Content-Type: image/jpeg\\r\\n\\r\\n' + frame + b'\\r\\n')  # concat frame one by one and show result\n",
    " \n",
    " \n",
    "@app.route('/video_feed', methods=[\"GET\"])\n",
    "def video_feed():\n",
    "    return Response(gen_frames(),\n",
    "                    mimetype='multipart/x-mixed-replace; boundary=frame')\n",
    "\n",
    "@app.route('/', methods=[\"GET\",'POST'])\n",
    "def render_file():\n",
    "    return render_template(\"upload.html\") # 업로드용 페이지 html 보여주기\n",
    "\n",
    "#파일 업로드 처리\n",
    "@app.route(\"/fileUpload\", methods=['GET',\"POST\"])\n",
    "def file_upload():\n",
    "    if request.method=='POST':\n",
    "        f = request.files[\"file\"] # html <input name= \"file\">        \n",
    "        \n",
    "        #업로드 할때 파일 이름 출력\n",
    "        FILE_NAME = f.filename \n",
    "        f.save(secure_filename(f.filename)) # test_park.mp4\n",
    "        \n",
    "        return Response(gen_frames(f.filename),\n",
    "                    mimetype='multipart/x-mixed-replace; boundary=frame')\n",
    "@app.route(\"/view\") \n",
    "def view(): \n",
    "    return render_template(\"view.html\", image_file=f\"./static/{FILE_NAME}.jpg\") # html페이지를 보내기\n",
    "\n",
    "@app.route(\"/view2\")\n",
    "def view2():\n",
    "    return send_file(f\"./static/{FILE_NAME}.jpg\") # 이미지 파일만 보내기\n",
    "\n",
    "if __name__ == '__main__':\n",
    "    global mt_model\n",
    "    mt_model = load_model(\"./test_set/modelAbur5.npz.h5\")\n",
    "    app.run(host='121.147.0.176',port=2000)\n",
    "    app.debug=True"
   ]
  },
  {
   "cell_type": "code",
   "execution_count": null,
   "id": "14835281",
   "metadata": {},
   "outputs": [],
   "source": [
    "!python detect.py --weights ./runs/train/300epoch/weights/best.pt --img 240 --conf 0.25 --source ./test_data//\n",
    "#가장 최근 만들어진 폴더찾고 그 경로로 설정해주기\n",
    "#source 집어넣을때 이름은 있음. exp...만드는데.. 아 +1 시켜가지고 가져오기.\n",
    "dir_list = os.listdir('./test_data/')\n",
    "result_list = os.listdir('./runs/detect/')\n",
    "count = len(result_list)\n",
    "\n",
    "if count == 1 : \n",
    "    count = ''\n",
    "    \n",
    "print(count)\n",
    "\n",
    "#for filename in dir_list:\n",
    "#    target = './runs/detect/'+f'exp{str(count)}/'+filename\n",
    "#    print('타겟스'+target)\n",
    "#    display(Image(filename=target,width=240,height=240))"
   ]
  },
  {
   "cell_type": "code",
   "execution_count": null,
   "id": "0bbef982",
   "metadata": {},
   "outputs": [],
   "source": [
    "# 모델 저장  처리단계\n",
    "from models.yolo import Model\n",
    "device = torch.device(\"cpu\")\n",
    "#device = torch.device(\"cuda\")\n",
    "yaml_path = './models/yolov5s.yaml'\n",
    "new_weights='./runs/train/300epoch/weights/best.pt'\n",
    "model= Model(yaml_path).to(device)\n",
    "trained_model = torch.load(new_weights,map_location=device)['model'].to(device)"
   ]
  },
  {
   "cell_type": "code",
   "execution_count": null,
   "id": "85e5292e",
   "metadata": {},
   "outputs": [],
   "source": [
    "#실제 모델 저장하는 부분\n",
    "torch.save(trained_model,'best_1.h5')"
   ]
  },
  {
   "cell_type": "code",
   "execution_count": null,
   "id": "a949a988",
   "metadata": {},
   "outputs": [],
   "source": [
    "%cd yolov5/"
   ]
  },
  {
   "cell_type": "code",
   "execution_count": null,
   "id": "d96dad88",
   "metadata": {},
   "outputs": [],
   "source": [
    "#모델 로드 하는 부분\n",
    "loaded_model=torch.load('./best_1.pt')"
   ]
  },
  {
   "cell_type": "code",
   "execution_count": null,
   "id": "7019c777",
   "metadata": {},
   "outputs": [],
   "source": [
    "loaded_model.load_state_dict"
   ]
  },
  {
   "cell_type": "code",
   "execution_count": null,
   "id": "2acf529c",
   "metadata": {
    "scrolled": true
   },
   "outputs": [],
   "source": [
    "loaded_model.names"
   ]
  },
  {
   "cell_type": "code",
   "execution_count": null,
   "id": "57324a6e",
   "metadata": {},
   "outputs": [],
   "source": [
    "from PIL import Image\n",
    "import torchvision\n",
    "from torchvision import transforms\n",
    "import numpy as np\n",
    "#from utils.datasets import letterbox"
   ]
  },
  {
   "cell_type": "code",
   "execution_count": null,
   "id": "63f36612",
   "metadata": {},
   "outputs": [],
   "source": [
    "loaded_model=torch.load('./best_1.h5')\n",
    "\n",
    "#이미지 경로\n",
    "imgpath = './test_data/amond.jpg'\n",
    "#img = '../zidane.jpg'\n",
    "#img=cv2.imread(imgpath)\n",
    "img = Image.open(imgpath)\n",
    "tf = transforms.ToTensor()\n",
    "img_t = tf(img)\n",
    "print(type(img))"
   ]
  },
  {
   "cell_type": "code",
   "execution_count": null,
   "id": "d090f3d0",
   "metadata": {},
   "outputs": [],
   "source": [
    "img_t = img_t.resize_(32, 3, 6, 6)\n",
    "print(img_t)"
   ]
  },
  {
   "cell_type": "code",
   "execution_count": null,
   "id": "04ef41b6",
   "metadata": {},
   "outputs": [],
   "source": [
    "results = loaded_model(img_t)"
   ]
  },
  {
   "cell_type": "code",
   "execution_count": null,
   "id": "2cc964c0",
   "metadata": {},
   "outputs": [],
   "source": [
    "for result in results.crop():\n",
    "    print(result['label'].uni)"
   ]
  },
  {
   "cell_type": "markdown",
   "id": "05da8df9",
   "metadata": {},
   "source": [
    "# 재학습 하는 코딩 ( 기존 가중치 파일 ++누적 하고자할때 쓰는 코드)\n",
    "#### 나중에 함수화 진행 예정 \n",
    "- !python val.py --weights yolov5x.pt --data coco.yaml --img 640 --iou 0.65 --half"
   ]
  },
  {
   "cell_type": "code",
   "execution_count": null,
   "id": "1b304b27",
   "metadata": {},
   "outputs": [],
   "source": [
    "#모델 샘플 코드\n",
    "# Model\n",
    "model = torch.hub.load('ultralytics/yolov5', 'yolov5s')  # or yolov5m, yolov5l, yolov5x, custom\n",
    "# Images\n",
    "img = 'https://ultralytics.com/images/zidane.jpg'  # or file, Path, PIL, OpenCV, numpy, list\n",
    "# Inference\n",
    "#print(model.load_state_dict)\n",
    "results = model(img)\n",
    "\n",
    "# Results\n",
    "results.print()  # or .show(), .save(), .crop(), .pandas(), etc."
   ]
  },
  {
   "cell_type": "code",
   "execution_count": null,
   "id": "b6c4d6e4",
   "metadata": {},
   "outputs": [],
   "source": [
    "for result in results.crop():\n",
    "    print(result['label'])"
   ]
  },
  {
   "cell_type": "code",
   "execution_count": null,
   "id": "c62f4006",
   "metadata": {},
   "outputs": [],
   "source": []
  }
 ],
 "metadata": {
  "kernelspec": {
   "display_name": "Python 3 (ipykernel)",
   "language": "python",
   "name": "python3"
  },
  "language_info": {
   "codemirror_mode": {
    "name": "ipython",
    "version": 3
   },
   "file_extension": ".py",
   "mimetype": "text/x-python",
   "name": "python",
   "nbconvert_exporter": "python",
   "pygments_lexer": "ipython3",
   "version": "3.7.11"
  }
 },
 "nbformat": 4,
 "nbformat_minor": 5
}
